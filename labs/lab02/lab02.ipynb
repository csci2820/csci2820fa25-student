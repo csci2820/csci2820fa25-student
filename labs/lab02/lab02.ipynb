{
 "cells": [
  {
   "cell_type": "code",
   "execution_count": null,
   "metadata": {
    "deletable": false,
    "editable": false
   },
   "outputs": [],
   "source": [
    "# Initialize Otter\n",
    "import otter\n",
    "grader = otter.Notebook(\"lab02.ipynb\")"
   ]
  },
  {
   "cell_type": "markdown",
   "metadata": {},
   "source": [
    "<a id='verytop'></a>\n",
    "\n",
    "# Lab 2: Linear Transformations and Geometry\n",
    "\n",
    "## Due Date: Thurs, Sept 18th 11:59 PM on Gradescope\n",
    "\n",
    "\n",
    "### Detailed Submission Instructions Are Provided at the end of this Notebook\n",
    "\n",
    "\n",
    "## Collaboration Policy\n",
    "\n",
    "A key step in learning and retention is **creating solutions on your own.**   Below are examples of acceptable vs unacceptable use of resources and collaboration when doing lab assignments in CSCI 2820.\n",
    "\n",
    "\n",
    "The following would be some **examples of cheating** when working on HW assignments in CSCI 2820.  Any of these constitute a **violation of the course's collaboration policy and will result in an F in the course and a trip to the honor council**.   \n",
    "\n",
    "\n",
    " - Consulting web pages that may have a solution to a given lab problem or one similar is cheating.  However, consulting notes from the class videos, and web pages that explain the material taught in class but do NOT show a solution to the lab problem in question are permissible to view.  Clearly, there's a fuzzy line here between a valid use of resources and cheating. To avoid this line, one should merely consult the course videos, the course textbooks, and references that contain syntax and/or formulas.\n",
    " - Copying a segment of code or math solution of three lines or more from another student from a printout, handwritten copy, or by looking at their computer screen \n",
    " - Allowing another student to copy a segment of your code or math solution of three lines or more\n",
    " - Taking a copy of another student's work (or a solution found online) and then editing that copy\n",
    " - Reading someone else’s solution to a problem on the lab before writing your own.\n",
    " - Asking someone to write all or part of a program or solution for you.\n",
    " - Asking someone else for the code necessary to fix the error for you, other than for simple syntactical errors\n",
    " \n",
    "\n",
    "\n",
    "On the other hand, the following are some **examples of things which would NOT usually be\n",
    "considered to be cheating**:\n",
    " - Working on a lab problem on your own first and then discussing with a classmate a particular part in the problem solution where you are stuck.  After clarifying any questions you should then continue to write your solution independently.\n",
    " - Asking someone (or searching online) how a particular construct in the language works.\n",
    " - Asking someone (or searching online) how to formulate a particular construct in the language.\n",
    " - Asking someone for help in finding an error in your program.  \n",
    " - Asking someone why a particular construct does not work as you expected in a given program.\n",
    "   \n",
    "\n",
    "To test whether you are truly doing your own work and retaining what you've learned you should be able to easily reproduce from scratch and explain a lab solution that was your own when asked in office hours by a TA/Instructor or on a quiz/exam.   \n",
    "\n",
    "\n",
    "If you have difficulty in formulating the general solution to a problem on your own, or\n",
    "you have difficulty in translating that general solution into a program, it is advisable to see\n",
    "your instructor or teaching assistant rather than another student as this situation can easily\n",
    "lead to a, possibly inadvertent, cheating situation.\n",
    "\n",
    "We are here to help!  Visit office Hours and/or post questions on Piazza!\n",
    "\n"
   ]
  },
  {
   "cell_type": "markdown",
   "metadata": {},
   "source": [
    "## Grading\n",
    "Grading is broken down into autograded answers and manually graded answers. \n",
    "\n",
    "For autograded answers, the results of your code are compared to provided and/or hidden tests.\n",
    "\n",
    "For manually graded answers you must show and explain all steps.  Graders will evaluate how well you answered the question and/or fulfilled the requirements of the question.\n"
   ]
  },
  {
   "cell_type": "markdown",
   "metadata": {},
   "source": [
    "<hr style=\"border: 5px solid #003262;\" />\n",
    "<hr style=\"border: 1px solid #fdb515;\" />\n"
   ]
  },
  {
   "cell_type": "markdown",
   "metadata": {},
   "source": [
    "\n"
   ]
  },
  {
   "cell_type": "code",
   "execution_count": null,
   "metadata": {},
   "outputs": [],
   "source": [
    "# import SymPy with alias sp\n",
    "import sympy as sp\n",
    "\n",
    "\n",
    "# Function needed to run in-notebook tests\n",
    "import hashlib\n",
    "\n",
    "def get_hash(num):\n",
    "    \"\"\"Helper function for assessing correctness\"\"\"\n",
    "    return hashlib.md5(str(num).encode()).hexdigest()\n",
    "\n",
    "\n",
    "def get_array_hash_normalized(arr):\n",
    "    \"\"\"Hash numpy array ignoring dtype differences (values only).\"\"\"\n",
    "    arr = np.asarray(arr, dtype=float)  # normalize to float\n",
    "    return hashlib.md5(arr.tobytes() + str(arr.shape).encode()).hexdigest()"
   ]
  },
  {
   "cell_type": "markdown",
   "metadata": {},
   "source": [
    "### NumPy module:\n",
    "\n",
    "𝐍𝐮𝐦𝐏𝐲  (short for \"Numeric Python\") is an open source Python module for scientific computing. NumPy supports large, multidimensional arrays and matrices. It also supports a large collection of mathematical functions not found in Python's standard math library.\n",
    "\n",
    "It's custom in data science to import Numpy  with the alias $\\texttt{np}$.  We can then ***access any mathematical function in the Numpy library by prepending function names by $\\texttt{np}$***\n",
    "\n",
    "For a more in-depth description of methods and attributes built into Numpy see here:  https://numpy.org/doc/stable/user/quickstart.html   \n",
    "and  here:  https://numpy.org/doc/stable/reference/routines.math.html\n",
    "\n",
    "*Hint: If you press `shift+tab` while next to the function call, the documentation for that function will appear.*"
   ]
  },
  {
   "cell_type": "code",
   "execution_count": null,
   "metadata": {},
   "outputs": [],
   "source": [
    "# Run this cell\n",
    "import numpy as np"
   ]
  },
  {
   "cell_type": "markdown",
   "metadata": {},
   "source": [
    "**Vectors in NumPy:**\n",
    "\n",
    "To create the vector $$v = \\left[\\begin{array}{r} -1 \\\\ 3 \\\\ 2 \\end{array} \\right]$$  in NumPy we can use the following syntax:"
   ]
  },
  {
   "cell_type": "code",
   "execution_count": null,
   "metadata": {},
   "outputs": [],
   "source": [
    "v = np.array([[-1],[3], [2]])\n",
    "v"
   ]
  },
  {
   "cell_type": "code",
   "execution_count": null,
   "metadata": {},
   "outputs": [],
   "source": [
    "# To create a 3D vector of all zeros:\n",
    "np.zeros((3,1))"
   ]
  },
  {
   "cell_type": "markdown",
   "metadata": {},
   "source": [
    "**Matrices in NumPy:**\n",
    "\n",
    "To create the matrix $$\n",
    "\\begin{equation}\n",
    "A = \\left[\\begin{array}{rrr} 1 & 1 & 0 \\\\ 1 & 0 & 2 \\\\ 3 & 1 & -1 \\end{array}\\right]\n",
    "\\end{equation}\n",
    "$$ in NumPy we can use the following syntax:"
   ]
  },
  {
   "cell_type": "code",
   "execution_count": null,
   "metadata": {},
   "outputs": [],
   "source": [
    "A = np.array([[1,1,0],[1,0,2],[3,1,-1]])\n",
    "A"
   ]
  },
  {
   "cell_type": "markdown",
   "metadata": {},
   "source": [
    "**Accessing elements in vectors and matrices in NumPy**\n",
    "\n",
    "Accessing elements in a NumPy array is done through indexing.  \n",
    "You provide indices for each dimension, separated by commas, within a single set of square brackets. The order of indices typically corresponds to (row, column) for 2D arrays.  NumPy arrays are 0-indexed, meaning the first element is at index 0. \n"
   ]
  },
  {
   "cell_type": "code",
   "execution_count": null,
   "metadata": {},
   "outputs": [],
   "source": [
    "# To access the element in the 2nd row and 3rd column in A:\n",
    "A[1,2]"
   ]
  },
  {
   "cell_type": "code",
   "execution_count": null,
   "metadata": {},
   "outputs": [],
   "source": [
    "# To access the 2nd entry in the vector v:\n",
    "\n",
    "v[1,0]"
   ]
  },
  {
   "cell_type": "markdown",
   "metadata": {},
   "source": [
    "**Matrix-Vector or Matrix-Matrix Multiplication in NumPy**\n",
    "\n",
    "To multiply a matrix times a vector (or a matrix times another matrix) in NumPy we can use the `@` operator:  "
   ]
  },
  {
   "cell_type": "code",
   "execution_count": null,
   "metadata": {},
   "outputs": [],
   "source": [
    "#Multiply A and v by hand and then run this cell to check your answer.\n",
    "\n",
    "A@v"
   ]
  },
  {
   "cell_type": "markdown",
   "metadata": {},
   "source": [
    "### Linear Transformations"
   ]
  },
  {
   "cell_type": "markdown",
   "metadata": {},
   "source": [
    "\n",
    "A **mapping** between vector spaces is a rule that associates input vectors with output vectors.  We say that the input vectors get \"mapped\" to the output vectors.  The input and output vectors may be in different spaces, or they may be in the same space.  There may be multiple input vectors that get mapped to a single output vector, but it is important that each input vector gets mapped to a unique output vector.  In the language of calculus, mappings are known as functions.\n",
    "\n",
    "\n",
    "When we refer to a specific map, we might use a symbol, such as $T$.  In order to specify which spaces contain the input and output vectors, say $\\mathbb{R}^2$ and $\\mathbb{R}^3$, we write $T: \\mathbb{R}^2 \\to \\mathbb{R}^3$.  This notation means that $T$ is a mapping that takes vectors in $\\mathbb{R}^2$ as inputs, and maps them to vectors in $\\mathbb{R}^3$.  When we refer to the output associated with a specific vector, say $V$, we use the notation $T(V)$.  (*This notation is read \"$T$ of $V$\"*).  Finally, if we wish to label the output vector as $W$, we will write $T(V)=W$, meaning that the input vector $V$ gets mapped to the output vector $W$ by the map $T$.  The vector $W$ is said to be the **image** of $V$ under the map $T$.  Similarly, the vector $V$ is said to be the **preimage** of $W$."
   ]
  },
  {
   "cell_type": "markdown",
   "metadata": {},
   "source": [
    "<img src=\"img/mapping.png\"> "
   ]
  },
  {
   "cell_type": "markdown",
   "metadata": {},
   "source": [
    "### Example 1:  Transformation from $\\mathbb{R}^2$ to $\\mathbb{R}^3$\n",
    "\n",
    "A Python function that accepts one vector as an argument, and provides one vector in return, is a perfect model of a mapping.  As an example, let's write a function that accepts a vector from $\\mathbb{R}^2$ and returns a vector in $\\mathbb{R}^3$."
   ]
  },
  {
   "cell_type": "code",
   "execution_count": null,
   "metadata": {},
   "outputs": [],
   "source": [
    "# Run this cell:\n",
    "def T(V):\n",
    "    #Create a 3D vector with all zeros\n",
    "    W = np.zeros((3,1))\n",
    "    #Assign the first element in the vector W to be twice the first element in vector V\n",
    "    W[0,0] = 2*V[0,0]\n",
    "    # Assign the 3rd element in the vector W to be the 2nd element in the vector V\n",
    "    W[2,0] = V[1,0]\n",
    "    return W\n",
    "\n"
   ]
  },
  {
   "cell_type": "code",
   "execution_count": null,
   "metadata": {},
   "outputs": [],
   "source": [
    "# Evaluate T(V) for a specific vector V:\n",
    "\n",
    "V = np.array([[3],[5]])\n",
    "W = T(V)\n",
    "\n",
    "print(V,'\\n\\n',W)"
   ]
  },
  {
   "cell_type": "markdown",
   "metadata": {},
   "source": [
    "We can describe this mapping $T:\\mathbb{R}^2 \\to \\mathbb{R}^3$ with the following symbolic formula.\n",
    "\n",
    "$$\n",
    "\\begin{equation}\n",
    "T \\left(\\left[\\begin{array}{r} v_1 \\\\ v_2 \\end{array} \\right]\\right) = \n",
    "\\left[\\begin{array}{r} 2v_1 \\\\ 0  \\\\ v_2 \\end{array} \\right]\n",
    "\\end{equation}\n",
    "$$\n",
    "\n"
   ]
  },
  {
   "cell_type": "markdown",
   "metadata": {},
   "source": [
    "### Linearity\n",
    "\n",
    "A map $T$ is said to be *linear* if the following two properties are true for any scalar $k$, and any input vectors $U$ and $V$.  \n",
    "\n",
    "- $T(kV)$ = $kT(V)$\n",
    "- $T(U + V)$ = $T(U) + T(V)$\n",
    "\n",
    "A linear map is referred to as a **linear transformation**."
   ]
  },
  {
   "cell_type": "markdown",
   "metadata": {},
   "source": [
    "The map $T$ in **Example 1** is a linear transformation.   We can prove this as follows: \n",
    "\n",
    "$$\n",
    "\\begin{eqnarray*}\n",
    "T(kV)  = T \\left(\\left [\\begin{array}{r} kv_1 \\\\ kv_2 \\end{array} \\right]\\right) & = & \n",
    "\\left[\\begin{array}{r} 2kv_1 \\\\ 0  \\\\ kv_2 \\end{array} \\right] =\n",
    "k\\left[\\begin{array}{r} 2v_1 \\\\ 0  \\\\ v_2 \\end{array} \\right] = kT(V)\\\\ \n",
    "\\\\\n",
    "T(U+V) = T \\left(\\left [\\begin{array}{r} u_1 + v_1 \\\\ u_2 + v_2 \\end{array} \\right]\\right) & = & \n",
    "\\left[\\begin{array}{r} 2u_1 \\\\ 0  \\\\ u_2 \\end{array} \\right] +\n",
    "\\left[\\begin{array}{r} 2v_1 \\\\ 0  \\\\ v_2 \\end{array} \\right] = T(U) + T(V)\n",
    "\\end{eqnarray*}\n",
    "$$\n",
    "\n",
    "If we choose specific vectors $U$ and $V$, and a specific scalar $k$, we can compute the left and right sides of these equations with syntax that matches the notation"
   ]
  },
  {
   "cell_type": "code",
   "execution_count": null,
   "metadata": {},
   "outputs": [],
   "source": [
    "U = np.array([[-1],[3]])\n",
    "V = np.array([[3],[5]])\n",
    "k = 7\n",
    "print(T(k*V),'\\n')\n",
    "print(k*T(V),'\\n')\n",
    "print(T(U+V),'\\n')\n",
    "print(T(U)+T(V))"
   ]
  },
  {
   "cell_type": "markdown",
   "metadata": {},
   "source": [
    "Showing these equations hold for a *specific choice* of $U$, $V$, and $k$ does not prove that the transformation is linear.  Even if we were to run this code inside a loop and see that the equations held for a million random combinations of $U$, $V$, and $k$, that would still not *prove* that the transformation is linear.  It would however provide numerical evidence to support the claim.  "
   ]
  },
  {
   "cell_type": "markdown",
   "metadata": {
    "deletable": false,
    "editable": false
   },
   "source": [
    "<hr style=\"border: 5px solid #003262;\" />\n",
    "<hr style=\"border: 1px solid #fdb515;\" />\n",
    "\n",
    "\n",
    "## <span style='color:Red'>   Question 1a (1 pt) ###\n",
    "\n",
    "Let $T(V)$ be defined as above.  Find the vector $T(V)$ where\n",
    "\n",
    "$$\n",
    "\\begin{equation}\n",
    "V = \\left[\\begin{array}{r} 1 \\\\ 3 \\end{array} \\right]\n",
    "\\end{equation}\n",
    "$$"
   ]
  },
  {
   "cell_type": "code",
   "execution_count": null,
   "metadata": {
    "tags": [
     "otter_answer_cell"
    ]
   },
   "outputs": [],
   "source": [
    "V = ...\n",
    "\n",
    "T_of_V = ...\n",
    "\n",
    "#print T(V)\n",
    "print(T_of_V)"
   ]
  },
  {
   "cell_type": "code",
   "execution_count": null,
   "metadata": {
    "deletable": false,
    "editable": false
   },
   "outputs": [],
   "source": [
    "grader.check(\"q1a\")"
   ]
  },
  {
   "cell_type": "markdown",
   "metadata": {
    "deletable": false,
    "editable": false
   },
   "source": [
    "## <span style='color:Red'>   Question 1b (1 pt) ###\n",
    "\n",
    "Find the vector $U$ so that \n",
    "\n",
    "$$\n",
    "\\begin{equation}\n",
    "T(U) = \\left[\\begin{array}{r} 10 \\\\ 0 \\\\ -1 \\end{array} \\right]\n",
    "\\end{equation}\n",
    "$$\n",
    "\n",
    "(Do this by hand and enter in your answer below)\n"
   ]
  },
  {
   "cell_type": "code",
   "execution_count": null,
   "metadata": {
    "tags": [
     "otter_answer_cell"
    ]
   },
   "outputs": [],
   "source": [
    "U = ...\n",
    "\n",
    "\n",
    "print(U)"
   ]
  },
  {
   "cell_type": "code",
   "execution_count": null,
   "metadata": {
    "deletable": false,
    "editable": false
   },
   "outputs": [],
   "source": [
    "grader.check(\"q1b\")"
   ]
  },
  {
   "cell_type": "markdown",
   "metadata": {
    "deletable": false,
    "editable": false
   },
   "source": [
    "## <span style='color:Red'>   Question 1c (3 pts) ###\n",
    "\n",
    "Write a Python function that implements the transformation $N:\\mathbb{R}^3\\to\\mathbb{R}^2$, given by the following rule.  \n",
    "\n",
    "$$\n",
    "\\begin{equation}\n",
    "N \\left(\\left[\\begin{array}{r} v_1 \\\\ v_2 \\\\ v_3 \\end{array} \\right]\\right) = \n",
    "\\left[\\begin{array}{c} 8v_2 \\\\  v_1 + v_3 + 3 \\end{array} \\right]\n",
    "\\end{equation}\n",
    "$$\n"
   ]
  },
  {
   "cell_type": "code",
   "execution_count": null,
   "metadata": {
    "tags": [
     "otter_answer_cell"
    ]
   },
   "outputs": [],
   "source": [
    "def N(V):\n",
    "    ...\n",
    "    \n",
    "    return W"
   ]
  },
  {
   "cell_type": "code",
   "execution_count": null,
   "metadata": {
    "deletable": false,
    "editable": false
   },
   "outputs": [],
   "source": [
    "grader.check(\"q1c\")"
   ]
  },
  {
   "cell_type": "markdown",
   "metadata": {
    "deletable": false,
    "editable": false
   },
   "source": [
    "<!-- BEGIN QUESTION -->\n",
    "\n",
    "## <span style='color:Red'>   Question 1d (2 pts) ###\n",
    "\n",
    "Is the transformation $N$ a linear transformation?  If so, prove it using the definition of linear transformations.  If not, give a counterexample."
   ]
  },
  {
   "cell_type": "markdown",
   "metadata": {
    "tags": [
     "otter_answer_cell"
    ]
   },
   "source": [
    "**Type your work answering Question 1d** in this cell.   If your answer is yes, type your proof here.  If your answer is no, give a countexample in this cell (use LaTeX for any math notation).  Do not add any additional cells to this part.  "
   ]
  },
  {
   "cell_type": "code",
   "execution_count": null,
   "metadata": {
    "tags": [
     "otter_answer_cell"
    ]
   },
   "outputs": [],
   "source": [
    "# Optional cell for any code you want to use when exploring this question \n",
    "#(this cell will not be graded, so make sure your full answer is in the Markdown cell above)\n",
    "\n"
   ]
  },
  {
   "cell_type": "markdown",
   "metadata": {
    "deletable": false,
    "editable": false
   },
   "source": [
    "<!-- END QUESTION -->\n",
    "\n",
    "### Example 2:  Transformation defined as matrix multiplication\n",
    "\n",
    "Let $L:\\mathbb{R}^3 \\to \\mathbb{R}^3$ be defined by $L(X)= AX$ where $A$ is the following matrix.\n",
    "\n",
    "$$\n",
    "\\begin{equation}\n",
    "A = \\left[\\begin{array}{rrr} 1 & 1 & 0 \\\\ 1 & 0 & 2 \\\\ 3 & 1 & -1 \\end{array}\\right]\n",
    "\\end{equation}\n",
    "$$\n",
    "\n",
    "Since matrix multiplication is linear, a transformation defined by matrix multiplication is linear as well.  If $X$ and $Y$ are any vectors in $\\mathbb{R}^3$, and $k$ is any scalar, then $L(X+Y) = A(X+Y) = AX + AY = L(X) + L(Y)$ and $L(kX) = A(kX) = k(AX) = kL(X)$.  We define a function for this transformation as well."
   ]
  },
  {
   "cell_type": "code",
   "execution_count": null,
   "metadata": {},
   "outputs": [],
   "source": [
    "def L(V):\n",
    "    A = np.array([[1,1,0],[1,0,2],[3,1,-1]])\n",
    "    W = A@V\n",
    "    return W\n",
    "\n"
   ]
  },
  {
   "cell_type": "code",
   "execution_count": null,
   "metadata": {},
   "outputs": [],
   "source": [
    "# Evaluate L(V) for a specific V\n",
    "\n",
    "V = np.array([[1],[3],[5]])\n",
    "W = T(V)\n",
    "\n",
    "#Print out both V and W:\n",
    "print(V,'\\n\\n',W)"
   ]
  },
  {
   "cell_type": "markdown",
   "metadata": {},
   "source": [
    "### Compositions\n",
    "\n",
    "If two transformations are to be applied, one after the other, it is common to combine them to form what is known as a **composition**.  This idea only makes sense when the output space of the first transformation matches the input space of the second.  In symbols, if $T:\\mathbb{U}\\to\\mathbb{V}$ and $L:\\mathbb{V}\\to\\mathbb{W}$, then we could consider the composition $L\\circ T:\\mathbb{U}\\to\\mathbb{W}$.  The notation $L\\circ T$ represents the composition formed by applying the map $T$, followed by the map $L$.\n",
    "\n",
    "As an example, if we take $T:\\mathbb{R}^2 \\to \\mathbb{R}^3$ and $L:\\mathbb{R}^3 \\to \\mathbb{R}^3$ to be the transformations defined in **Example 2** and **Example 3**, we could define $L\\circ T:\\mathbb{R}^2 \\to \\mathbb{R}^3$.\n",
    "\n",
    "$$\n",
    "\\begin{equation}\n",
    "(L\\circ T)\\left(\\left[\\begin{array}{r} v_1 \\\\ v_2 \\end{array} \\right]\\right) = \n",
    "\\left[\\begin{array}{rrr} 1 & 1 & 0 \\\\ 1 & 0 & 2 \\\\ 3 & 1 & -1 \\end{array}\\right]\n",
    "\\left[\\begin{array}{r} 2v_1 \\\\ 0  \\\\ v_2 \\end{array} \\right]\n",
    "\\end{equation}\n",
    "$$\n",
    "\n",
    "We can calculate outputs from this transformation by calling the functions we defined earlier *in the appropriate order*, using the output from $T$ as the input to $L$."
   ]
  },
  {
   "cell_type": "code",
   "execution_count": null,
   "metadata": {},
   "outputs": [],
   "source": [
    "V = np.array([[3],[5]])\n",
    "composition_output = L(T(V))\n",
    "print(composition_output)"
   ]
  },
  {
   "cell_type": "markdown",
   "metadata": {
    "deletable": false,
    "editable": false
   },
   "source": [
    "<hr style=\"border: 5px solid #003262;\" />\n",
    "<hr style=\"border: 1px solid #fdb515;\" />\n",
    "\n",
    "\n",
    "## <span style='color:Red'>   Question 2a (4 pts) \n",
    "\n",
    " Consider the two transformations, $S$ and $R$, defined below.  Write a Python function that implements the composition $R\\circ S$.  \n",
    "\n",
    "$$\n",
    "\\begin{equation}\n",
    "S \\left(\\left[\\begin{array}{r} v_1 \\\\ v_2 \\\\ v_3 \\end{array} \\right]\\right) = \n",
    "\\left[\\begin{array}{c}   v_1 + v_2 \\\\  3v_3 \\end{array} \\right]\n",
    "\\end{equation}\n",
    "$$\n",
    "\n",
    "$$\n",
    "\\begin{equation}\n",
    "R \\left(\\left[\\begin{array}{r} v_1 \\\\ v_2  \\end{array} \\right]\\right) = \n",
    "\\left[\\begin{array}{rr} 3 &  0 \\\\ -1 & 1 \\end{array}\\right]\n",
    "\\left[\\begin{array}{c}   v_1 \\\\ v_2 \\end{array} \\right]\n",
    "\\end{equation}\n",
    "$$\n",
    "  \n"
   ]
  },
  {
   "cell_type": "code",
   "execution_count": null,
   "metadata": {
    "tags": [
     "otter_answer_cell"
    ]
   },
   "outputs": [],
   "source": [
    "def S(V):\n",
    "    ...\n",
    "    return W\n",
    "\n",
    "def R(V):\n",
    "    ...\n",
    "    return W\n",
    "\n",
    "def R_composed_with_S(V):\n",
    "    ...\n",
    "    return W\n",
    "\n"
   ]
  },
  {
   "cell_type": "code",
   "execution_count": null,
   "metadata": {
    "deletable": false,
    "editable": false
   },
   "outputs": [],
   "source": [
    "grader.check(\"2a\")"
   ]
  },
  {
   "cell_type": "markdown",
   "metadata": {
    "deletable": false,
    "editable": false
   },
   "source": [
    "## <span style='color:Red'>   Question 2b (1 pt) ###\n",
    "\n",
    "**Multiple Choice:**\n",
    "Is it possible to form the composition $S \\circ R$? \n",
    "\n",
    "Assign the the variable  `ans_2b` to the corresponding letter (as a capital letter string `'A'`,`'B'`, or `'C'`) to  below to indicate your answer.  Replace the ellipses (`...`) with your answer. \n",
    "\n",
    "A).  Yes\n",
    "\n",
    "B).  No\n"
   ]
  },
  {
   "cell_type": "code",
   "execution_count": null,
   "metadata": {
    "tags": [
     "otter_answer_cell"
    ]
   },
   "outputs": [],
   "source": [
    "ans_2b = ...\n",
    "\n"
   ]
  },
  {
   "cell_type": "code",
   "execution_count": null,
   "metadata": {
    "deletable": false,
    "editable": false
   },
   "outputs": [],
   "source": [
    "grader.check(\"q2b\")"
   ]
  },
  {
   "cell_type": "markdown",
   "metadata": {},
   "source": [
    "## Transformations in a Plane"
   ]
  },
  {
   "cell_type": "markdown",
   "metadata": {},
   "source": [
    "As discussed in the class lesson videos, any linear transformation $T:\\mathbb{R}^2\\to\\mathbb{R}^2$ can be represented as the multiplication of a $2\\times 2$ matrix and a coordinate vector.  For now, the coordinates are with respect to the standard basis $\\{e_1,e_2\\}$ as they were before.  The columns of the matrix are then the images of the the basis vectors.\n",
    "\n",
    "$$\n",
    "\\begin{equation}\n",
    "A = \\left[ \\begin{array}{c|c} T(e_1) & T(e_2) \\end{array} \\right]\n",
    "\\end{equation}\n",
    "$$"
   ]
  },
  {
   "cell_type": "markdown",
   "metadata": {},
   "source": [
    "### Example 1:  Horizontal Stretch\n",
    "\n",
    "As a first example let us consider the transformation defined by the following images.\n",
    "\n",
    "$$\n",
    "\\begin{equation}\n",
    "T\\left(\\left[ \\begin{array}{r} 1 \\\\ 0  \\end{array}\\right]\\right)= \\left[ \\begin{array}{r} 2 \\\\ 0  \\end{array}\\right] \\hspace{1in}  T\\left(\\left[ \\begin{array}{r} 0 \\\\ 1  \\end{array}\\right]\\right)= \\left[ \\begin{array}{r} 0 \\\\ 1  \\end{array}\\right]  \n",
    "\\end{equation}\n",
    "$$\n",
    "\n",
    "The matrix corresponding to the transformation is then\n",
    "\n",
    "$$\n",
    "\\begin{equation}\n",
    "A = \\left[ \\begin{array}{cc} 2 & 0 \\\\ 0 & 1 \\end{array}\\right]\n",
    "\\end{equation}\n",
    "$$\n",
    "\n",
    "The image of a general vector with components $c_1$ and $c_2$ is given by a linear combination \n",
    "of the images of the basis vectors.\n",
    "\n",
    "$$\n",
    "\\begin{equation}\n",
    "T\\left(\\left[ \\begin{array}{r} c_1 \\\\ c_2  \\end{array}\\right]\\right) = T\\left(c_1\\left[ \\begin{array}{r} 1 \\\\ 0  \\end{array}\\right] + c_2 \\left[ \\begin{array}{r} 0 \\\\ 1  \\end{array}\\right]\\right) = c_1T\\left(\\left[ \\begin{array}{r} 1 \\\\ 0  \\end{array}\\right]\\right) + c_2 T\\left(\\left[ \\begin{array}{r} 0 \\\\ 1  \\end{array}\\right]\\right)  = c_1\\left[ \\begin{array}{r} 2 \\\\ 0  \\end{array}\\right] + c_2\\left[ \\begin{array}{r} 0 \\\\ 1  \\end{array}\\right]  = \\left[ \\begin{array}{cc} 2 & 0 \\\\ 0 & 1 \\end{array}\\right] \\left[\\begin{array}{c} c_1 \\\\ c_2 \\end{array}\\right]\n",
    "\\end{equation}\n",
    "$$\n",
    "\n",
    "To get a visual understanding of the transformation, we produce a plot that displays multiple input vectors, and their corresponding images.  \n",
    "\n",
    "Since we will multiply each vector by the same matrix, we can organize our calculations by constructing a matrix with columns that match the input vectors.  \n",
    "\n",
    "This matrix is the array labeled $\\texttt{coords}$ in the code below.  We use array slicing to label the first row $\\texttt{x}$, and the second row $\\texttt{y}$ for the purposes of plotting. "
   ]
  },
  {
   "cell_type": "code",
   "execution_count": null,
   "metadata": {},
   "outputs": [],
   "source": [
    "%matplotlib inline  \n",
    "from math import pi, sin, cos\n",
    "import matplotlib.pyplot as plt\n",
    "import numpy as np\n",
    "\n",
    "# Matrix with columns that match the input vectors\n",
    "coords = np.array([[0,0],[0.5,0.5],[0.5,1.5],[0,1],[0,0]])\n",
    "coords = coords.transpose()\n",
    "coords\n",
    "x = coords[0,:]\n",
    "y = coords[1,:]\n",
    "\n",
    "# Define the Matrix Transformation\n",
    "A = np.array([[2,0],[0,1]])\n",
    "\n",
    "# Get a new matrix with columns that match the output vectors\n",
    "A_coords = A@coords\n",
    "\n",
    "A_coords"
   ]
  },
  {
   "cell_type": "markdown",
   "metadata": {},
   "source": [
    "The columns of the array A_coords are the images of the vectors that make up the columns of $\\texttt{coords}$.  Let's plot the coordinates and see the effect of the transformation.  Again, we need to access the first and second rows by slicing.  The red points show the original coordinates, and the new coordinates are shown in blue."
   ]
  },
  {
   "cell_type": "code",
   "execution_count": null,
   "metadata": {},
   "outputs": [],
   "source": [
    "x_LT1 = A_coords[0,:]\n",
    "y_LT1 = A_coords[1,:]\n",
    "\n",
    "# Create the figure and axes objects\n",
    "fig, ax = plt.subplots()\n",
    "\n",
    "# Plot the points.  x and y are original vectors, x_LT1 and y_LT1 are images\n",
    "ax.plot(x,y,'ro')\n",
    "ax.plot(x_LT1,y_LT1,'bo')\n",
    "\n",
    "# Connect the points by lines\n",
    "ax.plot(x,y,'r',ls=\"--\")\n",
    "ax.plot(x_LT1,y_LT1,'b')\n",
    "\n",
    "# Edit some settings \n",
    "ax.axvline(x=0,color=\"k\",ls=\":\")\n",
    "ax.axhline(y=0,color=\"k\",ls=\":\")\n",
    "ax.grid(True)\n",
    "ax.axis([-2,2,-1,2])\n",
    "ax.set_aspect('equal')\n",
    "ax.set_title(\"Horizontal Stretch\");"
   ]
  },
  {
   "cell_type": "markdown",
   "metadata": {},
   "source": [
    "We observe that the result of the transformation is that the polygon has been stretched in the horizontal direction.  \n",
    "\n",
    "### Example 2:  Reflection\n",
    "\n",
    "Now that we have a set of vectors stored in the $\\texttt{coords}$ matrix, let's look at another transformation that is defined by the matrix $B$.\n",
    "\n",
    "$$\n",
    "\\begin{equation}\n",
    "B = \\left[ \\begin{array}{cc} -1 & 0 \\\\ 0 & 1 \\end{array}\\right]\n",
    "\\end{equation}\n",
    "$$\n",
    "\n",
    "We make a new array $B$, but reuse the plotting code from the previous example."
   ]
  },
  {
   "cell_type": "code",
   "execution_count": null,
   "metadata": {},
   "outputs": [],
   "source": [
    "B = np.array([[-1,0],[0,1]])\n",
    "B_coords = B@coords\n",
    "\n",
    "x_LT2 = B_coords[0,:]\n",
    "y_LT2 = B_coords[1,:]\n",
    "\n",
    "# Create the figure and axes objects\n",
    "fig, ax = plt.subplots()\n",
    "\n",
    "# Plot the points.  x and y are original vectors, x_LT1 and y_LT1 are images\n",
    "ax.plot(x,y,'ro')\n",
    "ax.plot(x_LT2,y_LT2,'bo')\n",
    "\n",
    "# Connect the points by lines\n",
    "ax.plot(x,y,'r',ls=\"--\")\n",
    "ax.plot(x_LT2,y_LT2,'b')\n",
    "\n",
    "# Edit some settings \n",
    "ax.axvline(x=0,color=\"k\",ls=\":\")\n",
    "ax.axhline(y=0,color=\"k\",ls=\":\")\n",
    "ax.grid(True)\n",
    "ax.axis([-2,2,-1,2])\n",
    "ax.set_aspect('equal')\n",
    "ax.set_title(\"Reflection about y-axis\");"
   ]
  },
  {
   "cell_type": "markdown",
   "metadata": {},
   "source": [
    "We see that this transformation reflects points around the vertical axis."
   ]
  },
  {
   "cell_type": "markdown",
   "metadata": {
    "deletable": false,
    "editable": false
   },
   "source": [
    "<hr style=\"border: 5px solid #003262;\" />\n",
    "<hr style=\"border: 1px solid #fdb515;\" />\n",
    "\n",
    "\n",
    "## <span style='color:Red'>   Question 3a (2 pts) \n",
    "\n",
    "Find a matrix that represents the reflection about the 𝑥-axis.\n",
    "\n"
   ]
  },
  {
   "cell_type": "code",
   "execution_count": null,
   "metadata": {
    "tags": [
     "otter_answer_cell"
    ]
   },
   "outputs": [],
   "source": [
    "x_reflect = ..."
   ]
  },
  {
   "cell_type": "code",
   "execution_count": null,
   "metadata": {
    "deletable": false,
    "editable": false
   },
   "outputs": [],
   "source": [
    "grader.check(\"3a\")"
   ]
  },
  {
   "cell_type": "markdown",
   "metadata": {
    "deletable": false,
    "editable": false
   },
   "source": [
    "<!-- BEGIN QUESTION -->\n",
    "\n",
    "## <span style='color:Red'>   Question 3b (2 pts) \n",
    "\n",
    "Multiply the matrix from part 3a by 𝚌𝚘𝚘𝚛𝚍𝚜 (save the result in the variable `x_reflect_coords`) and plot both the original shape described by 𝚌𝚘𝚘𝚛𝚍𝚜 and the results of the transformation. \n",
    "\n",
    "\n",
    "Adjust the axis settings to make sure you can see the original preimage and the new image in your plot.\n",
    "\n",
    "Label your plot describing this transformatino\n"
   ]
  },
  {
   "cell_type": "code",
   "execution_count": null,
   "metadata": {
    "tags": [
     "otter_answer_cell"
    ]
   },
   "outputs": [],
   "source": [
    "x_reflect_coords = ...\n",
    "\n",
    "...\n",
    "\n",
    "# Your plotting code above this line"
   ]
  },
  {
   "cell_type": "code",
   "execution_count": null,
   "metadata": {
    "deletable": false,
    "editable": false
   },
   "outputs": [],
   "source": [
    "grader.check(\"3b\")"
   ]
  },
  {
   "cell_type": "markdown",
   "metadata": {
    "deletable": false,
    "editable": false
   },
   "source": [
    "<!-- END QUESTION -->\n",
    "\n",
    "<hr style=\"border: 5px solid #003262;\" />\n",
    "<hr style=\"border: 1px solid #fdb515;\" />\n",
    "\n",
    "\n",
    "## <span style='color:Red'>   Question 4a (2 pts) \n",
    "\n",
    "Find a matrix that represents the reflection about the line $y=x$.\n",
    "\n"
   ]
  },
  {
   "cell_type": "code",
   "execution_count": null,
   "metadata": {
    "tags": [
     "otter_answer_cell"
    ]
   },
   "outputs": [],
   "source": [
    "x_y_reflect = ..."
   ]
  },
  {
   "cell_type": "code",
   "execution_count": null,
   "metadata": {
    "deletable": false,
    "editable": false
   },
   "outputs": [],
   "source": [
    "grader.check(\"4a\")"
   ]
  },
  {
   "cell_type": "markdown",
   "metadata": {
    "deletable": false,
    "editable": false
   },
   "source": [
    "<!-- BEGIN QUESTION -->\n",
    "\n",
    "## <span style='color:Red'>   Question 4b (2 pts) \n",
    "\n",
    "Multiply the matrix from part 4a by 𝚌𝚘𝚘𝚛𝚍𝚜 (save the result in the variable `x_y_reflect_coords`) and plot both the original shape described by 𝚌𝚘𝚘𝚛𝚍𝚜 and the results of the transformation. \n",
    "\n",
    "Adjust the axis settings to make sure you can see the original preimage and the new image in your plot.\n",
    "\n",
    "Label your plot describing this transformation.\n"
   ]
  },
  {
   "cell_type": "code",
   "execution_count": null,
   "metadata": {
    "tags": [
     "otter_answer_cell"
    ]
   },
   "outputs": [],
   "source": [
    "x_y_reflect_coords = ...\n",
    "\n",
    "...\n",
    "\n",
    "# Your plotting code above this line"
   ]
  },
  {
   "cell_type": "code",
   "execution_count": null,
   "metadata": {
    "deletable": false,
    "editable": false
   },
   "outputs": [],
   "source": [
    "grader.check(\"4b\")"
   ]
  },
  {
   "cell_type": "markdown",
   "metadata": {
    "deletable": false,
    "editable": false
   },
   "source": [
    "<!-- END QUESTION -->\n",
    "\n",
    "\n",
    "\n",
    "### Example 3:  Rotation\n",
    "\n",
    "To rotate vectors in the plane, we choose an angle $\\theta$ and write down the matrix that represents the rotation counterclockwise by an angle $\\theta$.  Basic trigonometry can be used to calculate the columns in this case.   \n",
    "\n",
    "$$\n",
    "\\begin{equation}\n",
    "R = \\left[ \\begin{array}{cc} \\cos\\theta & -\\sin\\theta \\\\ \\sin\\theta & \\cos\\theta \\end{array}\\right]\n",
    "\\end{equation}\n",
    "$$\n",
    "\n",
    "Note:  All angles should be input in radians"
   ]
  },
  {
   "cell_type": "code",
   "execution_count": null,
   "metadata": {},
   "outputs": [],
   "source": [
    "theta = pi/6\n",
    "R = np.array([[cos(theta),-sin(theta)],[sin(theta),cos(theta)]])\n",
    "R_coords = R@coords\n",
    "\n",
    "x_LT3 = R_coords[0,:]\n",
    "y_LT3 = R_coords[1,:]\n",
    "\n",
    "# Create the figure and axes objects\n",
    "fig, ax = plt.subplots()\n",
    "\n",
    "# Plot the points.  x and y are original vectors, x_LT1 and y_LT1 are images\n",
    "ax.plot(x,y,'ro')\n",
    "ax.plot(x_LT3,y_LT3,'bo')\n",
    "\n",
    "# Connect the points by lines\n",
    "ax.plot(x,y,'r',ls=\"--\")\n",
    "ax.plot(x_LT3,y_LT3,'b')\n",
    "\n",
    "# Edit some settings \n",
    "ax.axvline(x=0,color=\"k\",ls=\":\")\n",
    "ax.axhline(y=0,color=\"k\",ls=\":\")\n",
    "ax.grid(True)\n",
    "ax.axis([-2,2,-1,2])\n",
    "ax.set_aspect('equal')\n",
    "ax.set_title(\"Rotation\");"
   ]
  },
  {
   "cell_type": "markdown",
   "metadata": {},
   "source": [
    "### Example 4: Shear\n",
    "\n",
    "In the study of mechanics, shear forces occur when one force acts on some part of a body while a second force acts on another part of the body but in the opposite direction. To visualize this, imagine a deck of playing cards resting on the table, and then while resting your hand on top of the deck, sliding your hand parallel to the table. \n",
    "\n",
    "A **shear** transformation is any transformation that shifts points in a given direction by an amount proportional to their original (signed) distance from the line that is parallel to the movement of direction and that passes through the origin. For example, a horizontal shear applied to a vector would add to the vector's $x$-coordinate a value scaled by the value of its $y$-coordinate (or subtract, if the $y$-coordinate was negative). A vertical shear is expressed as a matrix in the form of the first matrix below, and a horizontal shear with the second where $k \\in \\mathbb{R}$ is called the **shearing factor**.\n",
    "\n",
    "$$\n",
    "\\begin{equation}\n",
    "\\left[ \\begin{array}{r} 1 & 0 \\\\ k & 1  \\end{array}\\right] \\hspace{1in}  \n",
    "\\left[ \\begin{array}{r} 1 & k \\\\ 0 & 1  \\end{array}\\right]  \n",
    "\\end{equation}\n",
    "$$"
   ]
  },
  {
   "cell_type": "code",
   "execution_count": null,
   "metadata": {},
   "outputs": [],
   "source": [
    "#horizontal shear\n",
    "S = np.array([[1,2],[0,1]])\n",
    "S_coords = S@coords\n",
    "\n",
    "x_LT4 = S_coords[0,:]\n",
    "y_LT4 = S_coords[1,:]\n",
    "\n",
    "\n",
    "# Create the figure and axes objects\n",
    "fig, ax = plt.subplots()\n",
    "\n",
    "# Plot the points.  x and y are original vectors, x_LT1 and y_LT1 are images\n",
    "ax.plot(x,y,'ro')\n",
    "ax.plot(x_LT4,y_LT4,'bo')\n",
    "\n",
    "# Connect the points by lines\n",
    "ax.plot(x,y,'r',ls=\"--\")\n",
    "ax.plot(x_LT4,y_LT4,'b')\n",
    "\n",
    "# Edit some settings \n",
    "ax.axvline(x=0,color=\"k\",ls=\":\")\n",
    "ax.axhline(y=0,color=\"k\",ls=\":\")\n",
    "ax.grid(True)\n",
    "ax.axis([-2,4,-1,2])\n",
    "ax.set_aspect('equal')\n",
    "ax.set_title(\"Shear\");"
   ]
  },
  {
   "cell_type": "markdown",
   "metadata": {},
   "source": [
    "### Example 5:  Composition of transformations\n",
    "\n",
    "One of the powerful aspects of representing linear transformations as matrices is that we can form compositions by matrix multiplication.  For example,  in order to find the matrix that represents the composition $B\\circ R$, the rotation from Example 3, followed by the reflection of Example 2,\n",
    "we can simply multiply the matrices that represent the individual transformations.  \n",
    "\n",
    "$$\n",
    "\\begin{equation}\n",
    "[B][R] = \\left[ \\begin{array}{cc} -1 & 0 \\\\ 0 & 1 \\end{array}\\right]\n",
    "\\left[ \\begin{array}{cc} \\cos\\theta & -\\sin\\theta \\\\ \\sin\\theta & \\cos\\theta \\end{array}\\right]\n",
    "=\\left[ \\begin{array}{cc} -\\cos\\theta & \\sin\\theta \\\\ \\sin\\theta & \\cos\\theta \\end{array}\\right]\n",
    "\\end{equation}\n",
    "$$\n"
   ]
  },
  {
   "cell_type": "code",
   "execution_count": null,
   "metadata": {},
   "outputs": [],
   "source": [
    "C = np.array([[-cos(theta),sin(theta)],[sin(theta),cos(theta)]])\n",
    "C_coords = C@coords\n",
    "\n",
    "x_LT5 = C_coords[0,:]\n",
    "y_LT5 = C_coords[1,:]\n",
    "\n",
    "\n",
    "# Create the figure and axes objects\n",
    "fig, ax = plt.subplots()\n",
    "\n",
    "# Plot the points.  x and y are original vectors, x_LT1 and y_LT1 are images\n",
    "ax.plot(x,y,'ro')\n",
    "ax.plot(x_LT5,y_LT5,'bo')\n",
    "\n",
    "# Connect the points by lines\n",
    "ax.plot(x,y,'r',ls=\"--\")\n",
    "ax.plot(x_LT5,y_LT5,'b')\n",
    "\n",
    "# Edit some settings \n",
    "ax.axvline(x=0,color=\"k\",ls=\":\")\n",
    "ax.axhline(y=0,color=\"k\",ls=\":\")\n",
    "ax.grid(True)\n",
    "ax.axis([-2,2,-1,2])\n",
    "ax.set_aspect('equal')"
   ]
  },
  {
   "cell_type": "markdown",
   "metadata": {
    "deletable": false,
    "editable": false
   },
   "source": [
    "<hr style=\"border: 5px solid #003262;\" />\n",
    "<hr style=\"border: 1px solid #fdb515;\" />\n",
    "\n",
    "\n",
    "## <span style='color:Red'>   Question 5a (2 pts) \n",
    "\n",
    "Find a matrix that represents a vertical shear with shearing factor 3 followed by a 60 degree counterclockwise rotation"
   ]
  },
  {
   "cell_type": "code",
   "execution_count": null,
   "metadata": {
    "tags": [
     "otter_answer_cell"
    ]
   },
   "outputs": [],
   "source": [
    "\n",
    "shear_rot = ...\n",
    "\n"
   ]
  },
  {
   "cell_type": "code",
   "execution_count": null,
   "metadata": {
    "deletable": false,
    "editable": false
   },
   "outputs": [],
   "source": [
    "grader.check(\"5a\")"
   ]
  },
  {
   "cell_type": "markdown",
   "metadata": {
    "deletable": false,
    "editable": false
   },
   "source": [
    "<!-- BEGIN QUESTION -->\n",
    "\n",
    "\n",
    "\n",
    "## <span style='color:Red'>   Question 5b (2 pts) \n",
    "\n",
    "Find a matrix that represents a 60 degree counterclockwise rotation followed by a vertical shear with shearing factor 3 "
   ]
  },
  {
   "cell_type": "code",
   "execution_count": null,
   "metadata": {
    "tags": [
     "otter_answer_cell"
    ]
   },
   "outputs": [],
   "source": [
    "\n",
    "rot_shear = ..."
   ]
  },
  {
   "cell_type": "code",
   "execution_count": null,
   "metadata": {
    "deletable": false,
    "editable": false
   },
   "outputs": [],
   "source": [
    "grader.check(\"5b\")"
   ]
  },
  {
   "cell_type": "markdown",
   "metadata": {
    "deletable": false,
    "editable": false
   },
   "source": [
    "<!-- END QUESTION -->\n",
    "\n",
    "<!-- BEGIN QUESTION -->\n",
    "\n",
    "## <span style='color:Red'>   Question 5c (3 pts) \n",
    "\n",
    "Apply the transformation from 5a to 𝚌𝚘𝚘𝚛𝚍𝚜 and assign it to the variable shear_rot_coords.\n",
    "Then apply the transformation from 5b to 𝚌𝚘𝚘𝚛𝚍𝚜 and assign it to the rot_shear_coords.\n",
    "\n",
    "Then plot both of these transformations along with the image represented by coords. \n",
    "Use blue to represent the transformation from 5a and green to represent the transformation from 5b.\n",
    "\n",
    "Adjust the axis settings to make sure you can see the original preimage and the new image in your plot.\n",
    "\n",
    "Label your plot describing these transformations.\n"
   ]
  },
  {
   "cell_type": "code",
   "execution_count": null,
   "metadata": {
    "tags": [
     "otter_answer_cell"
    ]
   },
   "outputs": [],
   "source": [
    "shear_rot_coords = ...\n",
    "rot_shear_coords = ...\n",
    "\n",
    "...\n",
    "\n",
    "# Your plotting code above this line"
   ]
  },
  {
   "cell_type": "code",
   "execution_count": null,
   "metadata": {
    "deletable": false,
    "editable": false
   },
   "outputs": [],
   "source": [
    "grader.check(\"5d\")"
   ]
  },
  {
   "cell_type": "markdown",
   "metadata": {
    "deletable": false,
    "editable": false
   },
   "source": [
    "<!-- END QUESTION -->\n",
    "\n",
    "\n",
    "\n",
    "## <span style='color:Red'>   Question 5d (2 pts) \n",
    "\n",
    "Construct a matrix that represents a horizontal and a vertical stretch by a factor of 2 .\n",
    "\n"
   ]
  },
  {
   "cell_type": "code",
   "execution_count": null,
   "metadata": {
    "tags": [
     "otter_answer_cell"
    ]
   },
   "outputs": [],
   "source": [
    "hor_ver_stretch = ..."
   ]
  },
  {
   "cell_type": "code",
   "execution_count": null,
   "metadata": {
    "deletable": false,
    "editable": false
   },
   "outputs": [],
   "source": [
    "grader.check(\"5d\")"
   ]
  },
  {
   "cell_type": "markdown",
   "metadata": {
    "deletable": false,
    "editable": false
   },
   "source": [
    "<!-- BEGIN QUESTION -->\n",
    "\n",
    "## <span style='color:Red'>   Question 5e (3 pts) \n",
    "\n",
    "Apply the transformation from Part 5d to coords.  Save the result in the variable `hor_ver_stretch_coords` and plot. \n",
    "\n",
    "Adjust the axis settings to make sure you can see the original preimage and the new image in your plot.\n",
    "\n",
    "Label your plot describing this transformation.\n"
   ]
  },
  {
   "cell_type": "code",
   "execution_count": null,
   "metadata": {
    "tags": [
     "otter_answer_cell"
    ]
   },
   "outputs": [],
   "source": [
    "hor_ver_stretch_coords = ...\n",
    "\n",
    "...\n",
    "\n",
    "# Your plotting code above this line"
   ]
  },
  {
   "cell_type": "code",
   "execution_count": null,
   "metadata": {
    "deletable": false,
    "editable": false
   },
   "outputs": [],
   "source": [
    "grader.check(\"5e\")"
   ]
  },
  {
   "cell_type": "markdown",
   "metadata": {
    "deletable": false,
    "editable": false
   },
   "source": [
    "<!-- END QUESTION -->\n",
    "\n",
    "## Applications of Linear Transformations"
   ]
  },
  {
   "cell_type": "markdown",
   "metadata": {},
   "source": [
    "### Computer graphics\n",
    "\n",
    "Computer graphics essentially consist of a large number of basic geometric shapes such as triangles or quadrilaterals, defined by their vertexes (corners).  The ability to manipulate these shapes efficiently is a fundamental necessity in the field of computer graphics.  Linear transformations can be used to generate complex shapes from basic shapes through effects such as shearing and reflection, and can also be used to rotate and translate shapes in order to create a sequence of images needed for an animated scene.\n",
    "\n",
    "The software responsible for rendering three-dimensional scenes in modern video games must process the coordinates of millions of vertexes in each frame of animation.  Typical hardware used for running the software will be able to generate around 60 frames per second.  In addition to the placement of vertexes in a scene, there are other computations required, such as those to provide color and shading, and then to project the three-dimensional scene onto the two-dimensional screen.  In this context, the efficiency of the algorithms, software, and hardware all play a major role in the quality of the end result.  \n",
    "\n",
    "The use of matrix multiplication to manipulate coordinates for computer graphics has two primary advantages.  Matrix representations can be used to merge multiple transformations together into a single transformation.  For example, instead of applying a rotation followed by a scaling transformation, the two operations can easily be merged into a single operation by multiplying the associated matrices as we did earlier.  The other advantage to organizing the calculations into matrix multiplications is that dedicated hardware (graphics processing units) is designed specifically to handle these calculations in large numbers.\n",
    "\n",
    "The construction of matrices to carry out rotations, reflections, and shears, has already been demonstrated in [Planar Transformations](Planar_Transformations.ipynb).  Here we show how to use matrix multiplication to carry out a translation, which is not a linear transformation.  "
   ]
  },
  {
   "cell_type": "markdown",
   "metadata": {},
   "source": [
    "#### Translation\n",
    "\n",
    "A **translation** is a transformation that moves all points an equal amount in the same direction.  Shown below is an example where all points are shifted (translated) three units to the right, and one unit up by a transformation $T:\\mathbb{R}^2 \\to \\mathbb{R}^2$.  In the plot, we show several points which define a shape, and their corresponding images under the translation.  "
   ]
  },
  {
   "cell_type": "code",
   "execution_count": null,
   "metadata": {},
   "outputs": [],
   "source": [
    "%matplotlib inline  \n",
    "import matplotlib.pyplot as plt\n",
    "import numpy as np\n",
    "\n",
    "coords = np.array([[0,0],[0,3],[1,3],[1,1],[2,1],[2,0],[0,0]])\n",
    "coords = coords.transpose()\n",
    "\n",
    "x = coords[0,:]\n",
    "y = coords[1,:]\n",
    "\n",
    "## Compute translation by adding 3 to x coordinates and 1 to y coordinates\n",
    "x_translated =  np.copy(x)\n",
    "y_translated =  np.copy(y)\n",
    "\n",
    "for i in range(x.shape[0]):\n",
    "    x_translated[i] += 3\n",
    "    y_translated[i] += 1"
   ]
  },
  {
   "cell_type": "code",
   "execution_count": null,
   "metadata": {
    "tags": [
     "hide-input"
    ]
   },
   "outputs": [],
   "source": [
    "# Create the figure and axes objects\n",
    "fig, ax = plt.subplots()\n",
    "\n",
    "# Plot the points.\n",
    "ax.plot(x,y,'ro')\n",
    "ax.plot(x_translated,y_translated,'bo')\n",
    "\n",
    "# Connect the points by lines\n",
    "ax.plot(x,y,'r',ls=\"--\")\n",
    "ax.plot(x_translated,y_translated,'b')\n",
    "\n",
    "# Edit some settings \n",
    "ax.axvline(x=0,color=\"k\",ls=\":\")\n",
    "ax.axhline(y=0,color=\"k\",ls=\":\")\n",
    "ax.grid(True)\n",
    "ax.axis([-1,6,-1,6])\n",
    "ax.set_aspect('equal')\n",
    "ax.set_title(\"Translation\");"
   ]
  },
  {
   "cell_type": "markdown",
   "metadata": {},
   "source": [
    "Translation of coordinates is useful in computer graphics, but it is not a linear transformation.  In order to see why, we write a formula for the image of a vector $X$, and then verify that $T(X+Y) \\neq T(X)+T(Y)$ for arbitrary vectors $X$ and $Y$.\n",
    "\n",
    "$$\n",
    "\\begin{equation}\n",
    "T(X) = X + \\left[ \\begin{array}{r} 3 \\\\ 1 \\end{array} \\right]\n",
    "\\end{equation}\n",
    "$$\n",
    "\n",
    "\n",
    "$$\n",
    "\\begin{equation}\n",
    "T(X+Y) = (X + Y) + \\left[ \\begin{array}{r} 3 \\\\ 1 \\end{array} \\right]\n",
    "\\end{equation}\n",
    "$$\n",
    "\n",
    "$$\n",
    "\\begin{equation}\n",
    "T(X) + T(Y) = X + \\left[ \\begin{array}{r} 3 \\\\ 1 \\end{array} \\right] + Y + \\left[ \\begin{array}{r} 3 \\\\ 1 \\end{array} \\right]\n",
    "= (X + Y) + \\left[ \\begin{array}{r} 6 \\\\ 2 \\end{array} \\right]\n",
    "\\end{equation}\n",
    "$$\n",
    "\n",
    "The fact that $T$ is not linear implies that this transformation cannot be represented as a matrix multiplication in its current state."
   ]
  },
  {
   "cell_type": "markdown",
   "metadata": {},
   "source": [
    "Since the use of translations are necessary, a standard method has been developed to incorporate matrix multiplication and the associated advantages.  The method requires that we view $\\mathbb{R}^2$ as a plane within $\\mathbb{R}^3$.  We can then construct a linear transformation $L:\\mathbb{R}^3\\to\\mathbb{R}^3$ which will have the *effect of the translation* within that plane.  We demonstrate the details for the transformation defined above.  \n",
    "\n",
    "First, we associate the coordinates $(x_1,x_2)$ of a point in $\\mathbb{R}^2$ with the coordinates $(x_1,x_2,1)$ of a point in $\\mathbb{R}^3$ in the plane $x_3=1$.  These new coordinates are known as *homogeneous coordinates*.  We can then create a linear transformation $L:\\mathbb{R}^3\\to\\mathbb{R}^3$ that represents a shear that is parallel to the $x_1x_2$-plane, and in the direction of the desired translation.  The effect of $L$ on points in the plane $x_3=1$ is a translation within the $x_3=1$ plane.  We define $L(X)=AX$, where $A$ is the following matrix.\n",
    "\n",
    "$$\n",
    "\\begin{equation}\n",
    "A = \\left[ \\begin{array}{rrr} 1 & 0 & 3 \\\\ 0 & 1 & 1 \\\\ 0 & 0 & 1 \\end{array} \\right]\n",
    "\\end{equation}\n",
    "$$\n",
    "\n",
    "Recall that the columns of $A$ are the images of the standard basis vectors $\\{e_1, e_2, e_3\\}$.  In this case $e_1$ and $e_2$ are unchanged, and $e_3$ is sheared in the desired direction.  We observe that $L$ has the intended effect.\n",
    "\n",
    "\n",
    "$$\n",
    "\\begin{equation}\n",
    "L(X) = AX = \\left[ \\begin{array}{rrr} 1 & 0 & 3 \\\\ 0 & 1 & 1 \\\\ 0 & 0 & 1 \\end{array} \\right]\n",
    "\\left[ \\begin{array}{r} x_1 \\\\ x_2 \\\\ 1 \\end{array} \\right] = \n",
    "\\left[ \\begin{array}{c} x_1+3 \\\\ x_2+1 \\\\ 1 \\end{array} \\right]\n",
    "\\end{equation}\n",
    "$$\n",
    "\n",
    "Finally, we associate with $L(X)$ the point in $\\mathbb{R}^2$ that has coordinates $(x_1+3, x_2+1)$.\n",
    "\n",
    "Let's have a look at the revised calculation with NumPy, that now makes use of the matrix multiplication."
   ]
  },
  {
   "cell_type": "code",
   "execution_count": null,
   "metadata": {},
   "outputs": [],
   "source": [
    "# Form a matrix of coordinates with rows x, y, 1\n",
    "Ones = np.ones((1,7))\n",
    "coords = np.vstack((x,y,Ones))\n",
    "\n",
    "# Define the matrix for the transfomation L\n",
    "A = np.array([[1,0,3],[0,1,1],[0,0,1]])\n",
    "\n",
    "## Compute translation by matrix multiplication\n",
    "coords_translated = A@coords\n",
    "\n",
    "## Slice off the first and second rows.  These are the coords of the translated points\n",
    "x_translated = coords_translated[0,:]\n",
    "y_translated = coords_translated[1,:]\n",
    "\n",
    "# Create the figure and axes objects\n",
    "fig, ax = plt.subplots()\n",
    "\n",
    "# Plot the points.\n",
    "ax.plot(x,y,'ro')\n",
    "ax.plot(x_translated,y_translated,'bo')\n",
    "\n",
    "# Connect the points by lines\n",
    "ax.plot(x,y,'r',ls=\"--\")\n",
    "ax.plot(x_translated,y_translated,'b')\n",
    "\n",
    "# Edit some settings \n",
    "ax.axvline(x=0,color=\"k\",ls=\":\")\n",
    "ax.axhline(y=0,color=\"k\",ls=\":\")\n",
    "ax.grid(True)\n",
    "ax.axis([-1,6,-1,6])\n",
    "ax.set_aspect('equal')\n",
    "ax.set_title(\"Translation\");"
   ]
  },
  {
   "cell_type": "markdown",
   "metadata": {},
   "source": [
    "If we look closely at the computation, we realize that this way of computing the coordinates of the translated shape actually requires *more operations* than the first attempt where we stepped through the array and manipulated the coordinates directly.  The important point to remember however is that the ability to represent the translation as a matrix multiplication means that we can merge it with another operation, such as rotation, in order to carry out both operations by multiplying by a single matrix.\n",
    "\n",
    "Translations of shapes in three dimensions can be done in a similar way by associating each set of coordinate $(x_1, x_2, x_3)$ in $\\mathbb{R}^3$ with the point $(x_1, x_2, x_3, 1)$ in $\\mathbb{R}^4$."
   ]
  },
  {
   "cell_type": "markdown",
   "metadata": {
    "deletable": false,
    "editable": false
   },
   "source": [
    "<hr style=\"border: 5px solid #003262;\" />\n",
    "<hr style=\"border: 1px solid #fdb515;\" />\n",
    "\n",
    "\n",
    "## <span style='color:Red'>   Question 6a (2 pts) \n",
    "\n",
    "Find a single matrix that represents a transformation that has the effect of a reflection about the line $y=x$\n",
    " followed by a shift four units to the left.\n",
    "\n"
   ]
  },
  {
   "cell_type": "code",
   "execution_count": null,
   "metadata": {
    "tags": [
     "otter_answer_cell"
    ]
   },
   "outputs": [],
   "source": [
    "x_y_reflect_shift = ..."
   ]
  },
  {
   "cell_type": "code",
   "execution_count": null,
   "metadata": {
    "deletable": false,
    "editable": false
   },
   "outputs": [],
   "source": [
    "grader.check(\"6a\")"
   ]
  },
  {
   "cell_type": "markdown",
   "metadata": {
    "deletable": false,
    "editable": false
   },
   "source": [
    "<!-- BEGIN QUESTION -->\n",
    "\n",
    "## <span style='color:Red'>   Question 6b (3 pts) \n",
    "\n",
    "Apply the transformation from part (a) to the shape defined by 𝚌𝚘𝚘𝚛𝚍𝚜 (save to the variable `x_y_reflect_shift_coords)\n",
    "and plot the results.   \n",
    "\n",
    "\n",
    "Adjust the axis settings to make sure you can see the original preimage and the new image in your plot.\n",
    "\n",
    "Label your plot describing this transformation.\n"
   ]
  },
  {
   "cell_type": "code",
   "execution_count": null,
   "metadata": {
    "tags": [
     "otter_answer_cell"
    ]
   },
   "outputs": [],
   "source": [
    "\n",
    "\n",
    "...\n",
    "\n",
    "# Your plotting code above this line"
   ]
  },
  {
   "cell_type": "markdown",
   "metadata": {
    "deletable": false,
    "editable": false
   },
   "source": [
    "<!-- END QUESTION -->\n",
    "\n",
    "<hr style=\"border: 5px solid #003262;\" />\n",
    "<hr style=\"border: 1px solid #fdb515;\" />\n",
    "\n",
    "\n",
    "## <span style='color:Red'>   Question 7a (5 pts) \n",
    "\n",
    "Find a single matrix that represents a rotation about the point $(1,2)$. (Hint: Make use of a translation to bring the center of rotation to $(0,0)$).\n",
    "\n"
   ]
  },
  {
   "cell_type": "code",
   "execution_count": null,
   "metadata": {
    "tags": [
     "otter_answer_cell"
    ]
   },
   "outputs": [],
   "source": [
    "Question7a = ..."
   ]
  },
  {
   "cell_type": "code",
   "execution_count": null,
   "metadata": {
    "deletable": false,
    "editable": false
   },
   "outputs": [],
   "source": [
    "grader.check(\"7a\")"
   ]
  },
  {
   "cell_type": "markdown",
   "metadata": {
    "deletable": false,
    "editable": false
   },
   "source": [
    "<!-- BEGIN QUESTION -->\n",
    "\n",
    "## <span style='color:Red'>   Question 7b (3 pts) \n",
    "\n",
    "Apply the transformation from part (a) to the shape defined by 𝚌𝚘𝚘𝚛𝚍𝚜 and plot the results. \n",
    "\n",
    "Adjust the axis settings to make sure you can see the original preimage and the new image in your plot.\n",
    "\n",
    "Label your plot describing this transformation.\n"
   ]
  },
  {
   "cell_type": "code",
   "execution_count": null,
   "metadata": {
    "tags": [
     "otter_answer_cell"
    ]
   },
   "outputs": [],
   "source": [
    "\n",
    "\n",
    "...\n",
    "\n",
    "# Your plotting code above this line"
   ]
  },
  {
   "cell_type": "markdown",
   "metadata": {
    "deletable": false,
    "editable": false
   },
   "source": [
    "<!-- END QUESTION -->\n",
    "\n"
   ]
  },
  {
   "cell_type": "code",
   "execution_count": null,
   "metadata": {},
   "outputs": [],
   "source": []
  },
  {
   "cell_type": "markdown",
   "metadata": {
    "deletable": false,
    "editable": false
   },
   "source": [
    "<!-- BEGIN QUESTION -->\n",
    "\n",
    "<hr style=\"border: 5px solid #003262;\" />\n",
    "<hr style=\"border: 1px solid #fdb515;\" />\n",
    "\n",
    "\n",
    "## <span style='color:Red'>   Question 8a (5 pts) \n",
    "\n",
    "Find a matrix that represents clockwise rotation of $180$ degrees about the point $(1,1)$ followed by a shift $3$ units to the right.\n",
    "\n"
   ]
  },
  {
   "cell_type": "code",
   "execution_count": null,
   "metadata": {
    "tags": [
     "otter_answer_cell"
    ]
   },
   "outputs": [],
   "source": [
    "question8a = ..."
   ]
  },
  {
   "cell_type": "markdown",
   "metadata": {
    "deletable": false,
    "editable": false
   },
   "source": [
    "<!-- END QUESTION -->\n",
    "\n",
    "<!-- BEGIN QUESTION -->\n",
    "\n",
    "## <span style='color:Red'>   Question 8b (3 pts) \n",
    "\n",
    "Apply the transformation from part (a) to the shape defined by 𝚌𝚘𝚘𝚛𝚍𝚜 and plot the results. \n",
    "\n",
    "Adjust the axis settings to make sure you can see the original preimage and the new image in your plot.\n",
    "\n",
    "Label your plot describing this transformation.\n"
   ]
  },
  {
   "cell_type": "code",
   "execution_count": null,
   "metadata": {
    "tags": [
     "otter_answer_cell"
    ]
   },
   "outputs": [],
   "source": [
    "\n",
    "\n",
    "...\n",
    "\n",
    "# Your plotting code above this line"
   ]
  },
  {
   "cell_type": "markdown",
   "metadata": {
    "deletable": false,
    "editable": false
   },
   "source": [
    "<!-- END QUESTION -->\n",
    "\n",
    "<!-- BEGIN QUESTION -->\n",
    "\n",
    "<hr style=\"border: 5px solid #003262;\" />\n",
    "<hr style=\"border: 1px solid #fdb515;\" />\n",
    "\n",
    "\n",
    "## <span style='color:Red'>   Question 9a (2 pts) \n",
    "\n",
    "Find a single matrix that represents a transformation that has the effect of reflection about the $y$-axis followed by a shift $2$\n",
    " units to the right and $2$\n",
    " units up."
   ]
  },
  {
   "cell_type": "code",
   "execution_count": null,
   "metadata": {
    "tags": [
     "otter_answer_cell"
    ]
   },
   "outputs": [],
   "source": [
    "Question9a = ..."
   ]
  },
  {
   "cell_type": "markdown",
   "metadata": {
    "deletable": false,
    "editable": false
   },
   "source": [
    "<!-- END QUESTION -->\n",
    "\n",
    "<!-- BEGIN QUESTION -->\n",
    "\n",
    "## <span style='color:Red'>   Question 9b (3 pts) \n",
    "\n",
    "Apply the transformation from part (a) to the shape defined by 𝚌𝚘𝚘𝚛𝚍𝚜 and plot the results. \n",
    "\n",
    "Adjust the axis settings to make sure you can see the original preimage and the new image in your plot.\n",
    "\n",
    "Label your plot describing this transformation.\n"
   ]
  },
  {
   "cell_type": "code",
   "execution_count": null,
   "metadata": {
    "tags": [
     "otter_answer_cell"
    ]
   },
   "outputs": [],
   "source": [
    "\n",
    "\n",
    "...\n",
    "\n",
    "# Your plotting code above this line"
   ]
  },
  {
   "cell_type": "markdown",
   "metadata": {
    "deletable": false,
    "editable": false
   },
   "source": [
    "<!-- END QUESTION -->\n",
    "\n",
    "<hr style=\"border: 5px solid #003262;\" />\n",
    "<hr style=\"border: 1px solid #fdb515;\" />\n"
   ]
  },
  {
   "cell_type": "markdown",
   "metadata": {},
   "source": [
    "### Submission Instructions\n",
    "\n",
    "Before proceeding any further, **save this notebook.**\n",
    "\n",
    "Then run the cell below to double check that you don't have any spaces between dollar signs and text when writing LaTeX:"
   ]
  },
  {
   "cell_type": "code",
   "execution_count": null,
   "metadata": {},
   "outputs": [],
   "source": [
    "# Run this cell before you run the 'grader.export()' cell below.  \n",
    "# It will search for LaTeX errors that will cause the LaTeX compiler to fail.  \n",
    "\n",
    "import simple_latex_checker as slc\n",
    "\n",
    "nb = slc.Nb_checker()\n",
    "nb.run_check(\"lab02.ipynb\")"
   ]
  },
  {
   "cell_type": "markdown",
   "metadata": {},
   "source": [
    "After running the `grader.export()` cell provided below, **2 files will be created**: a zip file and pdf file.  You can download them using the links provided below OR by finding them in the same folder where this juptyer notebook resides in your JuptyerHub.\n",
    "\n",
    "To receive credit on this assignment, **you must submit BOTH of these files\n",
    "to their respective Gradescope portals:** \n",
    "\n",
    "\n",
    "* **Lab 2 Autograded**: Submit the zip file that is output by the `grader.export()` cell below to the Lab 2 Autograded assignment in Gradescope.\n",
    "\n",
    "* **Lab 2 Manually Graded**: Submit your lab02.PDF to the Lab 2 Manually Graded assignment in Gradescope.  **It is your responsibility to fully review your PDF file before submitting and make sure that all your lines of code are visible and any LaTeX has correctly compiled and is fully viewable.**  **YOU MUST SELECT THE PAGES CORRESPONDING TO EACH QUESTION WHEN YOU UPLOAD TO GRADESCOPE.** If not, you will lose points.    \n",
    "\n",
    "[TROUBLESHOOTING TIPS](https://docs.google.com/document/d/1ndr3Wj1PSF5qzlLMaBJznwh6QGeEXjd5TAJ6nf9EJvo/edit?usp=sharing)  If you are having any issues compiling your assignment, please read through these troubleshooting tips first, then post any questions on Piazza.  \n",
    "\n",
    "**You are responsible for ensuring your submission follows our requirements. We will not be granting regrade requests nor extensions to submissions that don't follow instructions.** If you encounter any difficulties with submission, please don't hesitate to reach out to staff prior to the deadline."
   ]
  },
  {
   "cell_type": "markdown",
   "metadata": {
    "deletable": false,
    "editable": false
   },
   "source": [
    "## Submission\n",
    "\n",
    "Make sure you have run all cells in your notebook in order before running the cell below, so that all images/graphs appear in the output. The cell below will generate a zip file for you to submit. **Please save before exporting!**\n",
    "\n",
    "AFTER running the cell below, click on <a href='lab02.pdf' download>this link to download the PDF </a> to upload to Gradescope.  There will be a separate link that appears after running the cell below with a link to download the zip file to upload to Gradescope."
   ]
  },
  {
   "cell_type": "code",
   "execution_count": null,
   "metadata": {
    "deletable": false,
    "editable": false
   },
   "outputs": [],
   "source": [
    "# Save your notebook first, then run this cell to export your submission.\n",
    "grader.export(run_tests=True)"
   ]
  },
  {
   "cell_type": "markdown",
   "metadata": {},
   "source": [
    " "
   ]
  }
 ],
 "metadata": {
  "kernelspec": {
   "display_name": "Python 3 (ipykernel)",
   "language": "python",
   "name": "python3"
  },
  "language_info": {
   "codemirror_mode": {
    "name": "ipython",
    "version": 3
   },
   "file_extension": ".py",
   "mimetype": "text/x-python",
   "name": "python",
   "nbconvert_exporter": "python",
   "pygments_lexer": "ipython3",
   "version": "3.11.9"
  },
  "otter": {
   "OK_FORMAT": true,
   "tests": {
    "2a": {
     "name": "2a",
     "points": 4,
     "suites": [
      {
       "cases": [
        {
         "code": ">>> assert np.array_equal(R_composed_with_S(np.array([[1], [4], [-2]])), np.array([[15], [-11]]))\n",
         "hidden": false,
         "locked": false
        },
        {
         "code": ">>> assert np.array_equal(R_composed_with_S(np.array([[0], [0], [0]])), np.array([[0], [0]]))\n",
         "hidden": false,
         "locked": false
        }
       ],
       "scored": true,
       "setup": "",
       "teardown": "",
       "type": "doctest"
      }
     ]
    },
    "3a": {
     "name": "3a",
     "points": 2,
     "suites": [
      {
       "cases": [
        {
         "code": ">>> assert get_array_hash_normalized(x_reflect) == 'bdad812cb893b39f7f80369512305d31'\n",
         "hidden": false,
         "locked": false
        }
       ],
       "scored": true,
       "setup": "",
       "teardown": "",
       "type": "doctest"
      }
     ]
    },
    "3b": {
     "name": "3b",
     "points": 1,
     "suites": [
      {
       "cases": [
        {
         "code": ">>> assert get_array_hash_normalized(x_reflect_coords) == '3b1b8d57618b146592ba6e8bf228609f'\n",
         "hidden": false,
         "locked": false
        }
       ],
       "scored": true,
       "setup": "",
       "teardown": "",
       "type": "doctest"
      }
     ]
    },
    "4a": {
     "name": "4a",
     "points": 2,
     "suites": [
      {
       "cases": [
        {
         "code": ">>> assert get_array_hash_normalized(x_y_reflect) == '3aa0cfa677fff445815da99720737752'\n",
         "hidden": false,
         "locked": false
        }
       ],
       "scored": true,
       "setup": "",
       "teardown": "",
       "type": "doctest"
      }
     ]
    },
    "4b": {
     "name": "4b",
     "points": 1,
     "suites": [
      {
       "cases": [
        {
         "code": ">>> assert get_array_hash_normalized(x_y_reflect_coords) == '979bce9fe12350176d97ecf44ecdfc17'\n",
         "hidden": false,
         "locked": false
        }
       ],
       "scored": true,
       "setup": "",
       "teardown": "",
       "type": "doctest"
      }
     ]
    },
    "5a": {
     "name": "5a",
     "points": 2,
     "suites": [
      {
       "cases": [
        {
         "code": ">>> assert get_array_hash_normalized(shear_rot) == 'edfb334043e837560eee996d721a7b4d'\n",
         "hidden": false,
         "locked": false
        }
       ],
       "scored": true,
       "setup": "",
       "teardown": "",
       "type": "doctest"
      }
     ]
    },
    "5b": {
     "name": "5b",
     "points": 1,
     "suites": [
      {
       "cases": [
        {
         "code": ">>> assert get_array_hash_normalized(rot_shear) == 'bdf80de8bb916c12176c71e16a418f46'\n",
         "hidden": false,
         "locked": false
        }
       ],
       "scored": true,
       "setup": "",
       "teardown": "",
       "type": "doctest"
      }
     ]
    },
    "5d": {
     "name": "5d",
     "points": 2,
     "suites": [
      {
       "cases": [
        {
         "code": ">>> assert get_array_hash_normalized(shear_rot_coords) == 'b32c5cd72dac4877b33f1913a9d7ee1f'\n",
         "hidden": false,
         "locked": false
        },
        {
         "code": ">>> assert get_array_hash_normalized(shear_rot_coords) == 'b32c5cd72dac4877b33f1913a9d7ee1f'\n",
         "hidden": false,
         "locked": false
        },
        {
         "code": ">>> assert get_array_hash_normalized(hor_ver_stretch) == '17d1a2c8408926e2c9dd0f886d9601d7'\n",
         "hidden": false,
         "locked": false
        }
       ],
       "scored": true,
       "setup": "",
       "teardown": "",
       "type": "doctest"
      }
     ]
    },
    "5e": {
     "name": "5e",
     "points": 1,
     "suites": [
      {
       "cases": [
        {
         "code": ">>> assert get_array_hash_normalized(hor_ver_stretch_coords) == 'fa2914b9ca202db08b3b60b25a6ae800'\n",
         "hidden": false,
         "locked": false
        }
       ],
       "scored": true,
       "setup": "",
       "teardown": "",
       "type": "doctest"
      }
     ]
    },
    "6a": {
     "name": "6a",
     "points": 1,
     "suites": [
      {
       "cases": [
        {
         "code": ">>> assert get_array_hash_normalized(x_y_reflect_shift) == '65f921876250240b27b69f5b77a5094a'\n",
         "hidden": false,
         "locked": false
        }
       ],
       "scored": true,
       "setup": "",
       "teardown": "",
       "type": "doctest"
      }
     ]
    },
    "7a": {
     "name": "7a",
     "points": 3,
     "suites": [
      {
       "cases": [
        {
         "code": ">>> assert get_array_hash_normalized(Question7a) == '1e0e7ffea3aa77d48cb6fbad91191f9d'\n",
         "hidden": false,
         "locked": false
        }
       ],
       "scored": true,
       "setup": "",
       "teardown": "",
       "type": "doctest"
      }
     ]
    },
    "q1a": {
     "name": "q1a",
     "points": 1,
     "suites": [
      {
       "cases": [
        {
         "code": ">>> assert get_array_hash_normalized(T_of_V) == '49738dd130e35d76ffee1a69c810763f'\n",
         "hidden": false,
         "locked": false
        }
       ],
       "scored": true,
       "setup": "",
       "teardown": "",
       "type": "doctest"
      }
     ]
    },
    "q1b": {
     "name": "q1b",
     "points": 1,
     "suites": [
      {
       "cases": [
        {
         "code": ">>> assert get_array_hash_normalized(U) == 'b7de76572bad455a78c21c6ea10fb153'\n",
         "hidden": false,
         "locked": false
        }
       ],
       "scored": true,
       "setup": "",
       "teardown": "",
       "type": "doctest"
      }
     ]
    },
    "q1c": {
     "name": "q1c",
     "points": 3,
     "suites": [
      {
       "cases": [
        {
         "code": ">>> assert np.array_equal(N(np.array([[5], [-1], [2]])), np.array([[-8], [10]]))\n",
         "hidden": false,
         "locked": false
        },
        {
         "code": ">>> assert np.array_equal(N(np.array([[0], [0], [0]])), np.array([[0], [3]]))\n",
         "hidden": false,
         "locked": false
        }
       ],
       "scored": true,
       "setup": "",
       "teardown": "",
       "type": "doctest"
      }
     ]
    },
    "q2b": {
     "name": "q2b",
     "points": 1,
     "suites": [
      {
       "cases": [
        {
         "code": ">>> assert get_hash(ans_2b) == '9d5ed678fe57bcca610140957afab571'\n",
         "hidden": false,
         "locked": false
        }
       ],
       "scored": true,
       "setup": "",
       "teardown": "",
       "type": "doctest"
      }
     ]
    }
   }
  }
 },
 "nbformat": 4,
 "nbformat_minor": 4
}
