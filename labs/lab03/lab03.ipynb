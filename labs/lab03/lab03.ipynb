{
 "cells": [
  {
   "cell_type": "code",
   "execution_count": null,
   "metadata": {
    "deletable": false,
    "editable": false
   },
   "outputs": [],
   "source": [
    "# Initialize Otter\n",
    "import otter\n",
    "grader = otter.Notebook(\"lab03.ipynb\")"
   ]
  },
  {
   "cell_type": "markdown",
   "metadata": {},
   "source": [
    "<a id='verytop'></a>\n",
    "\n",
    "# Lab 3: Applications of Bases\n",
    "\n",
    "## Due Date: Thurs, Oct 2nd 11:59 PM on Gradescope\n",
    "\n",
    "\n",
    "### Detailed Submission Instructions Are Provided at the end of this Notebook\n",
    "\n",
    "\n",
    "## Collaboration Policy\n",
    "\n",
    "A key step in learning and retention is **creating solutions on your own.**   Below are examples of acceptable vs unacceptable use of resources and collaboration when doing lab assignments in CSCI 2820.\n",
    "\n",
    "\n",
    "The following would be some **examples of cheating** when working on HW assignments in CSCI 2820.  Any of these constitute a **violation of the course's collaboration policy and will result in an F in the course and a trip to the honor council**.   \n",
    "\n",
    "\n",
    " - Consulting web pages that may have a solution to a given lab problem or one similar is cheating.  However, consulting notes from the class videos, and web pages that explain the material taught in class but do NOT show a solution to the lab problem in question are permissible to view.  Clearly, there's a fuzzy line here between a valid use of resources and cheating. To avoid this line, one should merely consult the course videos, the course textbooks, and references that contain syntax and/or formulas.\n",
    " - Copying a segment of code or math solution of three lines or more from another student from a printout, handwritten copy, or by looking at their computer screen \n",
    " - Allowing another student to copy a segment of your code or math solution of three lines or more\n",
    " - Taking a copy of another student's work (or a solution found online) and then editing that copy\n",
    " - Reading someone else’s solution to a problem on the lab before writing your own.\n",
    " - Asking someone to write all or part of a program or solution for you.\n",
    " - Asking someone else for the code necessary to fix the error for you, other than for simple syntactical errors\n",
    " \n",
    "\n",
    "\n",
    "On the other hand, the following are some **examples of things which would NOT usually be\n",
    "considered to be cheating**:\n",
    " - Working on a lab problem on your own first and then discussing with a classmate a particular part in the problem solution where you are stuck.  After clarifying any questions you should then continue to write your solution independently.\n",
    " - Asking someone (or searching online) how a particular construct in the language works.\n",
    " - Asking someone (or searching online) how to formulate a particular construct in the language.\n",
    " - Asking someone for help in finding an error in your program.  \n",
    " - Asking someone why a particular construct does not work as you expected in a given program.\n",
    "   \n",
    "\n",
    "To test whether you are truly doing your own work and retaining what you've learned you should be able to easily reproduce from scratch and explain a lab solution that was your own when asked in office hours by a TA/Instructor or on a quiz/exam.   \n",
    "\n",
    "\n",
    "If you have difficulty in formulating the general solution to a problem on your own, or\n",
    "you have difficulty in translating that general solution into a program, it is advisable to see\n",
    "your instructor or teaching assistant rather than another student as this situation can easily\n",
    "lead to a, possibly inadvertent, cheating situation.\n",
    "\n",
    "We are here to help!  Visit office Hours and/or post questions on Piazza!\n",
    "\n"
   ]
  },
  {
   "cell_type": "markdown",
   "metadata": {},
   "source": [
    "## Grading\n",
    "Grading is broken down into autograded answers and manually graded answers. \n",
    "\n",
    "For autograded answers, the results of your code are compared to provided and/or hidden tests.\n",
    "\n",
    "For manually graded answers you must show and explain all steps.  Graders will evaluate how well you answered the question and/or fulfilled the requirements of the question.\n"
   ]
  },
  {
   "cell_type": "markdown",
   "metadata": {},
   "source": [
    "<hr style=\"border: 5px solid #003262;\" />\n",
    "<hr style=\"border: 1px solid #fdb515;\" />\n"
   ]
  },
  {
   "cell_type": "markdown",
   "metadata": {},
   "source": [
    "\n"
   ]
  },
  {
   "cell_type": "code",
   "execution_count": null,
   "metadata": {},
   "outputs": [],
   "source": [
    "\n",
    "\n",
    "# import useful libraries\n",
    "import numpy as np\n",
    "import matplotlib.pyplot as plt\n",
    "\n",
    "\n",
    "from skimage.color import ycbcr2rgb\n",
    "\n",
    "# Function needed to run in-notebook tests\n",
    "import hashlib\n",
    "\n",
    "def get_hash(num):\n",
    "    \"\"\"Helper function for assessing correctness\"\"\"\n",
    "    return hashlib.md5(str(num).encode()).hexdigest()\n",
    "\n",
    "\n",
    "def get_array_hash_normalized(arr):\n",
    "    \"\"\"\n",
    "    Hash numpy array ignoring dtype differences (values only),\n",
    "    treating -0.0 as 0.0 and canonicalizing NaNs.\n",
    "    \"\"\"\n",
    "    arr = np.ascontiguousarray(arr, dtype=np.float64)\n",
    "\n",
    "    # View as unsigned integers so we can manipulate bits\n",
    "    view = arr.view(np.uint64)\n",
    "\n",
    "    # Mask for the exponent+mantissa (everything except the sign bit)\n",
    "    mant_exp_mask = (1 << 63) - 1\n",
    "\n",
    "    # For entries that are exactly zero (pos or neg), clear sign bit\n",
    "    zero_mask = (view & mant_exp_mask) == 0\n",
    "    view[zero_mask] = 0\n",
    "\n",
    "    # Canonicalize NaNs: all NaNs get the same payload\n",
    "    nan_mask = np.isnan(arr)\n",
    "    if nan_mask.any():\n",
    "        arr[nan_mask] = np.float64(np.nan)\n",
    "\n",
    "    return hashlib.md5(arr.tobytes() + str(arr.shape).encode()).hexdigest()"
   ]
  },
  {
   "cell_type": "markdown",
   "metadata": {},
   "source": [
    "## Matrix and Vector Operations in Numpy"
   ]
  },
  {
   "cell_type": "markdown",
   "metadata": {},
   "source": [
    "**Recall: Vectors in NumPy:**\n",
    "\n",
    "To create the vector\n",
    "\\begin{equation}\n",
    "\\mathbf{v} = \\left[\\begin{array}{r} 1  \\\\  2 \\\\ -3  \\end{array}\\right]\n",
    "\\end{equation}\n",
    "in NumPy we can use the following syntax:"
   ]
  },
  {
   "cell_type": "code",
   "execution_count": null,
   "metadata": {},
   "outputs": [],
   "source": [
    "v=np.array([[1],[2],[-3]])\n",
    "v"
   ]
  },
  {
   "cell_type": "markdown",
   "metadata": {},
   "source": [
    "**Recall: Matrices in NumPy:**\n",
    "\n",
    "To create the matrix $$\n",
    "\\begin{equation}\n",
    "A = \\left[\\begin{array}{rrr} 1 & 1 & 0 \\\\ 1 & 0 & 2 \\\\ 3 & 1 & -1 \\end{array}\\right]\n",
    "\\end{equation}\n",
    "$$ in NumPy we can use the following syntax:"
   ]
  },
  {
   "cell_type": "code",
   "execution_count": null,
   "metadata": {},
   "outputs": [],
   "source": [
    "A = np.array([[1,1,0],[1,0,2],[3,1,-1]])\n",
    "A"
   ]
  },
  {
   "cell_type": "code",
   "execution_count": null,
   "metadata": {},
   "outputs": [],
   "source": [
    "B = np.array([[2,3,4],[5,6,7],[8,9,10]])"
   ]
  },
  {
   "cell_type": "markdown",
   "metadata": {},
   "source": [
    "**Selector Operators in NumPy Arrays**"
   ]
  },
  {
   "cell_type": "code",
   "execution_count": null,
   "metadata": {},
   "outputs": [],
   "source": [
    "# To grab the first row:\n",
    "A[0]"
   ]
  },
  {
   "cell_type": "code",
   "execution_count": null,
   "metadata": {},
   "outputs": [],
   "source": [
    "# To grab the first column as a column vector\n",
    "A[:,[0]]"
   ]
  },
  {
   "cell_type": "code",
   "execution_count": null,
   "metadata": {},
   "outputs": [],
   "source": [
    "# To grab the entry in the 1st column and 3rd row:\n",
    "A[2,0]"
   ]
  },
  {
   "cell_type": "markdown",
   "metadata": {},
   "source": [
    "**Matrix-Vector or Matrix-Matrix Multiplication in NumPy**\n",
    "\n",
    "To multiply a matrix times a another matrix (or vector) in NumPy we can use the `@` operator:  "
   ]
  },
  {
   "cell_type": "code",
   "execution_count": null,
   "metadata": {},
   "outputs": [],
   "source": [
    "#To Multiply A and v \n",
    "\n",
    "A@v"
   ]
  },
  {
   "cell_type": "code",
   "execution_count": null,
   "metadata": {},
   "outputs": [],
   "source": [
    "# To multiply two matrices:\n",
    "A@B"
   ]
  },
  {
   "cell_type": "markdown",
   "metadata": {},
   "source": [
    "**Matrix Inverses in NumPy**\n",
    "To find the inverse an invertible matrix in NumPy we can use the `np.linalg.inv` method (https://numpy.org/doc/2.0/reference/generated/numpy.linalg.inv.html)\n"
   ]
  },
  {
   "cell_type": "code",
   "execution_count": null,
   "metadata": {},
   "outputs": [],
   "source": [
    "A_inv = np.linalg.inv(A)\n",
    "\n",
    "A_inv"
   ]
  },
  {
   "cell_type": "markdown",
   "metadata": {},
   "source": [
    "We can verify that this is in fact the inverse by ensuring that $A^{-1}A = I$  (note there may be some floating point rounding error)"
   ]
  },
  {
   "cell_type": "code",
   "execution_count": null,
   "metadata": {},
   "outputs": [],
   "source": [
    "# Run this cell - the output should be the Identity matrix:\n",
    "A@A_inv"
   ]
  },
  {
   "cell_type": "markdown",
   "metadata": {},
   "source": [
    "**Determinants in NumPy**\n",
    "To find the determinant of a square matrix in NumPy we can use the `np.linalg.det` method https://numpy.org/doc/2.0/reference/generated/numpy.linalg.det.html\n"
   ]
  },
  {
   "cell_type": "code",
   "execution_count": null,
   "metadata": {},
   "outputs": [],
   "source": [
    "np.linalg.det(B)"
   ]
  },
  {
   "cell_type": "code",
   "execution_count": null,
   "metadata": {},
   "outputs": [],
   "source": [
    "# You should get an error if you uncomment and run this cell, because we just saw above that the determinant of B is 0.\n",
    "# np.linalg.inv(B)"
   ]
  },
  {
   "cell_type": "markdown",
   "metadata": {},
   "source": [
    "**Transpose in NumPy**\n",
    "To find the transpose of a matrix, use the `.T` attribute"
   ]
  },
  {
   "cell_type": "code",
   "execution_count": null,
   "metadata": {},
   "outputs": [],
   "source": [
    "A.T"
   ]
  },
  {
   "cell_type": "code",
   "execution_count": null,
   "metadata": {},
   "outputs": [],
   "source": [
    "# To convert the first row to a column vector:\n",
    "np.array([A[0]]).T"
   ]
  },
  {
   "attachments": {},
   "cell_type": "markdown",
   "metadata": {
    "jp-MarkdownHeadingCollapsed": true
   },
   "source": [
    "# Image compression\n",
    "Digital images, such as the photographs taken on your phone,\n",
    "    are\n",
    "    displayed as a rectangular array of pixels.  For example, the\n",
    "    photograph shown here is 1440 pixels wide and\n",
    "    1468 pixels high.  \n",
    "\n",
    "<img src=\"img/orig.png\" width=\"1440\" height=\"1468\">\n",
    "\n",
    "\n",
    "If we were to zoom in on the photograph, we\n",
    "    would be able to see individual pixels, such as those shown here:\n",
    "\n",
    "<img src=\"img/both.png\">\n",
    "\n",
    "A lot of data is required to display this image.  A quantity\n",
    "    of digital data is frequently measured in bytes,\n",
    "    where one byte is the amount of storage needed to record an\n",
    "    integer between 0 and 255.  As we will see shortly, each pixel\n",
    "    requires three bytes to record that pixel's color.  This means the\n",
    "    amount of data required to display this image is\n",
    "    $3\\times1440\\times1468 = 6,341,760$ bytes or about 6.3\n",
    "    megabytes.\n",
    "\n",
    "Of course, we would like to store this image on a phone or\n",
    "    computer and perhaps transmit it through our data plan to\n",
    "    share it with others.  If possible, we would like to find a\n",
    "    way to represent this image using a smaller amount of data\n",
    "    so that we don't run out of memory on our phone and quickly\n",
    "    exhaust our data plan.\n",
    "        \n",
    "As we will see in this lab, the JPEG compression\n",
    "    algorithm provides a means for doing just that.  This image, when\n",
    "    stored in the JPEG format, requires only 467,359 bytes of data,\n",
    "    which is about 7% of the 6.3 megabytes required to display the\n",
    "    image.  That is, when we display this image, we are reconstructing\n",
    "    it from only 7% of the original data.  This isn't too surprising\n",
    "    since there is quite a bit of redundancy in the image; the left\n",
    "    half of the image is almost uniformly blue.  The JPEG algorithm\n",
    "    detects this redundancy by representing the data using\n",
    "    **bases** that are well-suited to the task.\n",
    "\n",
    "\n"
   ]
  },
  {
   "cell_type": "markdown",
   "metadata": {},
   "source": [
    "# Color Models\n",
    "A color is represented digitally by a vector in\n",
    "    $\\mathbb{R}^3$.  There are different ways in which we can\n",
    "    represent colors, however, depending on whether a computer or a\n",
    "    human will be processing the color.  \n",
    "\n",
    "We will describe two of these\n",
    "    representations, called color models, and demonstrate how\n",
    "    they are used in the JPEG compression algorithm.\n",
    "\n",
    "#### RGB Color Model:\n",
    "        \n",
    "Digital displays typically create colors by blending together\n",
    "    various amounts of red, green, and blue.  We can therefore\n",
    "    describe a color by putting its constituent amounts of red, green,\n",
    "    and blue into a vector $\\begin{bmatrix} R \\\\ G \\\\ B \\end{bmatrix}$.  \n",
    "\n",
    "The quantities\n",
    "    $R$, $G$, and $B$ are each stored with one byte of\n",
    "    information so they are integers between 0 and 255.  This\n",
    "    is called the $RGB$ color model.\n",
    "\n",
    "        \n",
    "Run the cell below to create a function that takes the values of the RBG vector and outputs a rectangle with the corresponding color.  (The code in this function out of the scope of this course, but at a high level it utilizes matplotlib's `imshow` method, whic displays RBG data as an image (https://matplotlib.org/stable/api/_as_gen/matplotlib.pyplot.imshow.html)"
   ]
  },
  {
   "cell_type": "code",
   "execution_count": null,
   "metadata": {},
   "outputs": [],
   "source": [
    "\n",
    "def show_rgb(rgb_input, title=None, size=2.5):\n",
    "    \"\"\"\n",
    "    Display a rectangle for an RGB color.\n",
    "\n",
    "    Parameters\n",
    "    ----------\n",
    "    rgb_input : array-like\n",
    "        [[R], [G], [B]] or [R, G, B], with each ∈ [0,255].\n",
    "    title : str or None\n",
    "        Optional title for the plot.\n",
    "    size : float\n",
    "        Size scaling for the rectangle figure.\n",
    "\n",
    "    Returns\n",
    "    -------\n",
    "    fig : matplotlib.figure.Figure\n",
    "        The created Matplotlib figure (caller should plt.show() and plt.close(fig)).\n",
    "    \"\"\"\n",
    "    # Flatten input\n",
    "    rgb_input = np.array(rgb_input, dtype=float).flatten()\n",
    "    if rgb_input.shape[0] != 3:\n",
    "        raise ValueError(\"Input must have three values: [R, G, B].\")\n",
    "\n",
    "    R, G, B = rgb_input\n",
    "\n",
    "    # --- Range checks ---\n",
    "    for name, val in zip((\"R\", \"G\", \"B\"), (R, G, B)):\n",
    "        if not (0.0 <= val <= 255.0):\n",
    "            raise ValueError(f\"{name} out of range: {val} (expected 0–255)\")\n",
    "\n",
    "    # Normalize for Matplotlib\n",
    "    rgb = rgb_input / 255.0\n",
    "    patch = np.ones((40, 60, 3), dtype=float) * rgb\n",
    "\n",
    "    # Plot\n",
    "    fig, ax = plt.subplots(figsize=(size, size*0.75))\n",
    "    ax.imshow(patch)\n",
    "    ax.set_xticks([]); ax.set_yticks([]); ax.set_frame_on(True)\n",
    "\n",
    "    if title is None:\n",
    "        title = f\"RGB = [{int(R)}, {int(G)}, {int(B)}]\"\n",
    "    ax.set_title(title)\n",
    "\n",
    "    return fig\n"
   ]
  },
  {
   "cell_type": "code",
   "execution_count": null,
   "metadata": {},
   "outputs": [],
   "source": [
    "# Create a random rgb vector\n",
    "rgb_vec = np.array([[150],[73],[255]])\n",
    "\n",
    "# Visualize the color using the show_rgb function\n",
    "fig = show_rgb(rgb_vec)\n"
   ]
  },
  {
   "cell_type": "markdown",
   "metadata": {},
   "source": [
    "**Exercise 1**: Try putting in different vector inputs to the RGB function (where each entry is between $0$ and $255$) to see how different values of RGB change the color.  \n",
    " \n",
    "\n",
    "a).  Explore what happens when $G=0, B=0$ and $R$ is allowed to vary\n",
    "\n",
    "b).  Explore happens when $R=0, G=0$ and $B$ is allowed to vary\n",
    "\n",
    "\n"
   ]
  },
  {
   "cell_type": "code",
   "execution_count": null,
   "metadata": {},
   "outputs": [],
   "source": [
    "# Use this cell to play around with the rgb function:\n",
    "\n",
    "# Create a random rgb vector\n",
    "rgb_vec = np.array([[150],[73],[255]])\n",
    "\n",
    "# Visualize the color using the show_rgb function\n",
    "fig = show_rgb(rgb_vec)\n"
   ]
  },
  {
   "cell_type": "markdown",
   "metadata": {
    "deletable": false,
    "editable": false
   },
   "source": [
    "<hr style=\"border: 5px solid #003262;\" />\n",
    "<hr style=\"border: 1px solid #fdb515;\" />\n",
    "\n",
    "\n",
    "## <span style='color:Red'>   Question 1a (1 pt) ###\n",
    "\n",
    "What vector represents pure green in the RGB color model? Give your answer as a numpy array in the format $\\begin{bmatrix} R \\\\ G \\\\ B \\end{bmatrix}$\n",
    "\n",
    "\t     \n"
   ]
  },
  {
   "cell_type": "code",
   "execution_count": null,
   "metadata": {
    "tags": [
     "otter_answer_cell"
    ]
   },
   "outputs": [],
   "source": [
    "green = ...\n",
    "\n",
    "\n",
    "fig = show_rgb(green)"
   ]
  },
  {
   "cell_type": "code",
   "execution_count": null,
   "metadata": {
    "deletable": false,
    "editable": false
   },
   "outputs": [],
   "source": [
    "grader.check(\"q1a\")"
   ]
  },
  {
   "cell_type": "markdown",
   "metadata": {
    "deletable": false,
    "editable": false
   },
   "source": [
    "<hr style=\"border: 5px solid #003262;\" />\n",
    "<hr style=\"border: 1px solid #fdb515;\" />\n",
    "\n",
    "\n",
    "## <span style='color:Red'>   Question 1b (1 pt) ###\n",
    "\n",
    "What vector represents black in the RGB color model? Give your answer as a numpy array in the format $\\begin{bmatrix} R \\\\ G \\\\ B \\end{bmatrix}$\n",
    "\n",
    "\t     \n"
   ]
  },
  {
   "cell_type": "code",
   "execution_count": null,
   "metadata": {
    "tags": [
     "otter_answer_cell"
    ]
   },
   "outputs": [],
   "source": [
    "black = ...\n",
    "\n",
    "\n",
    "fig = show_rgb(black)"
   ]
  },
  {
   "cell_type": "code",
   "execution_count": null,
   "metadata": {
    "deletable": false,
    "editable": false
   },
   "outputs": [],
   "source": [
    "grader.check(\"q1b\")"
   ]
  },
  {
   "cell_type": "markdown",
   "metadata": {
    "deletable": false,
    "editable": false
   },
   "source": [
    "<hr style=\"border: 5px solid #003262;\" />\n",
    "<hr style=\"border: 1px solid #fdb515;\" />\n",
    "\n",
    "## <span style='color:Red'>   Question 1c (1 pt) ###\n",
    "\n",
    "What vector represents pure white in the RGB color model?\n"
   ]
  },
  {
   "cell_type": "code",
   "execution_count": null,
   "metadata": {
    "tags": [
     "otter_answer_cell"
    ]
   },
   "outputs": [],
   "source": [
    "white = ...\n",
    "\n",
    "fig = show_rgb(white)"
   ]
  },
  {
   "cell_type": "code",
   "execution_count": null,
   "metadata": {
    "deletable": false,
    "editable": false
   },
   "outputs": [],
   "source": [
    "grader.check(\"q1c\")"
   ]
  },
  {
   "cell_type": "code",
   "execution_count": null,
   "metadata": {},
   "outputs": [],
   "source": [
    "# Run this cell to close the figures you ran above (so they don't take up too much memory)\n",
    "\n",
    "plt.close(fig) "
   ]
  },
  {
   "cell_type": "markdown",
   "metadata": {},
   "source": [
    "#### $YC_bC_r$ Color Model\n",
    "   \n",
    "\n",
    "We can define a basis $\\mathcal{B}=\\{\\mathbf v_1,\\mathbf v_2,\\mathbf v_3\\}$\n",
    "    where\n",
    "\n",
    "$$\\mathbf v_1 =\\left[\\begin{array}{c} 1 \\\\ 1 \\\\ 1 \\end{array}\\right],~~~\n",
    "      \\mathbf v_2 =\\left[\\begin{array}{c} 0 \\\\ -0.34413 \\\\ 1.77200\n",
    "      \\end{array}\\right],~~~\n",
    "      \\mathbf v_3 =\\left[\\begin{array}{c} 1.40200 \\\\ -0.71414 \\\\\n",
    "      0 \\end{array}\\right]\n",
    "$$\n",
    "that defines a new coordinate system with coordinates we denote\n",
    "    $Y$, $C_b$, and $C_r$:\n",
    "\n",
    "$$\\left\\{{\\begin{bmatrix} R \\\\ G \\\\ B \\end{bmatrix}}\\right\\}_{\\mathcal{B}} = \\begin{bmatrix} Y \\\\ C_b \\\\ C_r \\end{bmatrix}\n",
    "$$\n",
    "\n",
    "\n"
   ]
  },
  {
   "cell_type": "markdown",
   "metadata": {},
   "source": [
    "The coordinate $Y$ is called _luminance_ while\n",
    "    $C_b$ and $C_r$ are called blue and red\n",
    "    _chrominance_, respectively.  \n",
    "\n",
    "In this coordinate system,\n",
    "    luminance will vary from 0 to 255, while the chrominances vary\n",
    "    between -127.5 and 127.5.  This is known as the $YC_bC_r$ color\n",
    "    model.  \n",
    "\n",
    "\n",
    "Run the code below to create a function that  display a rectangle for a $YC_bC_r$  vector (again this code is outside the scope of this course, but it utilizes `cv2` an open source computer vision library)\n",
    "\n"
   ]
  },
  {
   "cell_type": "code",
   "execution_count": null,
   "metadata": {},
   "outputs": [],
   "source": [
    "\n",
    "\n",
    "def show_ycbcr(ycbcr_input, title=None, size=2.5):\n",
    "    \"\"\"\n",
    "    Display a rectangle for a YCbCr color using scikit-image (no cv2).\n",
    "\n",
    "    Parameters\n",
    "    ----------\n",
    "    ycbcr_input : array-like\n",
    "        [Y, Cb, Cr], with Y ∈ [0,255] and Cb,Cr ∈ [-127.5, 127.5] (centered chroma).\n",
    "    title : str or None\n",
    "        Optional plot title (defaults to input + converted RGB).\n",
    "    size : float\n",
    "        Figure size scale.\n",
    "\n",
    "    Returns\n",
    "    -------\n",
    "    fig : matplotlib.figure.Figure\n",
    "    \"\"\"\n",
    "    vec = np.array(ycbcr_input, dtype=float).flatten()\n",
    "    if vec.size != 3:\n",
    "        raise ValueError(\"Input must be [Y, Cb, Cr] with three values.\")\n",
    "    Y, Cb, Cr = vec\n",
    "\n",
    "    # range checks\n",
    "    if not (0.0 <= Y <= 255.0):\n",
    "        raise ValueError(f\"Y out of range: {Y} (expected 0–255)\")\n",
    "    if not (-127.5 <= Cb <= 127.5):\n",
    "        raise ValueError(f\"Cb out of range: {Cb} (expected -127.5–127.5)\")\n",
    "    if not (-127.5 <= Cr <= 127.5):\n",
    "        raise ValueError(f\"Cr out of range: {Cr} (expected -127.5–127.5)\")\n",
    "\n",
    "    # Map centered chroma to [0,255] and keep Y as-is (skimage expects YCbCr order)\n",
    "    ycbcr_255 = np.array([Y, Cb + 128.0, Cr + 128.0], dtype=np.float32).reshape(1, 1, 3)\n",
    "\n",
    "    # Convert to RGB in [0,1]\n",
    "    rgb01 = np.clip(ycbcr2rgb(ycbcr_255)[0, 0], 0.0, 1.0)\n",
    "\n",
    "    # Render a small patch\n",
    "    patch = np.ones((40, 60, 3), dtype=float) * rgb01\n",
    "    fig, ax = plt.subplots(figsize=(size, size * 0.75))\n",
    "    ax.imshow(patch)\n",
    "    ax.set_xticks([]); ax.set_yticks([]); ax.set_frame_on(True)\n",
    "\n",
    "    if title is None:\n",
    "        R, G, B = (rgb01 * 255.0).round().astype(int)\n",
    "        title = f\"YCbCr = [{Y:.1f}, {Cb:.1f}, {Cr:.1f}]\"\n",
    "    ax.set_title(title)\n",
    "\n",
    "    return fig"
   ]
  },
  {
   "cell_type": "markdown",
   "metadata": {},
   "source": [
    "**Exercise 2**: Try putting in different vector inputs to the YCbCr function to see how different values change the color.  \n",
    " \n",
    "\n",
    "a).  Explore what happens when $C_b=0, C_r=0$ and $Y$ is allowed to vary\n",
    "\n",
    "b).  Explore happens when $Y=0, C_r=0$ and $C_b$ is allowed to increase between $0$ and $127.5$\n",
    "\n",
    "\n"
   ]
  },
  {
   "cell_type": "code",
   "execution_count": null,
   "metadata": {},
   "outputs": [],
   "source": [
    "# Use this cell to play around with the YCbCr function:\n",
    "\n",
    "# Create a random YCbCr vector (Y ∈ [0,255]  and Cb, Cr ∈ [-127.5, 127.5])\n",
    "YCbCr_vec = np.array([[115],[-114],[0]])\n",
    "\n",
    "# Visualize the color using the show_ycbcr function\n",
    "fig = show_ycbcr(YCbCr_vec)\n"
   ]
  },
  {
   "cell_type": "markdown",
   "metadata": {
    "deletable": false,
    "editable": false
   },
   "source": [
    "<hr style=\"border: 5px solid #003262;\" />\n",
    "<hr style=\"border: 1px solid #fdb515;\" />\n",
    "\n",
    "\n",
    "## <span style='color:Red'>   Question 2a (1 pt) ###\n",
    "\n",
    "Recall from above:  $\\mathcal{B}=\\{\\mathbf v_1,\\mathbf v_2,\\mathbf v_3\\}$\n",
    "    where\n",
    "\n",
    "$$\\mathbf v_1 =\\left[\\begin{array}{c} 1 \\\\ 1 \\\\ 1 \\end{array}\\right],~~~\n",
    "      \\mathbf v_2 =\\left[\\begin{array}{c} 0 \\\\ -0.34413 \\\\ 1.77200\n",
    "      \\end{array}\\right],~~~\n",
    "      \\mathbf v_3 =\\left[\\begin{array}{c} 1.40200 \\\\ -0.71414 \\\\\n",
    "      0 \\end{array}\\right]\n",
    "$$\n",
    "\n",
    "Verify that $\\mathcal{B}$ is a basis.  "
   ]
  },
  {
   "cell_type": "markdown",
   "metadata": {
    "tags": [
     "otter_answer_cell"
    ]
   },
   "source": [
    "**Question 2a Answer Cell**:  Write your justification as to why this is a basis in this cell.  You can use the code cell below for any calculations needed to justify your answer, but for credit you will need a written explanation as well. "
   ]
  },
  {
   "cell_type": "code",
   "execution_count": null,
   "metadata": {
    "tags": [
     "otter_answer_cell"
    ]
   },
   "outputs": [],
   "source": [
    "..."
   ]
  },
  {
   "cell_type": "markdown",
   "metadata": {
    "deletable": false,
    "editable": false
   },
   "source": [
    "<hr style=\"border: 5px solid #003262;\" />\n",
    "<hr style=\"border: 1px solid #fdb515;\" />\n",
    "\n",
    "## <span style='color:Red'>   Question 2b (1 pt) ###\n",
    "\n",
    "Find the matrix $P_B$ that converts from $\\begin{bmatrix} Y \\\\ C_b \\\\ C_r \\end{bmatrix}$ coordinates into $\\begin{bmatrix} R \\\\ G\\\\ B \\end{bmatrix}$ coordinates\n"
   ]
  },
  {
   "cell_type": "code",
   "execution_count": null,
   "metadata": {
    "tags": [
     "otter_answer_cell"
    ]
   },
   "outputs": [],
   "source": [
    "P_B = ...\n",
    "\n",
    "P_B"
   ]
  },
  {
   "cell_type": "code",
   "execution_count": null,
   "metadata": {
    "deletable": false,
    "editable": false
   },
   "outputs": [],
   "source": [
    "grader.check(\"q2b\")"
   ]
  },
  {
   "cell_type": "markdown",
   "metadata": {
    "deletable": false,
    "editable": false
   },
   "source": [
    "<hr style=\"border: 5px solid #003262;\" />\n",
    "<hr style=\"border: 1px solid #fdb515;\" />\n",
    "\n",
    "## <span style='color:Red'>   Question 2c (1 pt) ###\n",
    "\n",
    "Use Numpy to find the matrix that converts from  $\\begin{bmatrix} R \\\\ G\\\\ B \\end{bmatrix}$ coordinates into $\\begin{bmatrix} Y \\\\ C_b \\\\ C_r \\end{bmatrix}$ coordinates\n"
   ]
  },
  {
   "cell_type": "code",
   "execution_count": null,
   "metadata": {
    "tags": [
     "otter_answer_cell"
    ]
   },
   "outputs": [],
   "source": [
    "rgb2ycc = ..."
   ]
  },
  {
   "cell_type": "code",
   "execution_count": null,
   "metadata": {
    "deletable": false,
    "editable": false
   },
   "outputs": [],
   "source": [
    "grader.check(\"q2c\")"
   ]
  },
  {
   "cell_type": "markdown",
   "metadata": {
    "deletable": false,
    "editable": false
   },
   "source": [
    "<hr style=\"border: 5px solid #003262;\" />\n",
    "<hr style=\"border: 1px solid #fdb515;\" />\n",
    "\n",
    "## <span style='color:Red'>   Question 2d (5 pts) ###\n",
    "\n",
    "Find the \n",
    "$\\begin{bmatrix} Y \\\\ C_b \\\\ C_r \\end{bmatrix}\n",
    "$ coordinates for the following colors.  (Notice we can input your answer into the show_ycbcr function to visually check that it is correct).\n",
    "\n"
   ]
  },
  {
   "cell_type": "code",
   "execution_count": null,
   "metadata": {
    "tags": [
     "otter_answer_cell"
    ]
   },
   "outputs": [],
   "source": [
    "\n",
    "pure_red = ...\n",
    "\n",
    "fig = show_ycbcr(pure_red.round(1))"
   ]
  },
  {
   "cell_type": "code",
   "execution_count": null,
   "metadata": {
    "tags": [
     "otter_answer_cell"
    ]
   },
   "outputs": [],
   "source": [
    "pure_blue = ...\n",
    "\n",
    "fig = show_ycbcr(pure_blue.round(1))"
   ]
  },
  {
   "cell_type": "code",
   "execution_count": null,
   "metadata": {
    "tags": [
     "otter_answer_cell"
    ]
   },
   "outputs": [],
   "source": [
    "pure_green = ...\n",
    "\n",
    "fig = show_ycbcr(pure_green.round(1))\n",
    "\n"
   ]
  },
  {
   "cell_type": "code",
   "execution_count": null,
   "metadata": {
    "tags": [
     "otter_answer_cell"
    ]
   },
   "outputs": [],
   "source": [
    "pure_white = ...\n",
    "\n",
    "fig = show_ycbcr(pure_white.round(1))\n"
   ]
  },
  {
   "cell_type": "code",
   "execution_count": null,
   "metadata": {
    "tags": [
     "otter_answer_cell"
    ]
   },
   "outputs": [],
   "source": [
    "pure_black = ...\n",
    "\n",
    "fig = show_ycbcr(pure_black.round(1))"
   ]
  },
  {
   "cell_type": "code",
   "execution_count": null,
   "metadata": {
    "deletable": false,
    "editable": false
   },
   "outputs": [],
   "source": [
    "grader.check(\"q2d\")"
   ]
  },
  {
   "cell_type": "markdown",
   "metadata": {
    "deletable": false,
    "editable": false
   },
   "source": [
    "<hr style=\"border: 5px solid #003262;\" />\n",
    "<hr style=\"border: 1px solid #fdb515;\" />\n",
    "\n",
    "## <span style='color:Red'>   Question 2e (3 pts) ###\n",
    "\n",
    "Find the \n",
    "$\\begin{bmatrix} R \\\\ G \\\\ B \\end{bmatrix}\n",
    "$ coordinates for the following colors and check visually that the two representations agree.  \n",
    "\n",
    " i). $\\begin{bmatrix} Y \\\\ C_b \\\\ C_r \\end{bmatrix}=\\begin{bmatrix} 128 \\\\ 0 \\\\ 0 \\end{bmatrix}$.\n",
    "\n",
    " ii).  $\\begin{bmatrix} Y \\\\ C_b \\\\ C_r \\end{bmatrix}=\\begin{bmatrix} 128 \\\\ 60 \\\\ 0 \\end{bmatrix}$.\n",
    "\n",
    " iii).  $\\begin{bmatrix} Y \\\\ C_b \\\\ C_r \\end{bmatrix}=\\begin{bmatrix} 128 \\\\ 0 \\\\ 60 \\end{bmatrix}$. \n"
   ]
  },
  {
   "cell_type": "code",
   "execution_count": null,
   "metadata": {
    "tags": [
     "otter_answer_cell"
    ]
   },
   "outputs": [],
   "source": [
    "\n",
    "ycc_i = np.array([[128],[0],[0]])\n",
    "\n",
    "rgb_i = ...\n",
    "\n",
    "\n",
    "\n",
    "fig = show_ycbcr(ycc_i)\n",
    "\n",
    "fig = show_rgb(rgb_i)\n"
   ]
  },
  {
   "cell_type": "code",
   "execution_count": null,
   "metadata": {
    "tags": [
     "otter_answer_cell"
    ]
   },
   "outputs": [],
   "source": [
    "ycc_ii = np.array([[128],[60],[0]])\n",
    "\n",
    "rgb_ii = ...\n",
    "\n",
    "\n",
    "\n",
    "fig = show_ycbcr(ycc_ii)\n",
    "\n",
    "fig = show_rgb(rgb_ii)\n"
   ]
  },
  {
   "cell_type": "code",
   "execution_count": null,
   "metadata": {
    "tags": [
     "otter_answer_cell"
    ]
   },
   "outputs": [],
   "source": [
    "ycc_iii = np.array([[128],[0],[60]])\n",
    "\n",
    "rgb_iii = ...\n",
    "\n",
    "\n",
    "\n",
    "fig = show_ycbcr(ycc_iii)\n",
    "\n",
    "fig = show_rgb(rgb_iii)\n"
   ]
  },
  {
   "cell_type": "code",
   "execution_count": null,
   "metadata": {
    "deletable": false,
    "editable": false
   },
   "outputs": [],
   "source": [
    "grader.check(\"q2e\")"
   ]
  },
  {
   "cell_type": "code",
   "execution_count": null,
   "metadata": {},
   "outputs": [],
   "source": [
    "# Run this cell to close the figures you ran above (so they don't take up too much memory)\n",
    "\n",
    "plt.close(fig) "
   ]
  },
  {
   "cell_type": "markdown",
   "metadata": {
    "deletable": false,
    "editable": false
   },
   "source": [
    "<!-- BEGIN QUESTION -->\n",
    "\n",
    "<hr style=\"border: 5px solid #003262;\" />\n",
    "<hr style=\"border: 1px solid #fdb515;\" />\n",
    "\n",
    "## <span style='color:Red'>   Question 2f (3 pts) ###\n",
    "\n",
    "In the Markdown cell below, write expressions (using LaTeX) for:\n",
    "\n",
    "i).  The luminance $Y$ as it depends on $R$,\n",
    "  $G$, and $B$.\n",
    "\n",
    "ii). The blue chrominance $C_b$ as it depends on $R$,\n",
    "  $G$, and $B$.  \n",
    "iii). The red chrominance $C_r$ as it depends on $R$,\n",
    "  $G$, and $B$.\n",
    "\n",
    " Notice how these quantities can be roughly interpreted by stating that:\n",
    "\n",
    " - the luminance represents the brightness of the\n",
    "  color.\n",
    " - the blue chrominance measures the amount of blue in\n",
    "  the color.\n",
    " - the red chrominance measures the amount of red in\n",
    "  the color. \n"
   ]
  },
  {
   "cell_type": "markdown",
   "metadata": {
    "tags": [
     "otter_answer_cell"
    ]
   },
   "source": [
    "Complete these equations (i.e. write each of these variables as functions of $R$, $G$ and $B$), using LaTeX\n",
    "\n",
    "i).  $Y = ...$\n",
    "\n",
    "ii).  $C_b = ...$\n",
    "\n",
    "iii).  $C_r = ...$"
   ]
  },
  {
   "cell_type": "markdown",
   "metadata": {
    "deletable": false,
    "editable": false
   },
   "source": [
    "<!-- END QUESTION -->\n",
    "\n",
    "These two color models provide us with two ways to represent\n",
    "    colors, each of which is useful in a certain context:  \n",
    "\n",
    "Digital\n",
    "    displays, such as those in phones and computer monitors, create\n",
    "    colors by combining various amounts of red, green, and blue.\n",
    "    The $RGB$ model is therefore most relevant in digital\n",
    "    applications.\n",
    "\n",
    "\n",
    "By contrast, the $YC_bC_r$ color model was created based on\n",
    "    research into human vision and aims to concentrate the most visually\n",
    "    important data into a single coordinate, the luminance, to which our\n",
    "    eyes are most sensitive.  Of course, any basis of $\\mathbb{R}^3$\n",
    "    must have three vectors so we need two more coordinates, blue\n",
    "    and red chrominance, if we want to represent all colors.\n",
    "\n",
    "To see this explicitly, below is the original image and the image as\n",
    "    rendered with only the luminance.  That is, on the right, the\n",
    "    color of each pixel is represented by only one byte, which is the\n",
    "    luminance. \n",
    "\n",
    "<img src=\"img/first.png\">\n",
    "\n",
    "\n",
    "This image essentially looks like a grayscale version\n",
    "    of the original image with all its visual detail.  In fact, before\n",
    "    digital television became the standard, television signals were\n",
    "    broadcast using the $YC_bC_r$ color model.  When a signal was\n",
    "    displayed on a black-and-white television, the luminance was\n",
    "    displayed and the two chrominance values simply ignored.\n",
    "\n",
    "\n",
    "\n",
    "For comparison, shown below\n",
    "    are the corresponding images created using only the blue\n",
    "    chrominance and the red chrominance.  Notice that the amount of\n",
    "    visual detail is considerably less in these images.\n",
    "\n",
    "<img src=\"img/second.png\">\n",
    "\n",
    "\n",
    "\n",
    "The aim of the JPEG compression algorithm is to represent an\n",
    "    image using the smallest amount of data possible.  By converting\n",
    "    from the $RGB$ color model to the $YC_bC_r$ color model,\n",
    "    we are concentrating the most visually important data into\n",
    "    the luminance values.  This is helpful because we can\n",
    "    safely ignore some of the data in the chrominance values since\n",
    "    that data is not as visually important.\n"
   ]
  },
  {
   "cell_type": "markdown",
   "metadata": {},
   "source": [
    "# The JPEG compression algorithm\n",
    "The key to representing the image using a smaller amount of\n",
    "    data is to detect redundancies in the data.  To begin, we\n",
    "    first break the image, which is composed of $1440\\times 1468$\n",
    "    pixels, into small $8\\times8$ blocks of pixels.  \n",
    "\n",
    "For example,\n",
    "    we will consider the $8\\times8$ block of pixels outlined in\n",
    "    green in the original image, shown on the left in the figure below.  The image on the right zooms in on the\n",
    "    block.\n",
    "\n",
    "<img src=\"img/zoom.png\">\n",
    "\n",
    "\n",
    "\n",
    "Notice that this block, as seen in the original image, is very\n",
    "    small.  If we were to change some of the colors in this block\n",
    "    slightly, our eyes would probably not notice.\n",
    "\n",
    "Here we see a close-up of the block. The important point here is that the colors do not change too much over this block. In fact, we expect this to be true for most of the blocks. There will, of course, be some blocks that contain dramatic changes, such as where the sky and rock intersect, but they will be the exception.\n",
    "\n",
    "<img src=\"img/eightblock.png\" width=\"250\" height=\"250\">\n",
    "\n",
    "\n",
    "\n",
    "\n"
   ]
  },
  {
   "cell_type": "markdown",
   "metadata": {},
   "source": [
    "Following our earlier work, we will change the representation\n",
    "    of colors from the $RGB$ color model to the $YC_bC_r$\n",
    "    model.  This separates the colors into luminance and chrominance\n",
    "    values that we will consider separately.\n",
    "    In the figure below, we see the luminance\n",
    "    values of this block.  Again, notice how these values do not vary\n",
    "    significantly over the block.\n",
    "\n",
    "<img src=\"img/lum_values.png\" width=\"600\" height=\"300\">\n",
    "        \n",
    "The code below creates a matrix `luminance` with these values"
   ]
  },
  {
   "cell_type": "code",
   "execution_count": null,
   "metadata": {},
   "outputs": [],
   "source": [
    "luminance = np.array([\n",
    "    [176, 170, 170, 169, 162, 160, 155, 150],\n",
    "    [181, 179, 175, 167, 162, 160, 154, 149],\n",
    "    [165, 170, 169, 161, 162, 161, 160, 158],\n",
    "    [139, 150, 164, 166, 159, 160, 162, 163],\n",
    "    [131, 137, 157, 165, 163, 163, 164, 164],\n",
    "    [131, 132, 153, 161, 167, 167, 167, 169],\n",
    "    [140, 142, 157, 166, 166, 166, 167, 169],\n",
    "    [150, 152, 160, 168, 172, 170, 168, 168]\n",
    "], dtype=float)"
   ]
  },
  {
   "cell_type": "markdown",
   "metadata": {},
   "source": [
    "Our strategy in the compression algorithm is to perform a\n",
    "    **change of basis** to take advantage of the fact that the luminance\n",
    "    values do not change significantly over the block.  Rather than\n",
    "    recording the luminance of each of the pixels, this change of basis\n",
    "    will allow us to record the average luminance along with some\n",
    "    information about how the individual colors vary from the average.\n",
    "\n",
    "\n",
    "\n",
    "\n",
    "The JPEG compression algorithm uses a **_Discrete Cosine Fourier\n",
    "    Transform_**, which is defined using the basis $\\mathcal{B}$\n",
    "    whose basis vectors are\n",
    "\n",
    "\n",
    "$$\\begin{aligned}\n",
    "      \\mathbf v_0 = \\left[\\begin{array}{c}\n",
    "      \\cos\\left(\\frac{(2\\cdot0+1)\\cdot0\\pi}{16}\\right) \\\\\n",
    "      \\cos\\left(\\frac{(2\\cdot1+1)\\cdot0\\pi}{16}\\right) \\\\\n",
    "      \\cos\\left(\\frac{(2\\cdot2+1)\\cdot0\\pi}{16}\\right) \\\\\n",
    "      \\vdots \\\\\n",
    "      \\cos\\left(\\frac{(2\\cdot7+1)\\cdot0\\pi}{16}\\right) \\\\\n",
    "      \\end{array}\\right], &\n",
    "      \\mathbf v_1 = \\left[\\begin{array}{c}\n",
    "      \\cos\\left(\\frac{(2\\cdot0+1)\\cdot1\\pi}{16}\\right) \\\\\n",
    "      \\cos\\left(\\frac{(2\\cdot1+1)\\cdot1\\pi}{16}\\right) \\\\\n",
    "      \\cos\\left(\\frac{(2\\cdot2+1)\\cdot1\\pi}{16}\\right) \\\\\n",
    "      \\vdots \\\\\n",
    "      \\cos\\left(\\frac{(2\\cdot7+1)\\cdot1\\pi}{16}\\right) \\\\\n",
    "      \\end{array}\\right], \\\\ \\\\\n",
    "      \\ldots,\n",
    "      \\mathbf v_6 = \\left[\\begin{array}{c}\n",
    "      \\cos\\left(\\frac{(2\\cdot0+1)\\cdot6\\pi}{16}\\right) \\\\\n",
    "      \\cos\\left(\\frac{(2\\cdot1+1)\\cdot6\\pi}{16}\\right) \\\\\n",
    "      \\cos\\left(\\frac{(2\\cdot2+1)\\cdot6\\pi}{16}\\right) \\\\\n",
    "      \\vdots \\\\\n",
    "      \\cos\\left(\\frac{(2\\cdot7+1)\\cdot6\\pi}{16}\\right) \\\\\n",
    "      \\end{array}\\right], &\n",
    "      \\mathbf v_7 = \\left[\\begin{array}{c}\n",
    "      \\cos\\left(\\frac{(2\\cdot0+1)\\cdot7\\pi}{16}\\right) \\\\\n",
    "      \\cos\\left(\\frac{(2\\cdot1+1)\\cdot7\\pi}{16}\\right) \\\\\n",
    "      \\cos\\left(\\frac{(2\\cdot2+1)\\cdot7\\pi}{16}\\right) \\\\\n",
    "      \\vdots \\\\\n",
    "      \\cos\\left(\\frac{(2\\cdot7+1)\\cdot7\\pi}{16}\\right) \\\\\n",
    "      \\end{array}\\right]\\text{.} \\\\\n",
    "      \\end{aligned}$$\n",
    "\n"
   ]
  },
  {
   "cell_type": "markdown",
   "metadata": {},
   "source": [
    "The code below creates a matrix `P` whose columns are the basis vectors shown above. "
   ]
  },
  {
   "cell_type": "code",
   "execution_count": null,
   "metadata": {},
   "outputs": [],
   "source": [
    "# --- Cosine matrix P (8x8) ---\n",
    "# Matches: mat = [[cos((2*i+1)*j*pi/16) ...]]\n",
    "i = np.arange(8)[:, None]              # shape (8,1)\n",
    "j = np.arange(8)[None, :]              # shape (1,8)\n",
    "P = np.cos((2*i + 1) * j * np.pi / 16) # shape (8,8)\n",
    "P"
   ]
  },
  {
   "cell_type": "markdown",
   "metadata": {},
   "source": [
    "On first glance, this probably looks intimidating, but we can\n",
    "    make sense of it by looking at these vectors graphically.  \n",
    "\n",
    "Wait - you're probably thinking \"how are we going to visualize something in 8 dimensions?\"        \n",
    "        You're right, we can't plot these vectors as arrows like we're used to because they're in 8 dimensions!  However, we can plot each component of the vector on the y-axis, to get a sense of how much the components vary from one another.  \n",
    "        \n",
    "Shown below are four of these basis\n",
    "    vectors.  \n",
    "\n",
    "<img src=\"img/dct.png\" width = 500>"
   ]
  },
  {
   "cell_type": "markdown",
   "metadata": {},
   "source": [
    "Notice that \n",
    " - $\\mathbf v_0$ is constantly 1,\n",
    " - $\\mathbf v_1$ varies relatively slowly, \n",
    " - $\\mathbf v_2$ varies a little more rapidly, and \n",
    " - $\\mathbf v_7$ varies quite rapidly.\n",
    "\n",
    "The main thing to notice is that:  the basis vectors vary at\n",
    "    different rates with the first vectors varying relatively slowly\n",
    "    and the later vectors varying more rapidly.\n",
    "\n",
    "You can play around here to visually see how these basis vectors change as you adjust their coefficients: \n",
    " https://davidaustinm.github.io/javascript/fourier/fourier-separate.html"
   ]
  },
  {
   "cell_type": "markdown",
   "metadata": {
    "deletable": false,
    "editable": false
   },
   "source": [
    "<hr style=\"border: 5px solid #003262;\" />\n",
    "<hr style=\"border: 1px solid #fdb515;\" />\n",
    "\n",
    "## <span style='color:Red'>   Question 3a (3 pts) ###\n",
    "\n",
    "To start, we’ll consider the first column of luminance values, which is the 8-dimensional vector $\\mathbf{x}$ represented graphically as:\n",
    "\n",
    "\n",
    "\n",
    "<img src=\"img/x.png\" width = 500>\n",
    "\n",
    "Notice the following:\n",
    " - There are not rapid variations in these numbers within the column.\n",
    " - If some of the values were to change slightly, our eyes would probably not notice because the pixels, when represented on a screen, are so small.\n",
    "\n",
    "\n",
    "\n"
   ]
  },
  {
   "cell_type": "markdown",
   "metadata": {
    "deletable": false,
    "editable": false
   },
   "source": [
    "Find the vector \n",
    "\n",
    "\n",
    "$$\\mathbf{f} = \\left\\{\\mathbf x\\right\\}_{\\mathcal{B}} = \\left[\\begin{array}{c}\n",
    "\tF_0 \\\\ F_1 \\\\ F_2 \\\\ \\vdots \\\\ F_7\n",
    "\t\\end{array}\\right]$$\n",
    "\n",
    "where ${\\mathcal{B}}$ is the basis for the Discrete Cosine Transform basis given above.\n",
    "\n",
    "The coordinates $F_j$ are called the **Fourier\n",
    "      coefficients** of the vector $\\mathbf x$.\n",
    "\n"
   ]
  },
  {
   "cell_type": "code",
   "execution_count": null,
   "metadata": {
    "tags": [
     "otter_answer_cell"
    ]
   },
   "outputs": [],
   "source": [
    "x =  luminance[:, [0]] \n",
    "\n",
    "f = ...\n",
    "\n",
    "print(f)"
   ]
  },
  {
   "cell_type": "code",
   "execution_count": null,
   "metadata": {
    "deletable": false,
    "editable": false
   },
   "outputs": [],
   "source": [
    "grader.check(\"q3a\")"
   ]
  },
  {
   "cell_type": "markdown",
   "metadata": {
    "deletable": false,
    "editable": false
   },
   "source": [
    "<!-- BEGIN QUESTION -->\n",
    "\n",
    "<hr style=\"border: 5px solid #003262;\" />\n",
    "<hr style=\"border: 1px solid #fdb515;\" />\n",
    "\n",
    "## <span style='color:Red'>   Question 3b (2 pts) ###\n",
    "\n",
    "i).  What does the relative size of the Fourier coefficients tell us about the relative contributions of the basis vectors $\\mathbf{v_0, v_1, ... v_7}$ to the vector $\\mathbf{x}$?\n",
    "\n",
    "ii).  How is your observation in part(i) consistent with the fact that \"there are not rapid variations\" in the vector $\\mathbf{x}$?\n",
    "\n",
    "Answer both questions in the Markdown cell below.\n",
    "\n"
   ]
  },
  {
   "cell_type": "markdown",
   "metadata": {
    "tags": [
     "otter_answer_cell"
    ]
   },
   "source": [
    "_Type your answer here, replacing this text._"
   ]
  },
  {
   "cell_type": "markdown",
   "metadata": {
    "deletable": false,
    "editable": false
   },
   "source": [
    "<!-- END QUESTION -->\n",
    "\n",
    "<hr style=\"border: 5px solid #003262;\" />\n",
    "<hr style=\"border: 1px solid #fdb515;\" />\n",
    "\n",
    "## <span style='color:Red'>   Question 3c (3 pts) ###\n",
    "\n",
    "i).  Form a new vector $\\mathbf{f_{approx}}$ which is formed from $\\mathbf{f}$ by rounding the Fourier coefficients to the nearest integer and setting $F_6$ and $F_7$ to zero.  In other words, we are only saving $6$ of the $8$ Fourier coefficients or $75\\%$ of them.\n",
    "\n",
    "Hint:  NumPy arrays have a method `round` (https://numpy.org/doc/2.3/reference/generated/numpy.round.html) \n",
    "\n",
    "\n",
    "ii).  Then find $\\mathbf{x_{approx}}$, an approximation to the vector $\\mathbf{x}$ formed by the approximate Fourier coefficients $\\mathbf{f_{approx}}$.\n",
    "\n",
    "\n",
    "iii).  Finally calculate $\\mathbf{x} - \\mathbf{x_{approx}}$, which measures the error in your approximation.\n",
    "\n",
    "\n",
    "\n"
   ]
  },
  {
   "cell_type": "code",
   "execution_count": null,
   "metadata": {
    "tags": [
     "otter_answer_cell"
    ]
   },
   "outputs": [],
   "source": [
    "# Replace the ... below with any code you need to calculate the vectors:\n",
    "\n",
    "...\n",
    "\n",
    "f_approx = ...\n",
    "\n",
    "\n",
    "x_approx = ...\n",
    "\n",
    "\n",
    "error = ...\n",
    "\n",
    "\n",
    "print (\"x:\", x)\n",
    "\n",
    "print(\"x_approx:\", x_approx.round(2))\n",
    "\n",
    "print(\"error\", error)\n",
    "\n"
   ]
  },
  {
   "cell_type": "code",
   "execution_count": null,
   "metadata": {
    "deletable": false,
    "editable": false
   },
   "outputs": [],
   "source": [
    "grader.check(\"q3b\")"
   ]
  },
  {
   "cell_type": "markdown",
   "metadata": {},
   "source": [
    "Here’s the central idea:  we have saved only $75\\%$ of the Fourier coefficients but when we reconstruct the visual information in the vector $\\mathbf{x}$, the error is pretty small and probably not visible to the human eye (remember that the components of $\\mathbf{x}$ can vary between 0 and 255).  We say that the **compression ratio** is $75\\%$.\n",
    "\n",
    "\n",
    "In fact, when a JPEG file is created, there is a “quality” parameter that can be set. When the quality parameter is high, we will store many of the Fourier coefficients; when it is low, we will ignore more of them.\n"
   ]
  },
  {
   "cell_type": "markdown",
   "metadata": {
    "deletable": false,
    "editable": false
   },
   "source": [
    "<hr style=\"border: 5px solid #003262;\" />\n",
    "<hr style=\"border: 1px solid #fdb515;\" />\n",
    "\n",
    "## <span style='color:Red'>   Question 3d (3 pts) ###\n",
    "\n",
    "\n",
    "Let’s try again saving only the four largest Fourier coefficients (a compression ratio of $50\\%$);  that is, \n",
    "\n",
    "i). Form a new $\\mathbf{f_{approx50}}$ from $\\mathbf{f}$ by rounding the Fourier coefficients to the nearest integer and setting the **four** Fourier coefficients with the smallest magnitudes to zero.  \n",
    "\n",
    "ii).  Then find $\\mathbf{x_{approx50}}$, an approximation to the vector $\\mathbf{x}$ formed by the approximate Fourier coefficients $\\mathbf{f_{approx50}}$.\n",
    "\n",
    "\n",
    "iii).  Finally calculate $\\mathbf{x} - \\mathbf{x_{approx50}}$, which measures the error in your approximation.\n",
    "\n",
    "\n",
    "\n"
   ]
  },
  {
   "cell_type": "code",
   "execution_count": null,
   "metadata": {
    "tags": [
     "otter_answer_cell"
    ]
   },
   "outputs": [],
   "source": [
    "# Replace the ... below with any code you need to calculate the vectors:\n",
    "\n",
    "...\n",
    "\n",
    "f_approx50 = ...\n",
    "\n",
    "\n",
    "x_approx50 = ...\n",
    "\n",
    "\n",
    "error50 = ...\n",
    "\n",
    "\n",
    "print (\"x:\", x)\n",
    "\n",
    "print(\"x_approx50:\", x_approx50.round(2))\n",
    "\n",
    "print(\"error50\", error50)\n",
    "\n"
   ]
  },
  {
   "cell_type": "code",
   "execution_count": null,
   "metadata": {
    "deletable": false,
    "editable": false
   },
   "outputs": [],
   "source": [
    "grader.check(\"q3d\")"
   ]
  },
  {
   "cell_type": "markdown",
   "metadata": {},
   "source": [
    "Notice the tradeoff: we are only saving $50\\%$ of the Fourier coefficients, but the error in the reconstructed vector $\\mathbf{x}$ is bigger.  \n",
    " \n"
   ]
  },
  {
   "cell_type": "markdown",
   "metadata": {
    "deletable": false,
    "editable": false
   },
   "source": [
    "<hr style=\"border: 5px solid #003262;\" />\n",
    "<hr style=\"border: 1px solid #fdb515;\" />\n",
    "\n",
    "## <span style='color:Red'>   Question 3e (2 pts) ###\n",
    "\n",
    "\n",
    "We can in fact do better.  Let’s return to the 8 × 8 matrix of luminance values. Each column of luminance values forms an 8-dimensional vector, the first of which we studied in the last 4 parts of this problem.  \n",
    "\n",
    "If $\\mathbf{x_i}$ is the $ith$ column of the luminance matrix, then we can find its corresponding vector $\\mathbf{f_i}$ of Fourier coefficients.  \n",
    "\n",
    "Find the $8\\times 8$ Fourier coefficient matrix whose columns are the vectors $\\mathbf{f_0, f_1, ...f_7}$\n",
    "\n",
    "\n",
    "\n",
    "\n",
    "\n"
   ]
  },
  {
   "cell_type": "code",
   "execution_count": null,
   "metadata": {
    "tags": [
     "otter_answer_cell"
    ]
   },
   "outputs": [],
   "source": [
    "f_matrix = np.linalg.inv(P)@luminance\n",
    "\n",
    "print(f_matrix)"
   ]
  },
  {
   "cell_type": "code",
   "execution_count": null,
   "metadata": {
    "deletable": false,
    "editable": false
   },
   "outputs": [],
   "source": [
    "grader.check(\"q3e\")"
   ]
  },
  {
   "cell_type": "markdown",
   "metadata": {},
   "source": [
    "As you scan across a row, take the first row, for instance, you’ll see that the values don’t change wildly.  So maybe we can further compress our data by taking the Fourier transform _of the rows of the matrix_ of Fourier coefficients."
   ]
  },
  {
   "cell_type": "code",
   "execution_count": null,
   "metadata": {},
   "outputs": [],
   "source": [
    "f_matrix[0]"
   ]
  },
  {
   "cell_type": "markdown",
   "metadata": {
    "deletable": false,
    "editable": false
   },
   "source": [
    "<hr style=\"border: 5px solid #003262;\" />\n",
    "<hr style=\"border: 1px solid #fdb515;\" />\n",
    "\n",
    "## <span style='color:Red'>   Question 3f (2 pts) ###\n",
    "\n",
    "\n",
    "i). Define the vector $\\mathbf{y}$ consisting of the elements of the first row of the Fourier coefficient matrix (from part e).    While this represents the first row, for your answer here define this as a column vector in NumPy.  (Tip - see the beginning of this lab for how to use the Transpose function in NumPy)\n",
    "\n",
    "ii). Then find the vector of Fourier coefficients $\\{{\\mathbf{y}}\\}_{\\mathcal{B}}$. Again, write this as a column vector in NumPy.  \n",
    "\n"
   ]
  },
  {
   "cell_type": "code",
   "execution_count": null,
   "metadata": {
    "tags": [
     "otter_answer_cell"
    ]
   },
   "outputs": [],
   "source": [
    "y = ...\n",
    "\n",
    "y_B = ...\n",
    "\n",
    "print(y.round(0))\n",
    "\n",
    "print(y_B.round(0))\n"
   ]
  },
  {
   "cell_type": "code",
   "execution_count": null,
   "metadata": {
    "deletable": false,
    "editable": false
   },
   "outputs": [],
   "source": [
    "grader.check(\"q3f\")"
   ]
  },
  {
   "cell_type": "markdown",
   "metadata": {},
   "source": [
    "Notice the relative size of these Fourier coefficients.  Many of them are small, meaning we likely don't need to keep this information.  \n",
    "\n",
    "\n",
    "This suggests that we can also Fourier transform each of the rows of the Fourier coefficient matrix.  \n",
    "\n",
    "\n",
    "\n",
    "This is called the **double Fourier transform**  and there’s a function \n",
    "`double_fourier` defined here\n",
    "that does this for any matrix A using the Discrete Fourier Transform Basis defined in the matrix P.\n"
   ]
  },
  {
   "cell_type": "code",
   "execution_count": null,
   "metadata": {},
   "outputs": [],
   "source": [
    "def double_fourier(A, P):\n",
    "    \"\"\"  \n",
    "    Applies a Discrete Cosine Fourier transform to both the columns and rows of A\n",
    "    Returns the matrix of Fourier coefficients.\n",
    "    \"\"\"\n",
    "    P_inv = np.linalg.inv(P)\n",
    "    A = np.asarray(A, dtype=float)\n",
    "    return P_inv @ A @ P_inv.T"
   ]
  },
  {
   "cell_type": "markdown",
   "metadata": {
    "deletable": false,
    "editable": false
   },
   "source": [
    "<hr style=\"border: 5px solid #003262;\" />\n",
    "<hr style=\"border: 1px solid #fdb515;\" />\n",
    "\n",
    "## <span style='color:Red'>   Question 3g (1 pts) ###\n",
    "\n",
    "Use the `double_fourier` function above to apply a Discrete Cosine Fourier transform to both the columns and rows of the luminance matrix. This function returns the matrix of Fourier coefficients.  \n",
    "\n",
    "As a check, notice that the first row of this resulting matrix is the vector $\\{{\\mathbf{y}}\\}_{\\mathcal{B}}$  \n",
    "you found in the previous part.  \n"
   ]
  },
  {
   "cell_type": "code",
   "execution_count": null,
   "metadata": {
    "tags": [
     "otter_answer_cell"
    ]
   },
   "outputs": [],
   "source": [
    "double_f = ...\n",
    "\n",
    "\n",
    "\n",
    "print(\"first row of double_f\", double_f[0,:])\n",
    "\n",
    "print(\"y_B from previous part\",y_B.T)\n"
   ]
  },
  {
   "cell_type": "code",
   "execution_count": null,
   "metadata": {
    "deletable": false,
    "editable": false
   },
   "outputs": [],
   "source": [
    "grader.check(\"q3g\")"
   ]
  },
  {
   "cell_type": "markdown",
   "metadata": {
    "deletable": false,
    "editable": false
   },
   "source": [
    "<hr style=\"border: 5px solid #003262;\" />\n",
    "<hr style=\"border: 1px solid #fdb515;\" />\n",
    "\n",
    "## <span style='color:Red'>   Question 3h (3 pts) ###\n",
    "\n",
    "Create a function `round_matrix( matrix_name, minimum )` that will round the entries in the given matrix to the nearest integer and set any entries whose absolute value is smaller than minimum to zero.  For instance, \n",
    "round_matrix( A, 4 ) will round the entries of A and set any entries in the range from -3 to 3 equal to zero. \n",
    "Your function should **not** contain any for-loops\n",
    "\n",
    "Then use the function to round the matrix of double Fourier coefficients with a minimum value of 4 and save the result to the variable `double_f_simplified`\n",
    "\n"
   ]
  },
  {
   "cell_type": "code",
   "execution_count": null,
   "metadata": {
    "tags": [
     "otter_answer_cell"
    ]
   },
   "outputs": [],
   "source": [
    "def round_matrix(A, scale):\n",
    "    \"\"\"\n",
    "    Round entries to nearest integer, then zero out small values\n",
    "    whose absolute value is < scale. Returns an (8,8) integer value numpy array.\n",
    "    \"\"\"\n",
    "    ...\n",
    "    \n",
    "    return B\n",
    "\n",
    "double_f_simplified = ...\n",
    "\n",
    "print(double_f_simplified)"
   ]
  },
  {
   "cell_type": "code",
   "execution_count": null,
   "metadata": {
    "deletable": false,
    "editable": false
   },
   "outputs": [],
   "source": [
    "grader.check(\"q3h\")"
   ]
  },
  {
   "cell_type": "markdown",
   "metadata": {
    "deletable": false,
    "editable": false
   },
   "source": [
    "<hr style=\"border: 5px solid #003262;\" />\n",
    "<hr style=\"border: 1px solid #fdb515;\" />\n",
    "\n",
    "## <span style='color:Red'>   Question 3i (2 pts) ###\n",
    "\n",
    "Notice we only need to keep the nonzero double Fourier coefficients from the previous part.\n",
    "\n",
    "Calculate the new compression ratio, which is given by the ratio of non-zero double Fourier coefficients out of the original $64$.   (Hint: NumPy has a `count_nonzero` method)\n",
    "\n"
   ]
  },
  {
   "cell_type": "code",
   "execution_count": null,
   "metadata": {
    "tags": [
     "otter_answer_cell"
    ]
   },
   "outputs": [],
   "source": [
    "compression_ratio = ...\n",
    "\n",
    "compression_ratio"
   ]
  },
  {
   "cell_type": "code",
   "execution_count": null,
   "metadata": {
    "deletable": false,
    "editable": false
   },
   "outputs": [],
   "source": [
    "grader.check(\"q3i\")"
   ]
  },
  {
   "cell_type": "markdown",
   "metadata": {},
   "source": [
    "The function below reconstructs the luminance values from the rounded double Fourier coefficients (in this function the rounded double Fourier coefficients should be input as the matrix A).  \n",
    "\n"
   ]
  },
  {
   "cell_type": "code",
   "execution_count": null,
   "metadata": {},
   "outputs": [],
   "source": [
    "def inverse_double_fourier(A, P, decimals=3):\n",
    "    \"\"\"\n",
    "    Returns np.round(P @ A @ P.T, decimals).\n",
    "    \"\"\"\n",
    "    A = np.asarray(A, dtype=float)\n",
    "    return np.round(P @ A @ P.T, decimals)"
   ]
  },
  {
   "cell_type": "code",
   "execution_count": null,
   "metadata": {},
   "outputs": [],
   "source": []
  },
  {
   "cell_type": "markdown",
   "metadata": {
    "deletable": false,
    "editable": false
   },
   "source": [
    "<hr style=\"border: 5px solid #003262;\" />\n",
    "<hr style=\"border: 1px solid #fdb515;\" />\n",
    "\n",
    "## <span style='color:Red'>   Question 3j (3 pts) ###\n",
    "\n",
    "i).  Use the `inverse_double_fourier` function to reconstruct the luminance values from the rounded double Fourier coefficients.   Save your answer in the variable `luminance_reconstruct`.\n",
    "\n",
    "ii). Finally, subtract the luminace_reconstruct matrix from the original luminance matrix to get an error matrix that measures the error in your approximation.\n",
    "\n"
   ]
  },
  {
   "cell_type": "code",
   "execution_count": null,
   "metadata": {
    "tags": [
     "otter_answer_cell"
    ]
   },
   "outputs": [],
   "source": [
    "luminance_reconstruct = ...\n",
    "\n",
    "error_matrix = ...\n",
    "\n",
    "print(error_matrix)"
   ]
  },
  {
   "cell_type": "code",
   "execution_count": null,
   "metadata": {
    "deletable": false,
    "editable": false
   },
   "outputs": [],
   "source": [
    "grader.check(\"q3j\")"
   ]
  },
  {
   "cell_type": "markdown",
   "metadata": {},
   "source": [
    "Notice that we have only saved a small percentage of the Fourier coefficients yet we are able to reconstruct the luminance values with a relatively small error.  When you take a picture with your phone, the software saves the rounded double Fourier coefficients of each 8x8 block of pixels, which represents only a small fraction of the information.  When you want to view a picture, the software reconstructs the image from the saved double Fourier coefficients with a relatively small error.  Most photo editing programs allow you to choose the compression ratio, which is controlled by the range of Fourier coefficients we save.\n",
    "\n",
    "\n",
    "<img src=\"img/quality.png\" width=\"600\" height=\"300\">\n",
    "\n",
    "Physiologists have found that the human eye is more sensitive to the luminance values than the chrominance values.  This means that we’re able to throw away more of the Fourier coefficients from the chrominance values to achieve an even greater savings.\n",
    "\n",
    "Similar ideas are involved in storing movies and digital music.  Next time you’re streaming a show, you will enjoy it even more when you realize that lots of Fourier coefficients are being streamed to your device.\n"
   ]
  },
  {
   "cell_type": "markdown",
   "metadata": {},
   "source": [
    "<hr style=\"border: 5px solid #003262;\" />\n",
    "<hr style=\"border: 1px solid #fdb515;\" />\n"
   ]
  },
  {
   "cell_type": "markdown",
   "metadata": {},
   "source": [
    "### Submission Instructions\n",
    "\n",
    "Before proceeding any further, **save this notebook.**\n",
    "\n",
    "Then run the cell below to double check that you don't have any spaces between dollar signs and text when writing LaTeX:"
   ]
  },
  {
   "cell_type": "code",
   "execution_count": null,
   "metadata": {},
   "outputs": [],
   "source": [
    "# Run this cell before you run the 'grader.export()' cell below.  \n",
    "# It will search for LaTeX errors that will cause the LaTeX compiler to fail.  \n",
    "\n",
    "import simple_latex_checker as slc\n",
    "\n",
    "nb = slc.Nb_checker()\n",
    "nb.run_check(\"lab03.ipynb\")"
   ]
  },
  {
   "cell_type": "markdown",
   "metadata": {},
   "source": [
    "After running the `grader.export()` cell provided below, **2 files will be created**: a zip file and pdf file.  You can download them using the links provided below OR by finding them in the same folder where this juptyer notebook resides in your JuptyerHub.\n",
    "\n",
    "To receive credit on this assignment, **you must submit BOTH of these files\n",
    "to their respective Gradescope portals:** \n",
    "\n",
    "\n",
    "* **Lab 3 Autograded**: Submit the zip file that is output by the `grader.export()` cell below to the Lab 3 Autograded assignment in Gradescope.\n",
    "\n",
    "* **Lab 3 Manually Graded**: Submit your lab03.PDF to the Lab 3 Manually Graded assignment in Gradescope.  **It is your responsibility to fully review your PDF file before submitting and make sure that all your lines of code are visible and any LaTeX has correctly compiled and is fully viewable.**  **YOU MUST SELECT THE PAGES CORRESPONDING TO EACH QUESTION WHEN YOU UPLOAD TO GRADESCOPE.** If not, you will lose points.    \n",
    "\n",
    "[TROUBLESHOOTING TIPS](https://docs.google.com/document/d/1ndr3Wj1PSF5qzlLMaBJznwh6QGeEXjd5TAJ6nf9EJvo/edit?usp=sharing)  If you are having any issues compiling your assignment, please read through these troubleshooting tips first, then post any questions on Piazza.  \n",
    "\n",
    "**You are responsible for ensuring your submission follows our requirements. We will not be granting regrade requests nor extensions to submissions that don't follow instructions.** If you encounter any difficulties with submission, please don't hesitate to reach out to staff prior to the deadline."
   ]
  },
  {
   "cell_type": "markdown",
   "metadata": {
    "deletable": false,
    "editable": false
   },
   "source": [
    "## Submission\n",
    "\n",
    "Make sure you have run all cells in your notebook in order before running the cell below, so that all images/graphs appear in the output. The cell below will generate a zip file for you to submit. **Please save before exporting!**\n",
    "\n",
    "AFTER running the cell below, click on <a href='lab03.pdf' download>this link to download the PDF </a> to upload to Gradescope.  There will be a separate link that appears after running the cell below with a link to download the zip file to upload to Gradescope."
   ]
  },
  {
   "cell_type": "code",
   "execution_count": null,
   "metadata": {
    "deletable": false,
    "editable": false
   },
   "outputs": [],
   "source": [
    "# Save your notebook first, then run this cell to export your submission.\n",
    "grader.export(run_tests=True)"
   ]
  },
  {
   "cell_type": "markdown",
   "metadata": {},
   "source": [
    " "
   ]
  }
 ],
 "metadata": {
  "kernelspec": {
   "display_name": "Python 3 (ipykernel)",
   "language": "python",
   "name": "python3"
  },
  "language_info": {
   "codemirror_mode": {
    "name": "ipython",
    "version": 3
   },
   "file_extension": ".py",
   "mimetype": "text/x-python",
   "name": "python",
   "nbconvert_exporter": "python",
   "pygments_lexer": "ipython3",
   "version": "3.11.9"
  },
  "otter": {
   "OK_FORMAT": true,
   "tests": {
    "q1a": {
     "name": "q1a",
     "points": 1,
     "suites": [
      {
       "cases": [
        {
         "code": ">>> assert get_array_hash_normalized(green) == 'ed6a6404a79d0a5c8e11a6413e5ce5a9'\n",
         "hidden": false,
         "locked": false
        }
       ],
       "scored": true,
       "setup": "",
       "teardown": "",
       "type": "doctest"
      }
     ]
    },
    "q1b": {
     "name": "q1b",
     "points": 1,
     "suites": [
      {
       "cases": [
        {
         "code": ">>> assert get_array_hash_normalized(black) == '17acb292c7986f3e21d1d2de0a9e7670'\n",
         "hidden": false,
         "locked": false
        }
       ],
       "scored": true,
       "setup": "",
       "teardown": "",
       "type": "doctest"
      }
     ]
    },
    "q1c": {
     "name": "q1c",
     "points": 1,
     "suites": [
      {
       "cases": [
        {
         "code": ">>> assert get_array_hash_normalized(white) == 'c1571cca3cc013fb951fc490b61365e0'\n",
         "hidden": false,
         "locked": false
        }
       ],
       "scored": true,
       "setup": "",
       "teardown": "",
       "type": "doctest"
      }
     ]
    },
    "q2b": {
     "name": "q2b",
     "points": 1,
     "suites": [
      {
       "cases": [
        {
         "code": ">>> assert get_array_hash_normalized(P_B.round(6)) == 'df81d4eefc9d8581a337638cbcb426a5'\n",
         "hidden": false,
         "locked": false
        }
       ],
       "scored": true,
       "setup": "",
       "teardown": "",
       "type": "doctest"
      }
     ]
    },
    "q2c": {
     "name": "q2c",
     "points": 1,
     "suites": [
      {
       "cases": [
        {
         "code": ">>> assert get_array_hash_normalized(rgb2ycc.round(7)) == '2cd8abb85f03d089ea8cb014fb3ac7ef'\n",
         "hidden": false,
         "locked": false
        }
       ],
       "scored": true,
       "setup": "",
       "teardown": "",
       "type": "doctest"
      }
     ]
    },
    "q2d": {
     "name": "q2d",
     "points": 5,
     "suites": [
      {
       "cases": [
        {
         "code": ">>> assert get_array_hash_normalized(pure_red.round(1)) == '5ee606204747a7cc0ae81bfc49cd324c'\n",
         "hidden": false,
         "locked": false
        },
        {
         "code": ">>> assert get_array_hash_normalized(pure_blue.round(1)) == '266c4198951281ed8eef5254f12d3361'\n",
         "hidden": false,
         "locked": false
        },
        {
         "code": ">>> assert get_array_hash_normalized(pure_green.round(1)) == 'ea1ce98087daf6112abffce2a0e1a6a5'\n",
         "hidden": false,
         "locked": false
        },
        {
         "code": ">>> assert get_array_hash_normalized(pure_white.round(1)) == 'cda2900f62d10f373a0a5303b2250da3'\n",
         "hidden": false,
         "locked": false
        },
        {
         "code": ">>> assert get_array_hash_normalized(pure_black.round(1)) == '17acb292c7986f3e21d1d2de0a9e7670'\n",
         "hidden": false,
         "locked": false
        }
       ],
       "scored": true,
       "setup": "",
       "teardown": "",
       "type": "doctest"
      }
     ]
    },
    "q2e": {
     "name": "q2e",
     "points": 3,
     "suites": [
      {
       "cases": [
        {
         "code": ">>> assert get_array_hash_normalized(rgb_iii.round(1)) == 'ff7a59df5197980bc32548836526e9c2'\n",
         "hidden": false,
         "locked": false
        },
        {
         "code": ">>> assert get_array_hash_normalized(rgb_i.round(1)) == '955a98d374f2ee800de4cca2e0d3dd7c'\n",
         "hidden": false,
         "locked": false
        },
        {
         "code": ">>> assert get_array_hash_normalized(rgb_ii.round(1)) == '06cd2b42ebb7b648763ab90036900cf3'\n",
         "hidden": false,
         "locked": false
        }
       ],
       "scored": true,
       "setup": "",
       "teardown": "",
       "type": "doctest"
      }
     ]
    },
    "q3a": {
     "name": "q3a",
     "points": 3,
     "suites": [
      {
       "cases": [
        {
         "code": ">>> assert get_array_hash_normalized(f.round(4)) == 'c3abfbd7a7360b8f87621a7b3934b937'\n",
         "hidden": false,
         "locked": false
        }
       ],
       "scored": true,
       "setup": "",
       "teardown": "",
       "type": "doctest"
      }
     ]
    },
    "q3b": {
     "name": "q3b",
     "points": 3,
     "suites": [
      {
       "cases": [
        {
         "code": ">>> assert get_array_hash_normalized(f_approx) == '854b59b4f735022a65498b04012061cf'\n",
         "hidden": false,
         "locked": false
        },
        {
         "code": ">>> assert get_array_hash_normalized(x_approx.round(7)) == 'de0e181d5bed0704349f0df68ff761de'\n",
         "hidden": false,
         "locked": false
        },
        {
         "code": ">>> assert get_array_hash_normalized(error.round(7)) == '714e8dfe10433f8dbc34250be1421912'\n",
         "hidden": false,
         "locked": false
        }
       ],
       "scored": true,
       "setup": "",
       "teardown": "",
       "type": "doctest"
      }
     ]
    },
    "q3d": {
     "name": "q3d",
     "points": 3,
     "suites": [
      {
       "cases": [
        {
         "code": ">>> assert get_array_hash_normalized(f_approx50) == '38bc71eb35de6feacf0593289922b578'\n",
         "hidden": false,
         "locked": false
        },
        {
         "code": ">>> assert get_array_hash_normalized(x_approx50.round(7)) == 'a8a98990103054b76929a408713ce8a8'\n",
         "hidden": false,
         "locked": false
        },
        {
         "code": ">>> assert get_array_hash_normalized(error50.round(7)) == 'eb05727491f2d02c92a5ea2256ce4382'\n",
         "hidden": false,
         "locked": false
        }
       ],
       "scored": true,
       "setup": "",
       "teardown": "",
       "type": "doctest"
      }
     ]
    },
    "q3e": {
     "name": "q3e",
     "points": 2,
     "suites": [
      {
       "cases": [
        {
         "code": ">>> assert get_array_hash_normalized(f_matrix.round(7)) == 'a16912aa8f7b21466d1ff0eb5950e354'\n",
         "hidden": false,
         "locked": false
        }
       ],
       "scored": true,
       "setup": "",
       "teardown": "",
       "type": "doctest"
      }
     ]
    },
    "q3f": {
     "name": "q3f",
     "points": 2,
     "suites": [
      {
       "cases": [
        {
         "code": ">>> assert get_array_hash_normalized(y) == '4671d1e43a38b31416a9621c69109292'\n",
         "hidden": false,
         "locked": false
        },
        {
         "code": ">>> assert get_array_hash_normalized(y_B.round(7)) == '3b5a445d8bd5e93605dfdb72fb5db1d7'\n",
         "hidden": false,
         "locked": false
        }
       ],
       "scored": true,
       "setup": "",
       "teardown": "",
       "type": "doctest"
      }
     ]
    },
    "q3g": {
     "name": "q3g",
     "points": 1,
     "suites": [
      {
       "cases": [
        {
         "code": ">>> assert get_array_hash_normalized(double_f.round(6)) == '7c091f823bb6db8a697f0798e00c639a'\n",
         "hidden": false,
         "locked": false
        }
       ],
       "scored": true,
       "setup": "",
       "teardown": "",
       "type": "doctest"
      }
     ]
    },
    "q3h": {
     "name": "q3h",
     "points": 3,
     "suites": [
      {
       "cases": [
        {
         "code": ">>> a = round_matrix(np.array([[1.1, 2.7, 4.9], [120.3, 14.7, 18.9], [-4.8, -7.9, 10.2]]), 3)\n>>> assert get_array_hash_normalized(a) == '516ae9651962a17521458cbff6e1b2ab'\n",
         "hidden": false,
         "locked": false
        },
        {
         "code": ">>> assert get_array_hash_normalized(double_f_simplified) == '77ca4411bd47fea5e2af97a82bdc2880'\n",
         "hidden": false,
         "locked": false
        }
       ],
       "scored": true,
       "setup": "",
       "teardown": "",
       "type": "doctest"
      }
     ]
    },
    "q3i": {
     "name": "q3i",
     "points": 2,
     "suites": [
      {
       "cases": [
        {
         "code": ">>> assert get_hash(compression_ratio) == '8eb69fe48ceeb8bb7d08789dabd30eff'\n",
         "hidden": false,
         "locked": false
        }
       ],
       "scored": true,
       "setup": "",
       "teardown": "",
       "type": "doctest"
      }
     ]
    },
    "q3j": {
     "name": "q3j",
     "points": 3,
     "suites": [
      {
       "cases": [
        {
         "code": ">>> assert get_hash(compression_ratio) == '8eb69fe48ceeb8bb7d08789dabd30eff'\n",
         "hidden": false,
         "locked": false
        }
       ],
       "scored": true,
       "setup": "",
       "teardown": "",
       "type": "doctest"
      }
     ]
    }
   }
  }
 },
 "nbformat": 4,
 "nbformat_minor": 4
}
