{
 "cells": [
  {
   "cell_type": "code",
   "execution_count": null,
   "metadata": {
    "deletable": false,
    "editable": false
   },
   "outputs": [],
   "source": [
    "# Initialize Otter\n",
    "import otter\n",
    "grader = otter.Notebook(\"lab04.ipynb\")"
   ]
  },
  {
   "cell_type": "markdown",
   "metadata": {},
   "source": [
    "<a id='verytop'></a>\n",
    "\n",
    "# Lab 4: Applications of Eigenvectors and Eigenvalues\n",
    "\n",
    "## Due Date: Thurs, Oct 16th 11:59 PM on Gradescope\n",
    "\n",
    "\n",
    "### Detailed Submission Instructions Are Provided at the end of this Notebook\n",
    "\n",
    "\n",
    "## Collaboration Policy\n",
    "\n",
    "A key step in learning and retention is **creating solutions on your own.**   Below are examples of acceptable vs unacceptable use of resources and collaboration when doing lab assignments in CSCI 2820.\n",
    "\n",
    "\n",
    "The following would be some **examples of cheating** when working on HW assignments in CSCI 2820.  Any of these constitute a **violation of the course's collaboration policy and will result in an F in the course and a trip to the honor council**.   \n",
    "\n",
    "\n",
    " - Consulting web pages that may have a solution to a given lab problem or one similar is cheating.  However, consulting notes from the class videos, and web pages that explain the material taught in class but do NOT show a solution to the lab problem in question are permissible to view.  Clearly, there's a fuzzy line here between a valid use of resources and cheating. To avoid this line, one should merely consult the course videos, the course textbooks, and references that contain syntax and/or formulas.\n",
    " - Copying a segment of code or math solution of three lines or more from another student from a printout, handwritten copy, or by looking at their computer screen \n",
    " - Allowing another student to copy a segment of your code or math solution of three lines or more\n",
    " - Taking a copy of another student's work (or a solution found online) and then editing that copy\n",
    " - Reading someone else’s solution to a problem on the lab before writing your own.\n",
    " - Asking someone to write all or part of a program or solution for you.\n",
    " - Asking someone else for the code necessary to fix the error for you, other than for simple syntactical errors\n",
    " \n",
    "\n",
    "\n",
    "On the other hand, the following are some **examples of things which would NOT usually be\n",
    "considered to be cheating**:\n",
    " - Working on a lab problem on your own first and then discussing with a classmate a particular part in the problem solution where you are stuck.  After clarifying any questions you should then continue to write your solution independently.\n",
    " - Asking someone (or searching online) how a particular construct in the language works.\n",
    " - Asking someone (or searching online) how to formulate a particular construct in the language.\n",
    " - Asking someone for help in finding an error in your program.  \n",
    " - Asking someone why a particular construct does not work as you expected in a given program.\n",
    "   \n",
    "\n",
    "To test whether you are truly doing your own work and retaining what you've learned you should be able to easily reproduce from scratch and explain a lab solution that was your own when asked in office hours by a TA/Instructor or on a quiz/exam.   \n",
    "\n",
    "\n",
    "If you have difficulty in formulating the general solution to a problem on your own, or\n",
    "you have difficulty in translating that general solution into a program, it is advisable to see\n",
    "your instructor or teaching assistant rather than another student as this situation can easily\n",
    "lead to a, possibly inadvertent, cheating situation.\n",
    "\n",
    "We are here to help!  Visit office Hours and/or post questions on Piazza!\n",
    "\n"
   ]
  },
  {
   "cell_type": "markdown",
   "metadata": {},
   "source": [
    "## Grading\n",
    "Grading is broken down into autograded answers and manually graded answers. \n",
    "\n",
    "For autograded answers, the results of your code are compared to provided and/or hidden tests.\n",
    "\n",
    "For manually graded answers you must show and explain all steps.  Graders will evaluate how well you answered the question and/or fulfilled the requirements of the question.\n"
   ]
  },
  {
   "cell_type": "markdown",
   "metadata": {},
   "source": [
    "<hr style=\"border: 5px solid #003262;\" />\n",
    "<hr style=\"border: 1px solid #fdb515;\" />\n"
   ]
  },
  {
   "cell_type": "markdown",
   "metadata": {},
   "source": [
    "\n"
   ]
  },
  {
   "cell_type": "code",
   "execution_count": null,
   "metadata": {},
   "outputs": [],
   "source": [
    "# import useful libraries\n",
    "import numpy as np\n",
    "import matplotlib.pyplot as plt\n",
    "import sympy as sp\n",
    "\n",
    "sp.init_printing(use_unicode=True)\n",
    "\n",
    "\n",
    "# Function needed to run in-notebook tests\n",
    "import hashlib\n",
    "\n",
    "def get_hash(num):\n",
    "    \"\"\"Helper function for assessing correctness\"\"\"\n",
    "    return hashlib.md5(str(num).encode()).hexdigest()\n",
    "\n",
    "\n",
    "def get_array_hash_normalized(arr):\n",
    "    \"\"\"\n",
    "    Hash numpy array ignoring dtype differences (values only),\n",
    "    treating -0.0 as 0.0 and canonicalizing NaNs.\n",
    "    \"\"\"\n",
    "    arr = np.ascontiguousarray(arr, dtype=np.float64)\n",
    "\n",
    "    # View as unsigned integers so we can manipulate bits\n",
    "    view = arr.view(np.uint64)\n",
    "\n",
    "    # Mask for the exponent+mantissa (everything except the sign bit)\n",
    "    mant_exp_mask = (1 << 63) - 1\n",
    "\n",
    "    # For entries that are exactly zero (pos or neg), clear sign bit\n",
    "    zero_mask = (view & mant_exp_mask) == 0\n",
    "    view[zero_mask] = 0\n",
    "\n",
    "    # Canonicalize NaNs: all NaNs get the same payload\n",
    "    nan_mask = np.isnan(arr)\n",
    "    if nan_mask.any():\n",
    "        arr[nan_mask] = np.float64(np.nan)\n",
    "\n",
    "    return hashlib.md5(arr.tobytes() + str(arr.shape).encode()).hexdigest()"
   ]
  },
  {
   "cell_type": "markdown",
   "metadata": {},
   "source": [
    "## Recall: Matrix and Vector Operations in SymPy\n",
    "\n",
    "For this lab we will return to using Symbolic Python.  This will help ensure we don't have floating point errors when dealing with different matrices."
   ]
  },
  {
   "cell_type": "markdown",
   "metadata": {},
   "source": [
    "\n",
    "Recall: to create the matrix\n",
    "\\begin{equation}\n",
    "\\mathbf{B} = \\left[\\begin{array}{r} 1 &  3 \\\\  2 & 4 \\\\ -3 &5 \\end{array}\\right]\n",
    "\\end{equation}\n",
    "in SymPy we can use the following syntax:"
   ]
  },
  {
   "cell_type": "code",
   "execution_count": null,
   "metadata": {},
   "outputs": [],
   "source": [
    "B = sp.Matrix([[1,3],[2,4], [-3,5]])\n",
    "B"
   ]
  },
  {
   "cell_type": "markdown",
   "metadata": {},
   "source": [
    "Recall: We can find RREF using:\n"
   ]
  },
  {
   "cell_type": "code",
   "execution_count": null,
   "metadata": {},
   "outputs": [],
   "source": [
    "B.rref()"
   ]
  },
  {
   "cell_type": "markdown",
   "metadata": {},
   "source": [
    "For an invertible matrix, you can find the inverse in Sympy using the following syntax:  `**-1`\n"
   ]
  },
  {
   "cell_type": "code",
   "execution_count": null,
   "metadata": {},
   "outputs": [],
   "source": [
    "A = sp.Matrix([[1,3],[2,4]])\n",
    "A"
   ]
  },
  {
   "cell_type": "code",
   "execution_count": null,
   "metadata": {},
   "outputs": [],
   "source": [
    "A**-1"
   ]
  },
  {
   "cell_type": "markdown",
   "metadata": {},
   "source": [
    "# Eigenvectors and Eigenvalues"
   ]
  },
  {
   "cell_type": "markdown",
   "metadata": {},
   "source": [
    "We first consider a matrix that represents a shear along the line $x_1=-x_2$.\n",
    "\n",
    "$$\n",
    "\\begin{equation}\n",
    "A = \\left[ \\begin{array}{rr} 2 & -1  \\\\ -1 & 2 \\end{array}\\right]\n",
    "\\end{equation}\n",
    "$$\n",
    "\n"
   ]
  },
  {
   "cell_type": "code",
   "execution_count": null,
   "metadata": {},
   "outputs": [],
   "source": [
    "# Here we will use Symbolic Python to define the matrix A:\n",
    "\n",
    "A = sp.Matrix([[2,-1],[-1,2]])\n",
    "A"
   ]
  },
  {
   "cell_type": "markdown",
   "metadata": {},
   "source": [
    "Let's visualize the effect of this matrix transformation on a given vector:\n",
    "\n",
    "\n",
    "\n",
    "\n",
    "Let $$\n",
    "\\begin{equation}\n",
    "x = \\left[ \\begin{array}{r} 3  \\\\ 1 \\end{array}\\right]\n",
    "\\end{equation}.\n",
    "$$"
   ]
  },
  {
   "cell_type": "code",
   "execution_count": null,
   "metadata": {},
   "outputs": [],
   "source": [
    "x = sp.Matrix([[3],[1]])\n",
    "x"
   ]
  },
  {
   "cell_type": "code",
   "execution_count": null,
   "metadata": {},
   "outputs": [],
   "source": [
    "A@x"
   ]
  },
  {
   "cell_type": "markdown",
   "metadata": {},
   "source": [
    "The following code plots the 2D vector $\\mathbf{x}$ and its image $A\\mathbf{x}$ under the linear transformation defined by A."
   ]
  },
  {
   "cell_type": "code",
   "execution_count": null,
   "metadata": {},
   "outputs": [],
   "source": [
    "\n",
    "def plot_transformation(A, x):\n",
    "    \"\"\"\n",
    "    Plot the 2D vector x and its image Ax under the linear transformation defined by A.\n",
    "\n",
    "    Parameters:\n",
    "        A (sp.Matrix): a 2x2 sympy matrix\n",
    "        x (sp.Matrix): a 2x1 sympy column vector\n",
    "    \"\"\"\n",
    "    # Compute Ax\n",
    "    Ax = A * x\n",
    "\n",
    "    # Convert to numerical values for plotting\n",
    "    x_vals = np.array(x, dtype=float).flatten()\n",
    "    Ax_vals = np.array(Ax, dtype=float).flatten()\n",
    "\n",
    "    # Set up plot\n",
    "    fig, ax = plt.subplots()\n",
    "    t = np.linspace(-6, 6, 100)\n",
    "    options = {\"head_width\": 0.1, \"head_length\": 0.2, \"length_includes_head\": True}\n",
    "\n",
    "    # Plot x (blue) and Ax (red)\n",
    "    ax.arrow(0, 0, x_vals[0], x_vals[1], fc='b', ec='b', **options)\n",
    "    ax.arrow(0, 0, Ax_vals[0], Ax_vals[1], fc='r', ec='r', **options)\n",
    "\n",
    "    # Plot dashed guide line (example: x1 = -x2)\n",
    "    ax.plot(t, -t, ls=':')\n",
    "\n",
    "    # Set limits and formatting\n",
    "    ax.set_xlim(-3, 6)\n",
    "    ax.set_ylim(-3, 4)\n",
    "    ax.set_aspect('equal')\n",
    "    ax.set_xticks(np.arange(-1, 7, step=1))\n",
    "    ax.set_yticks(np.arange(-3, 5, step=1))\n",
    "\n",
    "    # Label vectors\n",
    "    ax.text(x_vals[0] / 2, x_vals[1] / 2 + 0.2, '$X$', color='b')\n",
    "    ax.text(Ax_vals[0] / 2, Ax_vals[1] / 2 - 0.2, '$AX$', color='r')\n",
    "    ax.text(0.8, -2.5, '$x_1=-x_2$')\n",
    "\n",
    "    # Axes and grid\n",
    "    ax.axvline(color='k', linewidth=1)\n",
    "    ax.axhline(color='k', linewidth=1)\n",
    "    ax.grid(True, ls=':')\n",
    "\n",
    "    plt.show()\n"
   ]
  },
  {
   "cell_type": "code",
   "execution_count": null,
   "metadata": {},
   "outputs": [],
   "source": [
    "plot_transformation(A, sp.Matrix([[3],[1]]))"
   ]
  },
  {
   "cell_type": "markdown",
   "metadata": {
    "deletable": false,
    "editable": false
   },
   "source": [
    "<hr style=\"border: 5px solid #003262;\" />\n",
    "<hr style=\"border: 1px solid #fdb515;\" />\n",
    "\n",
    "\n",
    "## <span style='color:Red'>   Question 1a (2 pts) ###\n",
    "\n",
    "\n",
    "Enter different inputs for $x$ into the `plot_transformation` function to **visually** find two linearly independent eigenvectors, $\\mathbf{v_1}$ and $\\mathbf{v_2}$ of $A$.   \n",
    "\n",
    "\n",
    "i).  Which of the following is an eigenvector of $A$?  Save the correct answer for $\\mathbf{v_1}$ below as a Sympy 2x1 matrix\n",
    "\n",
    "$\\mathbf{v_1} = \\left[ \\begin{array}{r} 3 \\\\ 1 \\end{array}\\right]$  $\\hspace{3mm}$ or $\\hspace{5mm}$ $\\mathbf{v_1} = \\left[ \\begin{array}{r} 2 \\\\ 1 \\end{array}\\right] \\hspace{3mm}$ or $\\hspace{5mm}$ $\\mathbf{v_1} = \\left[ \\begin{array}{r} 1 \\\\ -1 \\end{array}\\right] \\hspace{3mm} or \\hspace{3mm}  \\mathbf{v_1}  \\left[ \\begin{array}{r} -1 \\\\ 2 \\end{array}\\right]$\n",
    "\n",
    "ii).  What is the corresponding eigenvalue for $\\mathbf{v_1}$?\n",
    "\n",
    "iii).      Which of the following is another eigenvector of $A$ that is linearly independent from the first?  Save the correct answer for $\\mathbf{v_1}$ below as a Sympy 2x1 matrix\n",
    "\n",
    "$\\mathbf{v_2} = \\left[ \\begin{array}{r} 1 \\\\ -3 \\end{array}\\right]$  $\\hspace{3mm}$ or $\\hspace{5mm}$ $\\mathbf{v_2} = \\left[ \\begin{array}{r} 1 \\\\ 2 \\end{array}\\right] \\hspace{3mm}$ or $\\hspace{5mm}$ $\\mathbf{v_2} = \\left[ \\begin{array}{r} 1 \\\\ 5 \\end{array}\\right] \\hspace{3mm} or \\hspace{3mm}  \\mathbf{v_2} \\left[ \\begin{array}{r} 1 \\\\ 1 \\end{array}\\right]$                                \n",
    "iv).  What is the corresponding eigenvalue for $\\mathbf{v_2}$?\n",
    "\n"
   ]
  },
  {
   "cell_type": "code",
   "execution_count": null,
   "metadata": {
    "tags": [
     "otter_answer_cell"
    ]
   },
   "outputs": [],
   "source": [
    "\n",
    "#Enter your answers for eigenvectors as a Sympy 2x1 matrix i.e. v1 = sp.Matrix([[a],[b]])\n",
    "\n",
    "v1 = ...\n",
    "\n",
    "lambda_1 = 3\n",
    "\n",
    "v2 = sp.Matrix([[1],[1]])\n",
    "\n",
    "lambda_2 = 1\n"
   ]
  },
  {
   "cell_type": "code",
   "execution_count": null,
   "metadata": {
    "deletable": false,
    "editable": false
   },
   "outputs": [],
   "source": [
    "grader.check(\"q1a\")"
   ]
  },
  {
   "cell_type": "code",
   "execution_count": null,
   "metadata": {},
   "outputs": [],
   "source": []
  },
  {
   "cell_type": "markdown",
   "metadata": {
    "deletable": false,
    "editable": false
   },
   "source": [
    "<hr style=\"border: 5px solid #003262;\" />\n",
    "<hr style=\"border: 1px solid #fdb515;\" />\n",
    "\n",
    "\n",
    "## <span style='color:Red'>   Question 1b (2 pts) ###\n",
    "\n",
    "\n",
    "Since $\\mathbf{v_1}$ and $\\mathbf{v_2}$ are linearly independent and span $\\mathbb{R}^2$ they form a basis.\n",
    "\n",
    "Given the vector $\\mathbf{x} = \\left[ \\begin{array}{r} 3 \\\\ 1 \\end{array}\\right]$,\n",
    "\n",
    "rewrite as a linear combination of $\\mathbf{v_1}$ and $\\mathbf{v_2}$.\n",
    "\n",
    "i).  That is, find $c_1, c_2$ such that $c_1\\mathbf{v_1} + c_2\\mathbf{v_2}$.\n",
    "\n",
    "ii).  We can also think of this as changing basis.  Let $\\mathcal{B}  = \\{\\mathbf{v_1}, \\mathbf{v_2}\\}$.  What is $\\{\\mathbf{x}\\}_{\\mathcal{B}}$?  (Give your answer as a Sympy 2x1 Matrix)\n",
    "\n",
    "\n"
   ]
  },
  {
   "cell_type": "code",
   "execution_count": null,
   "metadata": {
    "tags": [
     "otter_answer_cell"
    ]
   },
   "outputs": [],
   "source": [
    "\n",
    "\n",
    "...\n",
    "\n",
    "\n",
    "c1 = ...\n",
    "\n",
    "c2 = ...\n",
    "\n",
    "# Give your answer for x_B as a SymPy 2x1 Matrix\n",
    "x_B = ...\n",
    "\n",
    "x_B\n",
    "\n",
    "\n"
   ]
  },
  {
   "cell_type": "code",
   "execution_count": null,
   "metadata": {
    "deletable": false,
    "editable": false
   },
   "outputs": [],
   "source": [
    "grader.check(\"q1b\")"
   ]
  },
  {
   "cell_type": "markdown",
   "metadata": {},
   "source": [
    "Let's look at a visual representation of the linear combination $X = V_1 + 2V_2$."
   ]
  },
  {
   "cell_type": "markdown",
   "metadata": {},
   "source": [
    "We can now understand, and compute, the product $AX$ by evaluating the products of $A$ with its eigenvectors. \n",
    "\n",
    "$$\n",
    "\\begin{equation}\n",
    "AX = A(V_1 + 2V_2) = AV_1 + 2AV_2 = \\lambda_1V_1 + 2\\lambda_2V_2 = 3V_1 + 2V_2\n",
    "\\end{equation}\n",
    "$$"
   ]
  },
  {
   "cell_type": "markdown",
   "metadata": {},
   "source": [
    "Since the action of an $n\\times n$ matrix $A$ on its eigenvectors is easy to understand, we might try to understand the action of a matrix on an arbitrary vector $X$ by writing $X$ as a linear combination of eigenvectors. This will always be possible *if the eigenvectors form a basis for* $\\mathbb{R}^n$.  Suppose $\\{V_1, V_2, ..., V_n\\}$ are the eigenvectors of $A$ and they do form a basis for $\\mathbb{R}^n$.  Then for any vector $X$, we can write \n",
    "$X = c_1V_1 + c_2V_2 + ... c_nV_n$.  The product $AX$ can easily be computed then by multiplying each eigenvector component by the corresponding eigenvalue.\n",
    "\n",
    "$$\n",
    "\\begin{eqnarray*}\n",
    "AX & = & A(c_1V_1 + c_2V_2 + ... c_nV_n) \\\\\n",
    "   & = & c_1AV_1 + c_2AV_2 + ... c_nAV_n \\\\\n",
    "   & = & c_1\\lambda_1V_1 + c_2\\lambda_2V_2 + ... c_n\\lambda_nV_n\n",
    "\\end{eqnarray*}\n",
    "$$"
   ]
  },
  {
   "cell_type": "markdown",
   "metadata": {},
   "source": [
    "## Discrete Dynamical Systems"
   ]
  },
  {
   "cell_type": "markdown",
   "metadata": {},
   "source": [
    "### Calculating Eigenvalues and Eigenvectors in Sympy\n",
    "\n",
    "To find the eigenvectors of a matrix, in Sympy we can use `eigenvects()`. This returns a list of tuples of the form (eigenvalue, algebraic_multiplicity, [eigenvectors])."
   ]
  },
  {
   "cell_type": "code",
   "execution_count": null,
   "metadata": {},
   "outputs": [],
   "source": [
    "A = sp.Matrix([[1,2],[4,5]])"
   ]
  },
  {
   "cell_type": "code",
   "execution_count": null,
   "metadata": {},
   "outputs": [],
   "source": [
    "eigen_info= A.eigenvects()\n",
    "eigen_info"
   ]
  },
  {
   "cell_type": "code",
   "execution_count": null,
   "metadata": {},
   "outputs": [],
   "source": [
    "# To list just the eigenvectors:\n",
    "\n",
    "eigenvectors = []\n",
    "for eigenvalue, multiplicity, vecs in eigen_info:\n",
    "    eigenvectors.extend(vecs)\n",
    "\n",
    "eigenvectors"
   ]
  },
  {
   "cell_type": "markdown",
   "metadata": {},
   "source": [
    "We may not recognize the eigenvectors as those we found previously, but recall that eigenvectors are not unique.  The $\\texttt{eig}$ function scales all the eigenvectors to unit length, and we arrive at the same result if we scale our choice of eigenvector."
   ]
  },
  {
   "cell_type": "markdown",
   "metadata": {},
   "source": [
    "# Diagonal factorization\n",
    "\n",
    "The calculation that we used to verify the eigenvalues and eigenvectors is also very useful to construct another important matrix factorization.  Suppose that $A$ is an $n\\times n$ matrix, $D$ is a diagonal matrix with the eigenvalues of $A$ along its diagonal, and $S$ is the $n\\times n$ matrix with the eigenvectors of $A$ as its columns.  We have just seen that $AS=SD$.  If $S$ is invertible, we may also write $A=SDS^{-1}$, which is known as the **diagonalization** of $A$.\n",
    "\n",
    "The diagonalization of $A$ is important because it provides us with a complete description of the action of $A$ in terms of its eigenvectors.  Consider an arbitrary vector $X$, and the product $AX$, computed by using the three factors in the diagonalization.\n",
    "\n",
    "- $S^{-1}X$ computes the coordinates of $X$ in terms of the eigenvectors of $A$.\n",
    "- Multiplication by $D$ then simply scales each coordinate by the corresponding eigenvalue.\n",
    "- Multiplication by $S$ gives the results with respect to the standard basis.\n",
    "\n",
    "This understanding does not provide a more efficient way of computing the product $AX$, but it does provide a much more general way of understanding the result of a matrix-vector multiplication.  As we will see in the next section, the diagonalization also provides a significant shortcut in computing powers of $A$.  \n",
    "\n",
    "It should be noted that diagonalization of an $n\\times n$ matrix $A$ is not possible when the eigenvectors of $A$ form a linearly dependent set.  In that case the eigenvectors do not span $\\mathbb{R}^n$, which means that not every $X$ in $\\mathbb{R}^n$ can be written as a linear combination of the eigenvectors.  In terms of the computation above, $S$ will not be invertible exactly in this case."
   ]
  },
  {
   "cell_type": "markdown",
   "metadata": {},
   "source": [
    "**Question:** Find the diagonalization of the matrix from **Question 1**.\n",
    "\n",
    "$$\n",
    "\\begin{equation}\n",
    "A = \\left[ \\begin{array}{rr} 2 & -1  \\\\ -1 & 2 \\end{array}\\right]\n",
    "\\end{equation}\n",
    "$$"
   ]
  },
  {
   "cell_type": "markdown",
   "metadata": {},
   "source": [
    "\n"
   ]
  },
  {
   "cell_type": "code",
   "execution_count": null,
   "metadata": {},
   "outputs": [],
   "source": []
  },
  {
   "cell_type": "markdown",
   "metadata": {},
   "source": [
    "**Exercise 2:** Use the diagonailization to write A^(100) as a product of 3 matrices.\n"
   ]
  },
  {
   "cell_type": "code",
   "execution_count": null,
   "metadata": {},
   "outputs": [],
   "source": [
    "## Code solution here."
   ]
  },
  {
   "cell_type": "markdown",
   "metadata": {},
   "source": [
    "<hr style=\"border: 5px solid #003262;\" />\n",
    "<hr style=\"border: 1px solid #fdb515;\" />\n"
   ]
  },
  {
   "cell_type": "markdown",
   "metadata": {},
   "source": [
    "### Submission Instructions\n",
    "\n",
    "Before proceeding any further, **save this notebook.**\n",
    "\n",
    "Then run the cell below to double check that you don't have any spaces between dollar signs and text when writing LaTeX:"
   ]
  },
  {
   "cell_type": "code",
   "execution_count": null,
   "metadata": {},
   "outputs": [],
   "source": [
    "# Run this cell before you run the 'grader.export()' cell below.  \n",
    "# It will search for LaTeX errors that will cause the LaTeX compiler to fail.  \n",
    "\n",
    "import simple_latex_checker as slc\n",
    "\n",
    "nb = slc.Nb_checker()\n",
    "nb.run_check(\"lab04.ipynb\")"
   ]
  },
  {
   "cell_type": "markdown",
   "metadata": {},
   "source": [
    "After running the `grader.export()` cell provided below, **2 files will be created**: a zip file and pdf file.  You can download them using the links provided below OR by finding them in the same folder where this juptyer notebook resides in your JuptyerHub.\n",
    "\n",
    "To receive credit on this assignment, **you must submit BOTH of these files\n",
    "to their respective Gradescope portals:** \n",
    "\n",
    "\n",
    "* **Lab 4 Autograded**: Submit the zip file that is output by the `grader.export()` cell below to the Lab 4 Autograded assignment in Gradescope.\n",
    "\n",
    "* **Lab 4 Manually Graded**: Submit your lab04.PDF to the Lab 4 Manually Graded assignment in Gradescope.  **It is your responsibility to fully review your PDF file before submitting and make sure that all your lines of code are visible and any LaTeX has correctly compiled and is fully viewable.**  **YOU MUST SELECT THE PAGES CORRESPONDING TO EACH QUESTION WHEN YOU UPLOAD TO GRADESCOPE.** If not, you will lose points.    \n",
    "\n",
    "[TROUBLESHOOTING TIPS](https://docs.google.com/document/d/1ndr3Wj1PSF5qzlLMaBJznwh6QGeEXjd5TAJ6nf9EJvo/edit?usp=sharing)  If you are having any issues compiling your assignment, please read through these troubleshooting tips first, then post any questions on Piazza.  \n",
    "\n",
    "**You are responsible for ensuring your submission follows our requirements. We will not be granting regrade requests nor extensions to submissions that don't follow instructions.** If you encounter any difficulties with submission, please don't hesitate to reach out to staff prior to the deadline."
   ]
  },
  {
   "cell_type": "markdown",
   "metadata": {
    "deletable": false,
    "editable": false
   },
   "source": [
    "## Submission\n",
    "\n",
    "Make sure you have run all cells in your notebook in order before running the cell below, so that all images/graphs appear in the output. The cell below will generate a zip file for you to submit. **Please save before exporting!**\n",
    "\n",
    "AFTER running the cell below, click on <a href='lab04.pdf' download>this link to download the PDF </a> to upload to Gradescope.  There will be a separate link that appears after running the cell below with a link to download the zip file to upload to Gradescope."
   ]
  },
  {
   "cell_type": "code",
   "execution_count": null,
   "metadata": {
    "deletable": false,
    "editable": false
   },
   "outputs": [],
   "source": [
    "# Save your notebook first, then run this cell to export your submission.\n",
    "grader.export(run_tests=True)"
   ]
  },
  {
   "cell_type": "markdown",
   "metadata": {},
   "source": [
    " "
   ]
  }
 ],
 "metadata": {
  "kernelspec": {
   "display_name": "Python 3 (ipykernel)",
   "language": "python",
   "name": "python3"
  },
  "language_info": {
   "codemirror_mode": {
    "name": "ipython",
    "version": 3
   },
   "file_extension": ".py",
   "mimetype": "text/x-python",
   "name": "python",
   "nbconvert_exporter": "python",
   "pygments_lexer": "ipython3",
   "version": "3.11.9"
  },
  "otter": {
   "OK_FORMAT": true,
   "tests": {
    "q1a": {
     "name": "q1a",
     "points": 2,
     "suites": [
      {
       "cases": [
        {
         "code": ">>> assert get_array_hash_normalized(lambda_2) == 'bbf0e5dfd29836bb145f05e467153a39'\n",
         "hidden": false,
         "locked": false
        },
        {
         "code": ">>> assert get_array_hash_normalized(lambda_1) == 'df0d1b6786e121e79f7ed9b5bcd48cae'\n",
         "hidden": false,
         "locked": false
        }
       ],
       "scored": true,
       "setup": "",
       "teardown": "",
       "type": "doctest"
      }
     ]
    },
    "q1b": {
     "name": "q1b",
     "points": 2,
     "suites": [
      {
       "cases": [
        {
         "code": ">>> assert get_array_hash_normalized(c1) == 'cce809b19933bdc8f303edea1ee34ab1'\n",
         "hidden": false,
         "locked": false
        },
        {
         "code": ">>> assert get_array_hash_normalized(c2) == '9ccc9e97f43440ca9fe00b047c929e08'\n",
         "hidden": false,
         "locked": false
        },
        {
         "code": ">>> assert get_array_hash_normalized(x_B) == 'fdf1ea627e7abaad3387167ea15ad5f3'\n",
         "hidden": false,
         "locked": false
        }
       ],
       "scored": true,
       "setup": "",
       "teardown": "",
       "type": "doctest"
      }
     ]
    }
   }
  }
 },
 "nbformat": 4,
 "nbformat_minor": 4
}
