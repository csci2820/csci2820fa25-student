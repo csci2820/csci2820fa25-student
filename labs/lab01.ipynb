{
 "cells": [
  {
   "cell_type": "code",
   "execution_count": null,
   "metadata": {
    "deletable": false,
    "editable": false
   },
   "outputs": [],
   "source": [
    "# Initialize Otter\n",
    "import otter\n",
    "grader = otter.Notebook(\"lab01.ipynb\")"
   ]
  },
  {
   "cell_type": "markdown",
   "metadata": {},
   "source": [
    "<a id='verytop'></a>\n",
    "\n",
    "# Lab 1: Applications of Systems of Linear Equations\n",
    "\n",
    "## Due Date: Tues, Sept 2nd 11:59 PM on Gradescope\n",
    "\n",
    "\n",
    "### Detailed Submission Instructions Are Provided at the end of this Notebook\n",
    "\n",
    "\n",
    "## Collaboration Policy\n",
    "\n",
    "A key step in learning and retention is **creating solutions on your own.**   Below are examples of acceptable vs unacceptable use of resources and collaboration when doing lab assignments in CSCI 2820.\n",
    "\n",
    "\n",
    "The following would be some **examples of cheating** when working on HW assignments in CSCI 2820.  Any of these constitute a **violation of the course's collaboration policy and will result in an F in the course and a trip to the honor council**.   \n",
    "\n",
    "\n",
    " - Consulting web pages that may have a solution to a given lab problem or one similar is cheating.  However, consulting notes from the class videos, and web pages that explain the material taught in class but do NOT show a solution to the lab problem in question are permissible to view.  Clearly, there's a fuzzy line here between a valid use of resources and cheating. To avoid this line, one should merely consult the course videos, the course textbooks, and references that contain syntax and/or formulas.\n",
    " - Copying a segment of code or math solution of three lines or more from another student from a printout, handwritten copy, or by looking at their computer screen \n",
    " - Allowing another student to copy a segment of your code or math solution of three lines or more\n",
    " - Taking a copy of another student's work (or a solution found online) and then editing that copy\n",
    " - Reading someone else’s solution to a problem on the lab before writing your own.\n",
    " - Asking someone to write all or part of a program or solution for you.\n",
    " - Asking someone else for the code necessary to fix the error for you, other than for simple syntactical errors\n",
    " \n",
    "\n",
    "\n",
    "On the other hand, the following are some **examples of things which would NOT usually be\n",
    "considered to be cheating**:\n",
    " - Working on a lab problem on your own first and then discussing with a classmate a particular part in the problem solution where you are stuck.  After clarifying any questions you should then continue to write your solution independently.\n",
    " - Asking someone (or searching online) how a particular construct in the language works.\n",
    " - Asking someone (or searching online) how to formulate a particular construct in the language.\n",
    " - Asking someone for help in finding an error in your program.  \n",
    " - Asking someone why a particular construct does not work as you expected in a given program.\n",
    "   \n",
    "\n",
    "To test whether you are truly doing your own work and retaining what you've learned you should be able to easily reproduce from scratch and explain a lab solution that was your own when asked in office hours by a TA/Instructor or on a quiz/exam.   \n",
    "\n",
    "\n",
    "If you have difficulty in formulating the general solution to a problem on your own, or\n",
    "you have difficulty in translating that general solution into a program, it is advisable to see\n",
    "your instructor or teaching assistant rather than another student as this situation can easily\n",
    "lead to a, possibly inadvertent, cheating situation.\n",
    "\n",
    "We are here to help!  Visit office Hours and/or post questions on Piazza!\n",
    "\n"
   ]
  },
  {
   "cell_type": "markdown",
   "metadata": {},
   "source": [
    "## Grading\n",
    "Grading is broken down into autograded answers and manually graded answers. \n",
    "\n",
    "For autograded answers, the results of your code are compared to provided and/or hidden tests.\n",
    "\n",
    "For manually graded answers you must show and explain all steps.  Graders will evaluate how well you answered the question and/or fulfilled the requirements of the question.\n"
   ]
  },
  {
   "cell_type": "markdown",
   "metadata": {},
   "source": [
    "<hr style=\"border: 5px solid #003262;\" />\n",
    "<hr style=\"border: 1px solid #fdb515;\" />\n",
    "\n",
    "\n",
    "### SymPy"
   ]
  },
  {
   "cell_type": "markdown",
   "metadata": {},
   "source": [
    "\n"
   ]
  },
  {
   "cell_type": "markdown",
   "metadata": {},
   "source": [
    "**SymPy** is an open-source Python library designed for symbolic mathematics. It functions as a full-featured computer algebra system (CAS) within the Python environment, allowing users to perform various mathematical operations symbolically rather than numerically. "
   ]
  },
  {
   "cell_type": "code",
   "execution_count": null,
   "metadata": {},
   "outputs": [],
   "source": [
    "# import SymPy with alias sp\n",
    "import sympy as sp\n",
    "\n",
    "\n",
    "# Function needed to run in-notebook tests\n",
    "import hashlib\n",
    "\n",
    "def get_hash(num):\n",
    "    \"\"\"Helper function for assessing correctness\"\"\"\n",
    "    return hashlib.md5(str(num).encode()).hexdigest()"
   ]
  },
  {
   "cell_type": "markdown",
   "metadata": {},
   "source": [
    "We can represent the matrix \n",
    "\n",
    "\n",
    "   $M=\\left[{ \n",
    "\\begin{align}\n",
    "   1 \\hspace{3mm} & 2  \\hspace{3mm} 3  \\\\\n",
    "   4  \\hspace{3mm}& 5  \\hspace{3mm} 6 \\\\\n",
    "  \\end{align}  }\\right]$\n",
    "\n",
    "\n",
    "\n",
    "\n",
    "in SymPy as follows:\n"
   ]
  },
  {
   "cell_type": "code",
   "execution_count": null,
   "metadata": {},
   "outputs": [],
   "source": [
    "# Run this cell (shift-enter)\n",
    "A = sp.Matrix([[1,2,3],[4,5,6]])\n",
    "A"
   ]
  },
  {
   "cell_type": "markdown",
   "metadata": {},
   "source": [
    "### Gauss-Jordan Elimination"
   ]
  },
  {
   "cell_type": "markdown",
   "metadata": {},
   "source": [
    "The complete process of applying row operations to reduce an augmented matrix to \n",
    "reduced row echelon form can be expressed as a recursive process in an algorithmic fashion, making\n",
    "it possible to program computers to solve linear systems. \n",
    "\n",
    "This algorithm is called Gauss-Jordan elimination.\n",
    "\n",
    "\n",
    "Here are the steps to do so:\n",
    "\n",
    " - **Step 1:** Begin with the leftmost nonzero column (if there is one). This will be a pivot column.\n",
    "\n",
    " - **Step 2:** Select a nonzero entry in this pivot column as a pivot. If necessary, interchange rows to\n",
    "move this entry to the first row (this entry will be a pivot).\n",
    "\n",
    " - **Step 3:** Use row operations to create zeros in all positions below the pivot.\n",
    "\n",
    " - **Step 4:** Cover (or ignore) the row containing the pivot position and cover all rows, if any, above\n",
    "it. Apply steps 1-3 to the submatrix that remains. Repeat the process until there are no more\n",
    "nonzero rows to modify.\n",
    "To obtain the reduced row echelon form we need one more step.\n",
    "\n",
    " - **Step 5:** Beginning with the rightmost pivot and working upward and to the left, create zeros above\n",
    "each pivot. If a pivot is not 1, make it 1 by an appropriate row multiplication.\n",
    "The algorithm described in steps 1-4 will produce the row echelon form of the matrix. This\n",
    "algorithm is called Gaussian elimination. \n",
    "\n",
    "When we add step 5 to produce the reduced row echelon\n",
    "form, the algorithm is called **Gauss-Jordan elimination**.\n",
    "\n"
   ]
  },
  {
   "cell_type": "markdown",
   "metadata": {},
   "source": [
    "SymPy has a built-in method that uses Gauss-Jordan elimination to find the RREF of a matrix.  \n",
    "Click on this link to read the documentation of the `.rref()` method in SymPy\n",
    "(https://docs.sympy.org/latest/modules/matrices/matrices.html#sympy.matrices.matrixbase.MatrixBase.rref)\n",
    "                                  "
   ]
  },
  {
   "cell_type": "code",
   "execution_count": null,
   "metadata": {},
   "outputs": [],
   "source": [
    "#Run this cell to find the RREF of matrix A from above.\n",
    "A.rref()"
   ]
  },
  {
   "cell_type": "markdown",
   "metadata": {},
   "source": [
    "The first entry in the list returned by the `.rref()` method is the RREF matrix:"
   ]
  },
  {
   "cell_type": "code",
   "execution_count": null,
   "metadata": {},
   "outputs": [],
   "source": [
    "# Run this cell to output the RREF matrix\n",
    "A.rref()[0]"
   ]
  },
  {
   "cell_type": "markdown",
   "metadata": {},
   "source": [
    "The 2nd entry returned is the indices of columns that contain a pivot (starting at 0): "
   ]
  },
  {
   "cell_type": "code",
   "execution_count": null,
   "metadata": {},
   "outputs": [],
   "source": [
    "# Run this cell to output the incides of the columns that contain a pivot\n",
    "A.rref()[1]"
   ]
  },
  {
   "cell_type": "markdown",
   "metadata": {},
   "source": [
    "Alternatively, you can just return the RREF by using the argument pivots = False:"
   ]
  },
  {
   "cell_type": "code",
   "execution_count": null,
   "metadata": {},
   "outputs": [],
   "source": [
    "# Run this cell to see an alternative way to output the RREF matrix without the list of pivots\n",
    "A.rref(pivots = False)"
   ]
  },
  {
   "cell_type": "markdown",
   "metadata": {
    "deletable": false,
    "editable": false
   },
   "source": [
    "<hr style=\"border: 5px solid #003262;\" />\n",
    "<hr style=\"border: 1px solid #fdb515;\" />\n",
    "\n",
    "\n",
    "## <span style='color:Red'>   Question 1a (1 pt) ###\n",
    "\n",
    "\n",
    "\n",
    "Consider the system of linear equations:\n",
    "\\begin{align*} \n",
    "x+2y-z &=  1 \\\\ \n",
    "3x + 2y+2z &=  7 \\\\\n",
    "-x+ 4z &= -3\n",
    "\\end{align*}\n",
    "\n",
    "Write this system as an augmented matrix using SymPy. Assign it to the variable `B` (replace the ellipses ... with your solution)"
   ]
  },
  {
   "cell_type": "code",
   "execution_count": null,
   "metadata": {
    "tags": [
     "otter_answer_cell"
    ]
   },
   "outputs": [],
   "source": [
    "B = ...\n",
    "B"
   ]
  },
  {
   "cell_type": "code",
   "execution_count": null,
   "metadata": {
    "deletable": false,
    "editable": false
   },
   "outputs": [],
   "source": [
    "grader.check(\"q1a\")"
   ]
  },
  {
   "cell_type": "markdown",
   "metadata": {
    "deletable": false,
    "editable": false
   },
   "source": [
    "## <span style='color:Red'>   Question 1b (1 pt) ###\n",
    "\n",
    "\n",
    "\n",
    "Use sympy to find the RREF of matrix B.  Save the RREF matrix to the variable named `B_rref`. "
   ]
  },
  {
   "cell_type": "code",
   "execution_count": null,
   "metadata": {
    "tags": [
     "otter_answer_cell"
    ]
   },
   "outputs": [],
   "source": [
    "B_rref = ...\n",
    "B_rref"
   ]
  },
  {
   "cell_type": "code",
   "execution_count": null,
   "metadata": {
    "deletable": false,
    "editable": false
   },
   "outputs": [],
   "source": [
    "grader.check(\"q1b\")"
   ]
  },
  {
   "cell_type": "markdown",
   "metadata": {
    "deletable": false,
    "editable": false
   },
   "source": [
    "## <span style='color:Red'>   Question 1c (1 pt) ###\n",
    "\n",
    "**Multiple Choice:**\n",
    "Based on the RREF matrix you found above, choose the answer that best describes the system of linear equations and then assign the the variable  `ans_1c` to the corresponding letter (as a capital letter string `'A'`,`'B'`, or `'C'`) to  below to indicate your answer.  Replace the ellipses (`...`) with your answer. \n",
    "\n",
    "A).  The system is inconsistent\n",
    "\n",
    "B).  The system is consistent and the solution is unique\n",
    "\n",
    "C).  The system is consistent and the solution is not unique.  "
   ]
  },
  {
   "cell_type": "code",
   "execution_count": null,
   "metadata": {
    "tags": [
     "otter_answer_cell"
    ]
   },
   "outputs": [],
   "source": [
    "ans_1c = ...\n",
    "\n",
    "# We've put this next line in this cell \n",
    "# so that it will print the value you've given to ans_1c when you run it.  \n",
    "# You don't need to change this:\n",
    "ans_1c\n"
   ]
  },
  {
   "cell_type": "code",
   "execution_count": null,
   "metadata": {
    "deletable": false,
    "editable": false
   },
   "outputs": [],
   "source": [
    "grader.check(\"q1c\")"
   ]
  },
  {
   "cell_type": "markdown",
   "metadata": {
    "deletable": false,
    "editable": false
   },
   "source": [
    "## <span style='color:Red'>   Question 1d (1 pt) ###\n",
    "\n",
    "Use the RREF to find the solution set to the system of linear equations:"
   ]
  },
  {
   "cell_type": "code",
   "execution_count": null,
   "metadata": {
    "tags": [
     "otter_answer_cell"
    ]
   },
   "outputs": [],
   "source": [
    "# Enter the solution here:\n",
    "\n",
    "x = ...\n",
    "y = ...\n",
    "z = ..."
   ]
  },
  {
   "cell_type": "code",
   "execution_count": null,
   "metadata": {
    "deletable": false,
    "editable": false
   },
   "outputs": [],
   "source": [
    "grader.check(\"q1d\")"
   ]
  },
  {
   "cell_type": "markdown",
   "metadata": {},
   "source": [
    "<hr style=\"border: 5px solid #003262;\" />\n",
    "<hr style=\"border: 1px solid #fdb515;\" />\n",
    "\n",
    "\n",
    "## <span style='color:Red'>   Question 2  ###\n",
    "\n",
    "\n",
    "A mining company has three mines. \n",
    "\n",
    "One day of operation at the mines produces the following output:\n",
    "\n",
    "    \n",
    " - Mine 1 produces 25 tons of copper, 600 kilograms of silver and 15 tons of manganese.\n",
    "    \n",
    " - Mine 2 produces 30 tons of copper, 500 kilograms of silver and 10 tons of manganese.\n",
    "    \n",
    " - Mine 3 produces 20 tons of copper, 550 kilograms of silver and 12 tons of manganese.\n",
    "    \n",
    "Suppose the company has orders for 550 tons of copper, 11350 kilograms of silver and 250 tons of\n",
    "manganese.\n",
    "\n"
   ]
  },
  {
   "cell_type": "markdown",
   "metadata": {
    "deletable": false,
    "editable": false
   },
   "source": [
    "<!-- BEGIN QUESTION -->\n",
    "\n",
    "## <span style='color:Red'>   Question 2a (2 pts) ###\n",
    "\n",
    "Write a system of equations to answer the question: \n",
    "\n",
    "How many days should the company operate each mine to exactly fill the orders? \n",
    "\n",
    "State clearly what the variables in your system represent.\n",
    "\n",
    " - Tip:  To write math equations in Markdown use LaTeX.  Double click on this cell to see the code to write a system of equations.  Copy the format of this code when providing your answer in the space below. \n",
    "\n",
    "\\begin{align} \n",
    "a_1x+b_1y+c_1 &=  d_1 \\\\ \n",
    "a_2x + b_1y+c_2z &=  d_2 \\\\\n",
    "a_3x+ c_3z &= d_3\n",
    "\\end{align}\n"
   ]
  },
  {
   "cell_type": "markdown",
   "metadata": {
    "deletable": false,
    "editable": false
   },
   "source": [
    "#### Question 2a Solution) "
   ]
  },
  {
   "cell_type": "markdown",
   "metadata": {
    "tags": [
     "otter_answer_cell"
    ]
   },
   "source": [
    "**Type your work answering Question 2a** in this cell.   Do not add any additional cells to this part.  "
   ]
  },
  {
   "cell_type": "markdown",
   "metadata": {
    "deletable": false,
    "editable": false
   },
   "source": [
    "<!-- END QUESTION -->\n",
    "\n",
    "## <span style='color:Red'>   Question 2b (1 pt) ###\n",
    "Write this system as an augmented matrix using SymPy. Assign it to the variable `C` (replace the ellipses ... with your solution),\n",
    "\n",
    "(For the autograder to work, write your augmented matrix so that the first entry in each row is positive, not negative)."
   ]
  },
  {
   "cell_type": "code",
   "execution_count": null,
   "metadata": {
    "tags": [
     "otter_answer_cell"
    ]
   },
   "outputs": [],
   "source": [
    "C = ...\n",
    "C"
   ]
  },
  {
   "cell_type": "code",
   "execution_count": null,
   "metadata": {
    "deletable": false,
    "editable": false
   },
   "outputs": [],
   "source": [
    "grader.check(\"q2b\")"
   ]
  },
  {
   "cell_type": "markdown",
   "metadata": {
    "deletable": false,
    "editable": false
   },
   "source": [
    "## <span style='color:Red'>   Question 2c (1 pt) ###\n",
    "\n",
    "\n",
    "\n",
    "Use sympy to find the RREF of matrix C.  Save the RREF matrix to the variable named `C_rref`. "
   ]
  },
  {
   "cell_type": "code",
   "execution_count": null,
   "metadata": {
    "tags": [
     "otter_answer_cell"
    ]
   },
   "outputs": [],
   "source": [
    "C_rref = ...\n",
    "C_rref"
   ]
  },
  {
   "cell_type": "code",
   "execution_count": null,
   "metadata": {
    "deletable": false,
    "editable": false
   },
   "outputs": [],
   "source": [
    "grader.check(\"q2c\")"
   ]
  },
  {
   "cell_type": "markdown",
   "metadata": {
    "deletable": false,
    "editable": false
   },
   "source": [
    "## <span style='color:Red'>   Question 2d (1 pt) ###\n",
    "\n",
    "**Multiple Choice:**\n",
    "Based on the RREF matrix you found above, choose the answer that best describes the system of linear equations and then assign the the variable  `ans_2d` to the corresponding letter (as a capital letter string `'A'`,`'B'`, or `'C'`) to  below to indicate your answer.  Replace the ellipses (`...`) with your answer. \n",
    "\n",
    "A).  The system is inconsistent\n",
    "\n",
    "B).  The system is consistent and the solution is unique\n",
    "\n",
    "C).  The system is consistent and the solution is not unique.  "
   ]
  },
  {
   "cell_type": "code",
   "execution_count": null,
   "metadata": {
    "tags": [
     "otter_answer_cell"
    ]
   },
   "outputs": [],
   "source": [
    "ans_2d = ...\n",
    "\n",
    "# We've put this next line in this cell \n",
    "# so that it will print the value you've given to ans_1c when you run it.  \n",
    "# You don't need to change this:\n",
    "ans_2d\n"
   ]
  },
  {
   "cell_type": "code",
   "execution_count": null,
   "metadata": {
    "deletable": false,
    "editable": false
   },
   "outputs": [],
   "source": [
    "grader.check(\"q2d\")"
   ]
  },
  {
   "cell_type": "markdown",
   "metadata": {
    "deletable": false,
    "editable": false
   },
   "source": [
    "## <span style='color:Red'>   Question 2e (1 pt) ###\n",
    "\n",
    "Use the RREF to find the solution set to the system of linear equations:\n",
    "\n",
    "Let $m_i$ = the number of days the company should operate mine $i$"
   ]
  },
  {
   "cell_type": "code",
   "execution_count": null,
   "metadata": {
    "tags": [
     "otter_answer_cell"
    ]
   },
   "outputs": [],
   "source": [
    "# Enter the solution here:\n",
    "\n",
    "# Number of days company should operate mine 1:\n",
    "m_1 = ...\n",
    "\n",
    "# Number of days company should operate mine 2:\n",
    "m_2 = ...\n",
    "\n",
    "# Number of days company should operate mine 3:\n",
    "m_3 = ..."
   ]
  },
  {
   "cell_type": "code",
   "execution_count": null,
   "metadata": {
    "deletable": false,
    "editable": false
   },
   "outputs": [],
   "source": [
    "grader.check(\"q2e\")"
   ]
  },
  {
   "attachments": {},
   "cell_type": "markdown",
   "metadata": {
    "deletable": false,
    "editable": false
   },
   "source": [
    "<!-- BEGIN QUESTION -->\n",
    "\n",
    "<hr style=\"border: 5px solid #003262;\" />\n",
    "<hr style=\"border: 1px solid #fdb515;\" />\n",
    "\n",
    "\n",
    "## <span style='color:Red'>   Question 3a (2 pts) ###\n",
    "\n",
    "\n",
    "Shown below is the traffic pattern in the downtown area of a large city. The figures\n",
    "give the number of cars per hour traveling along each road. Any car that drives\n",
    "into an intersection must also leave the intersection. This means that the number of\n",
    "cars entering an intersection in an hour is equal to the number of cars leaving the\n",
    "intersection.\n",
    "\n",
    "<img src=\"img/traffic.png\"> \n"
   ]
  },
  {
   "cell_type": "markdown",
   "metadata": {
    "deletable": false,
    "editable": false
   },
   "source": [
    "#### Question 3a Solution) "
   ]
  },
  {
   "cell_type": "markdown",
   "metadata": {
    "tags": [
     "otter_answer_cell"
    ]
   },
   "source": [
    "**Type your work answering to Question 3a** in this cell (use LaTeX).  Show all of your steps and fully justify your answer.  Do not add any additional cells to this part.  "
   ]
  },
  {
   "cell_type": "markdown",
   "metadata": {
    "deletable": false,
    "editable": false
   },
   "source": [
    "<!-- END QUESTION -->\n",
    "\n",
    "## <span style='color:Red'>   Question 3b (1 pt) ###\n",
    "Write this system as an augmented matrix using SymPy. Assign it to the variable `D`.  (For the autograder to work, write your augmented matrix so that the first entry in each row is positive, not negative)."
   ]
  },
  {
   "cell_type": "code",
   "execution_count": null,
   "metadata": {
    "tags": [
     "otter_answer_cell"
    ]
   },
   "outputs": [],
   "source": [
    "D = ...\n",
    "D"
   ]
  },
  {
   "cell_type": "code",
   "execution_count": null,
   "metadata": {
    "deletable": false,
    "editable": false
   },
   "outputs": [],
   "source": [
    "grader.check(\"q3b\")"
   ]
  },
  {
   "cell_type": "markdown",
   "metadata": {
    "deletable": false,
    "editable": false
   },
   "source": [
    "## <span style='color:Red'>   Question 3c (1 pt) ###\n",
    "\n",
    "\n",
    "\n",
    "Use sympy to find the RREF of matrix D.  Save the RREF matrix to the variable named `D_rref`. "
   ]
  },
  {
   "cell_type": "code",
   "execution_count": null,
   "metadata": {
    "tags": [
     "otter_answer_cell"
    ]
   },
   "outputs": [],
   "source": [
    "D_rref = ...\n",
    "D_rref"
   ]
  },
  {
   "cell_type": "code",
   "execution_count": null,
   "metadata": {
    "deletable": false,
    "editable": false
   },
   "outputs": [],
   "source": [
    "grader.check(\"q3c\")"
   ]
  },
  {
   "cell_type": "markdown",
   "metadata": {
    "deletable": false,
    "editable": false
   },
   "source": [
    "## <span style='color:Red'>   Question 3d (1 pt) ###\n",
    "\n",
    "**Multiple Choice:**\n",
    "Based on the RREF matrix you found above, choose the answer that best describes the system of linear equations and then assign the the variable  `ans_3d` to the corresponding letter (as a capital letter string `'A'`,`'B'`, or `'C'`) to  below to indicate your answer.  Replace the ellipses (`...`) with your answer. \n",
    "\n",
    "A).  The system is inconsistent\n",
    "\n",
    "B).  The system is consistent and the solution is unique\n",
    "\n",
    "C).  The system is consistent and the solution is not unique.  "
   ]
  },
  {
   "cell_type": "code",
   "execution_count": null,
   "metadata": {
    "tags": [
     "otter_answer_cell"
    ]
   },
   "outputs": [],
   "source": [
    "ans_3d = ...\n",
    "\n",
    "# We've put this next line in this cell \n",
    "# so that it will print the value you've given to ans_1c when you run it.  \n",
    "# You don't need to change this:\n",
    "ans_3d\n"
   ]
  },
  {
   "cell_type": "code",
   "execution_count": null,
   "metadata": {
    "deletable": false,
    "editable": false
   },
   "outputs": [],
   "source": [
    "grader.check(\"q3d\")"
   ]
  },
  {
   "attachments": {},
   "cell_type": "markdown",
   "metadata": {
    "deletable": false,
    "editable": false
   },
   "source": [
    "<!-- BEGIN QUESTION -->\n",
    "\n",
    "## <span style='color:Red'>   Question 3e (2 pt) ###\n",
    "\n",
    "Use the RREF to find the solution set to the system of linear equations.  Then explain why this answer makes sense given the context of the problem.\n",
    "\n",
    "Type your answers using LaTeX in the cell below.  \n",
    "To use LaTeX, place your math in between dollar signs **WITHOUT ANY SPACES before or after the dollar signs**:\n",
    "\n",
    "<img src=\"img/Latex.png\"> \n"
   ]
  },
  {
   "cell_type": "markdown",
   "metadata": {
    "tags": [
     "otter_answer_cell"
    ]
   },
   "source": [
    "**Type your work answering Question 3e** in this cell (use LaTeX).  Show all of your steps and fully justify your answer.  Explain why this answer makes sense given the context of the problem.   Do not add any additional cells to this part.  "
   ]
  },
  {
   "cell_type": "markdown",
   "metadata": {
    "deletable": false,
    "editable": false
   },
   "source": [
    "<!-- END QUESTION -->\n",
    "\n",
    "<hr style=\"border: 5px solid #003262;\" />\n",
    "<hr style=\"border: 1px solid #fdb515;\" />\n",
    "\n",
    "\n",
    "## <span style='color:Red'>   Question 4 (xxx pt) ###\n",
    "\n"
   ]
  },
  {
   "cell_type": "markdown",
   "metadata": {},
   "source": [
    "In a previous math classes, you have probably seen the fact that, if we are given two points in the plane, then there is a unique line passing through both of them. In this problem, we will begin with the four points on the left below and ask to find a polynomial that passes through these four points as shown on the right."
   ]
  },
  {
   "cell_type": "markdown",
   "metadata": {},
   "source": [
    "<img src=\"img/parabola.png\"> "
   ]
  },
  {
   "cell_type": "markdown",
   "metadata": {},
   "source": [
    "A degree three polynomial can be written as\n",
    "$$p(x) = a+bx+cx^2+dx^3$$\n",
    "where $a$, $b$, $c$ and $d$ are coefficients that we would like to determine.  "
   ]
  },
  {
   "cell_type": "markdown",
   "metadata": {
    "deletable": false,
    "editable": false
   },
   "source": [
    "<!-- BEGIN QUESTION -->\n",
    "\n",
    "## <span style='color:Red'>   Question 4a (2 pts) ###\n",
    "\n",
    "Write the four linear equations for the coefficients obtained by requiring that the graph of the polynomial \n",
    " passes through the four points above.\n",
    "\n"
   ]
  },
  {
   "cell_type": "markdown",
   "metadata": {
    "deletable": false,
    "editable": false
   },
   "source": [
    "#### Question 4a Solution) "
   ]
  },
  {
   "cell_type": "markdown",
   "metadata": {
    "tags": [
     "otter_answer_cell"
    ]
   },
   "source": [
    "**Type your work answering Question 4a** in this cell.   Do not add any additional cells to this part.  "
   ]
  },
  {
   "cell_type": "markdown",
   "metadata": {
    "deletable": false,
    "editable": false
   },
   "source": [
    "<!-- END QUESTION -->\n",
    "\n",
    "## <span style='color:Red'>   Question 4b (1 pts) ###\n",
    "\n",
    "\n",
    "\n",
    "Use SymPy to write the system as an augmented matrix and then find the RREF.  "
   ]
  },
  {
   "cell_type": "code",
   "execution_count": null,
   "metadata": {
    "tags": [
     "otter_answer_cell"
    ]
   },
   "outputs": [],
   "source": [
    "\n",
    "q4_aug = ...\n",
    "\n",
    "q4_rref = ...\n",
    "\n",
    "q4_rref"
   ]
  },
  {
   "cell_type": "code",
   "execution_count": null,
   "metadata": {
    "deletable": false,
    "editable": false
   },
   "outputs": [],
   "source": [
    "grader.check(\"q4b\")"
   ]
  },
  {
   "cell_type": "markdown",
   "metadata": {
    "deletable": false,
    "editable": false
   },
   "source": [
    "## <span style='color:Red'>   Question 4c (1 pt) ###\n",
    "\n",
    "Use the RREF to find the solution set to the system of linear equations:\n"
   ]
  },
  {
   "cell_type": "code",
   "execution_count": null,
   "metadata": {
    "tags": [
     "otter_answer_cell"
    ]
   },
   "outputs": [],
   "source": [
    "# Enter the solution here:\n",
    "\n",
    "a = ...\n",
    "\n",
    "b = ...\n",
    "\n",
    "c = ...\n",
    "\n",
    "d = ...\n"
   ]
  },
  {
   "cell_type": "code",
   "execution_count": null,
   "metadata": {
    "deletable": false,
    "editable": false
   },
   "outputs": [],
   "source": [
    "grader.check(\"q4c\")"
   ]
  },
  {
   "cell_type": "markdown",
   "metadata": {},
   "source": [
    "Write the polynomial you found and check your work by graphing it in Desmos and verifying that it passes through the four points.  \n",
    "https://www.desmos.com/calculator"
   ]
  },
  {
   "cell_type": "markdown",
   "metadata": {
    "deletable": false,
    "editable": false
   },
   "source": [
    "<!-- BEGIN QUESTION -->\n",
    "\n",
    "## <span style='color:Red'>   Question 4d (2 pt) ###\n",
    "\n",
    "\n",
    "Rather than looking for a degree three polynomial, suppose we wanted to find a polynomial that passes through the four points and that has degree two, such as\n",
    "\n",
    "$$p(x) = a + bx+cx^2$$\n",
    "\n",
    "Write the augmented matrix for the four linear equations for the coefficients obtained by requiring that the graph of this 2nd degree polynomial passes through the four points above.\n",
    "\n",
    "Then find the RREF for the augmented matrix.\n",
    " "
   ]
  },
  {
   "cell_type": "code",
   "execution_count": null,
   "metadata": {
    "deletable": false,
    "editable": false
   },
   "outputs": [],
   "source": [
    "qd_aug = ...\n",
    "\n",
    "qd_rref = ..,\n",
    "\n",
    "q4_rref"
   ]
  },
  {
   "cell_type": "markdown",
   "metadata": {
    "tags": [
     "otter_answer_cell"
    ]
   },
   "source": [
    "**Question 4d Conclusion**:  What can you say about the existence and uniqueness of a degree two polynomial passing through these four points?   Explain your answer."
   ]
  },
  {
   "cell_type": "markdown",
   "metadata": {
    "deletable": false,
    "editable": false
   },
   "source": [
    "<!-- END QUESTION -->\n",
    "\n",
    "<!-- BEGIN QUESTION -->\n",
    "\n",
    "## <span style='color:Red'>   Question 4e (2 pt) ###"
   ]
  },
  {
   "cell_type": "markdown",
   "metadata": {
    "deletable": false,
    "editable": false
   },
   "source": [
    "Rather than looking for a degree three polynomial, suppose we wanted to find a polynomial that passes through the four points and that has degree four, such as\n",
    "\n",
    "$$p(x) = a + bx+cx^2+dx^3+ex^4$$\n",
    "\n",
    "Write the augmented matrix for the four linear equations for the coefficients obtained by requiring that the graph of this 4th degree polynomial passes through the four points above.\n",
    "\n",
    "Then find the RREF for the augmented matrix.\n",
    "\n",
    "                  \n",
    "\n",
    " "
   ]
  },
  {
   "cell_type": "code",
   "execution_count": null,
   "metadata": {
    "deletable": false,
    "editable": false
   },
   "outputs": [],
   "source": [
    "qe_aug = ...\n",
    "\n",
    "qe_rref = ..,\n",
    "\n",
    "qe_rref"
   ]
  },
  {
   "cell_type": "markdown",
   "metadata": {
    "tags": [
     "otter_answer_cell"
    ]
   },
   "source": [
    "**Question 4e**:  What can you say about the existence and uniqueness of a degree 4 \n",
    "polynomial passing through these four points?   Explain your answer."
   ]
  },
  {
   "cell_type": "markdown",
   "metadata": {
    "deletable": false,
    "editable": false
   },
   "source": [
    "<!-- END QUESTION -->\n",
    "\n",
    "<!-- BEGIN QUESTION -->\n",
    "\n",
    "## <span style='color:Red'>   Question 4f (2 pt) ###"
   ]
  },
  {
   "cell_type": "markdown",
   "metadata": {
    "deletable": false,
    "editable": false
   },
   "source": [
    "Suppose you had 10 points $(x,y)$ (with 10 unique x values) and you wanted to find a polynomial passing through each of them. What should the degree of the polynomial be to guarantee that there is exactly one such polynomial? Explain your response."
   ]
  },
  {
   "cell_type": "markdown",
   "metadata": {
    "tags": [
     "otter_answer_cell"
    ]
   },
   "source": [
    "**Type your answer to 4g here**:  "
   ]
  },
  {
   "cell_type": "markdown",
   "metadata": {
    "deletable": false,
    "editable": false
   },
   "source": [
    "<!-- END QUESTION -->\n",
    "\n",
    "<hr style=\"border: 5px solid #003262;\" />\n",
    "<hr style=\"border: 1px solid #fdb515;\" />\n",
    "\n",
    "\n",
    "## <span style='color:Red'>   Question 5  ###"
   ]
  },
  {
   "cell_type": "markdown",
   "metadata": {},
   "source": [
    "Linear systems have applications in chemistry when balancing chemical equations. When a chemical reaction occurs, molecules of different substances combine to create molecules of other substances. Chemists represent such reactions with chemical equations. To balance a chemical equation means to find the number of atoms of each element involved that will preserve the number of\n",
    "\n",
    "atoms in the reaction. \n",
    "\n",
    "As an example, consider the chemical equation\n",
    "\n",
    "$$C_2H_6 + O_2 → CO_2 + H_2O$$\n",
    "\n",
    "\n",
    "This equation asks about what will happen when the chemicals ethane ($C_2H_6$) and oxygen ($O_2$),\n",
    "called the reactants of the reaction, combine to produce carbon dioxide ($CO_2$) and water ($H_2O$),\n",
    "called the products of the reaction (note that oxygen gas is diatomic, so that oxygen atoms are\n",
    "paired). \n",
    "\n",
    "\n",
    "The arrow indicates that it is the reactants that combine to form the products. \n",
    "\n",
    "Any chemical reaction has to obey the Law of Conservation of Mass that says that mass can neither be created\n",
    "nor destroyed in a chemical reaction.  Consequently, a chemical reaction requires the same number\n",
    "of atoms on both sides of the reaction. \n",
    "\n",
    "In other words, the total mass of the reactants must equal\n",
    "the total mass of the products. In the reaction above, the chemicals involved are made up of carbon\n",
    "(C), hydrogen (H), and oxygen (O) atoms. To balance the equation, we need to know how many\n",
    "molecules of each chemical are combined to preserve the number of atoms of C, H, and O.\n",
    "\n",
    "\n",
    "\n",
    "Let \n",
    " - $x_1$ be the number of molecules of $C_2H_6$, \n",
    " - $x_2$ the number of molecules of $O_2$, \n",
    " - $x_3$ the number of molecules of $CO_2$, \n",
    " - $x_4$ the number of molecules of $H_2O$ in the reaction. \n",
    "\n",
    "We can then represent this reaction as\n",
    "\n",
    "$$x_1C_2H_6 + x_2O_2 \\to x_3CO_2+x_4H_2O$$\n",
    "\n",
    "In each molecule (e.g., ethane $C_2H_6$), the subscripts indicate the number of atoms of each\n",
    "element in the molecule. So 1 molecule of ethane contains 2 atoms of carbon and 6 atoms of\n",
    "hydrogen. Thus, there are 2 atoms of carbon in $C_2H_6$ and 0 atoms of carbon in $O_2$, giving us\n",
    "$2x_1$ carbon atoms in $x_1$ molecules of $C_2H_6$ and 0 carbon atoms in $x_2$ molecules of $O_2$. \n",
    "\n",
    "On the\n",
    "product side of the reaction there is 1 carbon atom in $CO_2$ and 0 carbon atoms in $H_2O$. To balance\n",
    "the reaction, we know that the number of carbon atoms in the products must equal the number of\n",
    "carbon atoms in the reactants."
   ]
  },
  {
   "cell_type": "markdown",
   "metadata": {
    "deletable": false,
    "editable": false
   },
   "source": [
    "<!-- BEGIN QUESTION -->\n",
    "\n",
    "## <span style='color:Red'>   Question 5a (2 pt) ###\n",
    "Write the system of linear equations that models this chemical reaction (hint: set up an equation that balances the number of carbon atoms on both sides of the reaction, then repeat with hydrogen and oxygen). "
   ]
  },
  {
   "cell_type": "markdown",
   "metadata": {
    "deletable": false,
    "editable": false
   },
   "source": [
    "#### Question 5a Solution) "
   ]
  },
  {
   "cell_type": "markdown",
   "metadata": {
    "tags": [
     "otter_answer_cell"
    ]
   },
   "source": [
    "**Type your work answering Question 5a** in this cell, using the align format shown above.    Do not add any additional cells to this part.  "
   ]
  },
  {
   "cell_type": "markdown",
   "metadata": {
    "deletable": false,
    "editable": false
   },
   "source": [
    "<!-- END QUESTION -->\n",
    "\n",
    "## <span style='color:Red'>   Question 5b (1 pt) ###\n",
    "Write this system as an augmented matrix using SymPy. Assign it to the variable `F` (replace the ellipses ... with your solution),\n",
    "\n",
    "(For the autograder to work, write your augmented matrix so that the first entry in each row is positive, not negative)."
   ]
  },
  {
   "cell_type": "code",
   "execution_count": null,
   "metadata": {
    "tags": [
     "otter_answer_cell"
    ]
   },
   "outputs": [],
   "source": [
    "F = ...\n",
    "F"
   ]
  },
  {
   "cell_type": "code",
   "execution_count": null,
   "metadata": {
    "deletable": false,
    "editable": false
   },
   "outputs": [],
   "source": [
    "grader.check(\"q5b\")"
   ]
  },
  {
   "cell_type": "markdown",
   "metadata": {
    "deletable": false,
    "editable": false
   },
   "source": [
    "## <span style='color:Red'>   Question 5c (1 pt) ###\n",
    "\n",
    "\n",
    "\n",
    "Use sympy to find the RREF of matrix F.  Save the RREF matrix to the variable named `F_rref`. "
   ]
  },
  {
   "cell_type": "code",
   "execution_count": null,
   "metadata": {
    "tags": [
     "otter_answer_cell"
    ]
   },
   "outputs": [],
   "source": [
    "F_rref = ...\n",
    "F_rref"
   ]
  },
  {
   "cell_type": "code",
   "execution_count": null,
   "metadata": {
    "deletable": false,
    "editable": false
   },
   "outputs": [],
   "source": [
    "grader.check(\"q5c\")"
   ]
  },
  {
   "cell_type": "markdown",
   "metadata": {
    "deletable": false,
    "editable": false
   },
   "source": [
    "## <span style='color:Red'>   Question 5d (1 pt) ###\n",
    "\n",
    "**Multiple Choice:**\n",
    "Based on the RREF matrix you found above, choose the answer that best describes the system of linear equations and then assign the the variable  `ans_5d` to the corresponding letter (as a capital letter string `'A'`,`'B'`, or `'C'`) to  below to indicate your answer.  Replace the ellipses (`...`) with your answer. \n",
    "\n",
    "A).  The system is inconsistent\n",
    "\n",
    "B).  The system is consistent and the solution is unique\n",
    "\n",
    "C).  The system is consistent and the solution is not unique.  "
   ]
  },
  {
   "cell_type": "code",
   "execution_count": null,
   "metadata": {
    "tags": [
     "otter_answer_cell"
    ]
   },
   "outputs": [],
   "source": [
    "ans_5d = ...\n",
    "\n",
    "# We've put this next line in this cell \n",
    "# so that it will print the value you've given to ans_1c when you run it.  \n",
    "# You don't need to change this:\n",
    "ans_5d\n"
   ]
  },
  {
   "cell_type": "code",
   "execution_count": null,
   "metadata": {
    "deletable": false,
    "editable": false
   },
   "outputs": [],
   "source": [
    "grader.check(\"q5d\")"
   ]
  },
  {
   "cell_type": "markdown",
   "metadata": {
    "deletable": false,
    "editable": false
   },
   "source": [
    "## <span style='color:Red'>   Question 5e (2 pts) ###\n",
    "\n",
    "Note that we cannot have a fraction of a molecule in our reaction.  To \"balance\" the reaction, we find the minimum values for $x_1$, $x_2$, $x_3$ and $x_4$ that don't have fractions of molecules in the reaction.  \n",
    "                                                                                                                         \n",
    "                                                                                                                    "
   ]
  },
  {
   "cell_type": "code",
   "execution_count": null,
   "metadata": {
    "tags": [
     "otter_answer_cell"
    ]
   },
   "outputs": [],
   "source": [
    "# Enter the balanced reaction solution here:\n",
    "\n",
    "\n",
    "x_1 = ...\n",
    "\n",
    "x_2 = ...\n",
    "\n",
    "\n",
    "x_3 = ...\n",
    "\n",
    "x_4 = ..."
   ]
  },
  {
   "cell_type": "code",
   "execution_count": null,
   "metadata": {
    "deletable": false,
    "editable": false
   },
   "outputs": [],
   "source": [
    "grader.check(\"q5e\")"
   ]
  },
  {
   "cell_type": "markdown",
   "metadata": {},
   "source": [
    "<hr style=\"border: 5px solid #003262;\" />\n",
    "<hr style=\"border: 1px solid #fdb515;\" />\n",
    "\n",
    "## <span style='color:Red'>   Question 6  ###\n",
    "\n",
    "\n",
    "\n",
    "### Operation Counts for RREF\n",
    "Let's examine the computational costs associated with RREF.  Keep in mind though that raw computational cost is not the only thing that determines the performance of an algorithm.  In future lessons we'll look at how memory access of an algorithm can play a large role in the overall performance of an implementation.  \n"
   ]
  },
  {
   "cell_type": "markdown",
   "metadata": {},
   "source": [
    "On typical modern architectures there is only a slight difference between the time it takes to multiply or add two floating-point numbers, so we'll lump these two operations together and refer to them as FLOPS (floating-point operations). "
   ]
  },
  {
   "cell_type": "markdown",
   "metadata": {},
   "source": [
    "**Getting matrices into RREF**: Assume that $A$ is a real $n \\times n$ matrix given by \n",
    "\n",
    "\n",
    " $A=\\left[{ \n",
    "\\begin{align}\n",
    "   a_{11} \\hspace{2mm} & a_{12} \\hspace{2mm}& & \\cdots & & a_{1n} \\\\\n",
    "a_{21}\\hspace{2mm} & a_{22} & & \\cdots & & a_{2n} \\\\\n",
    "\\vdots \\hspace{2mm} & \\vdots & &        & & \\vdots \\\\\n",
    "a_{m1}\\hspace{2mm} & a_{m2} & & \\cdots & & a_{mn} \\\\\n",
    "  \\end{align}  }\\right]$\n",
    "\n",
    "\n",
    "\n",
    "\n"
   ]
  },
  {
   "cell_type": "markdown",
   "metadata": {},
   "source": [
    "Our goal is to transform a matrix to its reduced row echelon\n",
    "form, which looks something like this:\n",
    "\n",
    " $\\left[{ \n",
    "\\begin{align}\n",
    "1 &\\hspace{2mm} 0 &\\hspace{2mm}0  & \\cdots &0 &\\hspace{2mm} 0 \\\\\n",
    "0 & \\hspace{2mm}1 &\\hspace{2mm} 0 & \\cdots &0 &\\hspace{2mm} 0 \\\\\n",
    "\\vdots &\\hspace{2mm} \\vdots & &        & & \\vdots \\\\\n",
    "0 &\\hspace{2mm} 0 &\\hspace{2mm} & \\cdots & & \\hspace{2mm}1 \\\\\n",
    " \\end{align}  \n",
    "}\\right]$\n",
    "\n",
    "\n",
    "\n",
    " We are mainly interested in the case when $n$ \n",
    " is very large, which is when we need to worry about how much effort is required.\n",
    "\n",
    "Let’s first consider the effort required to replace one entry in the matrix with a 0.    \n",
    "\n",
    "To replace one number in the matrix with 0 requires us to multiply each entry in some row by some number, which takes $n$ FLOPS, and then add the resulting entries to the row that contains the entry we want to replace with 0, which requires another $n$ FLOPS. \n",
    "                                              \n"
   ]
  },
  {
   "cell_type": "markdown",
   "metadata": {
    "deletable": false,
    "editable": false
   },
   "source": [
    "## <span style='color:Red'>   Question 6a (1 pt) ###\n",
    "\n",
    "**Multiple Choice:**\n",
    "Given an $n$x$n$ matrix, how many FLOPS does it take to replace one entry in the matrix with a $0$?  (Enter your answer as a capital letter string `'A'`,`'B'`, or `'C'`) to  below to indicate your answer.\n",
    "\n",
    "A).  $n$\n",
    "\n",
    "B).  $2n$\n",
    "\n",
    "C).  $n^2$\n",
    "\n",
    "D).  $3n$"
   ]
  },
  {
   "cell_type": "code",
   "execution_count": null,
   "metadata": {
    "tags": [
     "otter_answer_cell"
    ]
   },
   "outputs": [],
   "source": [
    "\n",
    "\n",
    "ans_6a = ...\n",
    "\n"
   ]
  },
  {
   "cell_type": "code",
   "execution_count": null,
   "metadata": {
    "deletable": false,
    "editable": false
   },
   "outputs": [],
   "source": [
    "grader.check(\"q6a\")"
   ]
  },
  {
   "cell_type": "markdown",
   "metadata": {},
   "source": [
    "We perform one replacement operation for every 0 entry\n",
    "\tin the reduced row echelon matrix.  \n",
    "\n",
    "When $n$ is very\n",
    "\tlarge, most of the $n^2$ entries in the reduced row\n",
    "\techelon form are 0 so we need roughly $n^2$\n",
    "\treplacements.  \n",
    "\n",
    "\n",
    "Thus the number of FLOPS\n",
    "\tresulting from the needed replacements is roughly $n^2(2n)$ =\n",
    "\t$2n^3$\n",
    "    \n",
    "    \n",
    "   To make the first non-zero term in each row a 1, each row is scaled roughly one time so there are roughly\n",
    "    $n$ scaling operations, each of which requires $n$\n",
    "    operations.  The number of FLOPS due to scaling is roughly\n",
    "    $n^2$.\n",
    "\n",
    "Therefore, the total number of FLOPS to get a matrix into RREF is roughly\n",
    "     $$2n^3 + n^2$$.  \n",
    "\n",
    "\n",
    "\n",
    "\n",
    "\n",
    "\n",
    "When $n$ is very large, the\n",
    "      $n^2$ term is much smaller than the $n^3$ term. \n",
    "\n",
    "(Caveat: This is a very rough measure of the effort required to find the reduced row echelon form; **a more careful accounting shows that the number of FLOPS is roughly $\\frac{2}{3}n^3$**).  \n",
    "\n",
    "As we have seen, some matrices require more effort than others, but the upshot of this observation is that the effort is proportional to $n^3.$\n",
    "\n",
    "We can think of this in the following way: If the size of the matrix grows by a factor of 10, then the effort required grows by a factor of $10^3$.\n",
    "\n",
    "\n",
    "\n",
    "\n",
    "\n",
    "## <span style='color:Red'>   Question 6b (2 pts) ###\n",
    "\n",
    "\n",
    "\n",
    "\n",
    " To put this into context, imagine we need to solve a linear\n",
    "      system with 10 billion equations and 10 billion variables.  Suppose we have a computer that can perform a trillion\n",
    "       operations every second. \n",
    "How long (in years) would it take to find the RREF for this system?  (Assume 365 days in a year and use the more careful accounting of FLOPS mentioned above).  \n"
   ]
  },
  {
   "cell_type": "code",
   "execution_count": null,
   "metadata": {
    "tags": [
     "otter_answer_cell"
    ]
   },
   "outputs": [],
   "source": [
    "flops = ...\n",
    "\n",
    "int(flops)"
   ]
  },
  {
   "cell_type": "code",
   "execution_count": null,
   "metadata": {
    "deletable": false,
    "editable": false
   },
   "outputs": [],
   "source": [
    "grader.check(\"q6b\")"
   ]
  },
  {
   "cell_type": "markdown",
   "metadata": {},
   "source": [
    "\n",
    "\n",
    "This may seem like an absurd situation, but we use the results\n",
    "      of such a computation **every day.**.\n",
    "      \n",
    "\n",
    "The matrices used in Google's PageRank algorithm are extremely large, with dimensions corresponding to the number of web pages indexed by Google. This number can reach into the billions.\n",
    "Specifically, the \"Google matrix\" or \"connectivity matrix\" represents the entire web graph, where each row and column corresponds to a web page, and a non-zero entry indicates a hyperlink between pages. Given the vastness of the internet, this results in matrices with dimensions potentially exceeding ten billion by ten billion.\n",
    "\n",
    "\n",
    "\n",
    "Clearly, we will need some better tools to deal with\n",
    "      really big problems like this one - we will soon learn these in our course!\n",
    "\n",
    "\t\n",
    "      \n",
    "     \n",
    "      \n",
    "\n",
    "     \n",
    "\n",
    "\n",
    "\n",
    "          \n",
    "\n",
    "  "
   ]
  },
  {
   "cell_type": "markdown",
   "metadata": {},
   "source": [
    "<hr style=\"border: 5px solid #003262;\" />\n",
    "<hr style=\"border: 1px solid #fdb515;\" />\n",
    "\n",
    "\n",
    "## <span style='color:Red'>   Question 7  ###\n",
    "\n"
   ]
  },
  {
   "cell_type": "markdown",
   "metadata": {},
   "source": [
    "In Question 6, we looked at one computational limitation of solving systems of equations this way: once a matrix gets to be too big, it is not reasonable to apply Gaussian elimination to find its reduced row echelon form.\n",
    "    \n",
    "In this exercise, we will see another limitation: computer arithmetic with real numbers is only an approximation because computers represent real numbers with only a finite number of bits. For instance, the number pi:\n",
    "\n",
    "$$\\pi = $$\n",
    "\n",
    "would be approximated inside a computer by, say,\n",
    "\n",
    "$$\\pi  = $$\n",
    "\n",
    "Most of the time, this is not a problem. However, when we perform millions or even billions of arithmetic operations, the error in these approximations starts to accumulate and can lead to results that are wildly inaccurate. \n",
    "\n",
    "Here are two examples demonstrating this."
   ]
  },
  {
   "cell_type": "markdown",
   "metadata": {
    "deletable": false,
    "editable": false
   },
   "source": [
    "## <span style='color:Red'>   Question 7a (1 pt) ###\n",
    "\n",
    "Let’s first see an example showing that computer arithmetic really is an approximation. First, consider the linear system\n",
    "\n",
    "\n",
    "\\begin{align} \n",
    "x+\\frac{1}{2}y+\\frac{1}{3}z &= 1 \\\\ \n",
    "\\frac{1}{2}x + \\frac{1}{3}y+\\frac{1}{4}z &= 0 \\\\\n",
    "\\frac{1}{3}x+\\frac{1}{4}y+ \\frac{1}{5}z &= 0\n",
    "\\end{align}\n"
   ]
  },
  {
   "cell_type": "markdown",
   "metadata": {
    "deletable": false,
    "editable": false
   },
   "source": [
    "\n",
    "Use SymPy to write the system as an augmented matrix and then find the RREF.  "
   ]
  },
  {
   "cell_type": "code",
   "execution_count": null,
   "metadata": {
    "tags": [
     "otter_answer_cell"
    ]
   },
   "outputs": [],
   "source": [
    "\n",
    "q7a_aug = ...\n",
    "\n",
    "q7a_rref = ...\n",
    "\n",
    "q7a_rref"
   ]
  },
  {
   "cell_type": "code",
   "execution_count": null,
   "metadata": {
    "deletable": false,
    "editable": false
   },
   "outputs": [],
   "source": [
    "grader.check(\"q7a\")"
   ]
  },
  {
   "cell_type": "markdown",
   "metadata": {
    "deletable": false,
    "editable": false
   },
   "source": [
    "## <span style='color:Red'>   Question 7b (1 pt) ###\n",
    "\n",
    "\n",
    "Notice the floating point errors in the RREF matrix above.  What is the correct solution to this system of equations?\n"
   ]
  },
  {
   "cell_type": "code",
   "execution_count": null,
   "metadata": {
    "tags": [
     "otter_answer_cell"
    ]
   },
   "outputs": [],
   "source": [
    "\n",
    "x = ...\n",
    "y = ...\n",
    "z = ...\n"
   ]
  },
  {
   "cell_type": "code",
   "execution_count": null,
   "metadata": {
    "deletable": false,
    "editable": false
   },
   "outputs": [],
   "source": [
    "grader.check(\"q7b\")"
   ]
  },
  {
   "cell_type": "markdown",
   "metadata": {},
   "source": [
    "Fortunately, since SymPy is a symbolic system, it can use symbolic maninpulation to find the RREF for this system and thus give an answer without floating point errors.  However, first you need to define each fraction using the SymPy method `Rational` as follows:\n"
   ]
  },
  {
   "cell_type": "code",
   "execution_count": null,
   "metadata": {},
   "outputs": [],
   "source": [
    "sp.Rational(1,2)"
   ]
  },
  {
   "cell_type": "markdown",
   "metadata": {
    "deletable": false,
    "editable": false
   },
   "source": [
    "## <span style='color:Red'>   Question 7c (1 pt) ###\n",
    "\n"
   ]
  },
  {
   "cell_type": "markdown",
   "metadata": {
    "deletable": false,
    "editable": false
   },
   "source": [
    "\n",
    "Use SymPy to rewrite the system as an augmented matrix where any fractions are rewritten using the `sp.Rational` function then find the RREF.  "
   ]
  },
  {
   "cell_type": "code",
   "execution_count": null,
   "metadata": {
    "tags": [
     "otter_answer_cell"
    ]
   },
   "outputs": [],
   "source": [
    "\n",
    "q7c_aug = ...\n",
    "\n",
    "q7c_rref = ...\n",
    "\n",
    "q7c_rref"
   ]
  },
  {
   "cell_type": "code",
   "execution_count": null,
   "metadata": {
    "deletable": false,
    "editable": false
   },
   "outputs": [],
   "source": [
    "grader.check(\"q7c\")"
   ]
  },
  {
   "cell_type": "markdown",
   "metadata": {
    "deletable": false,
    "editable": false
   },
   "source": [
    "## <span style='color:Red'>   Question 7d (1 pt) ###\n",
    "\n",
    "Another problem that arises is some types of linear systems are particularly sensitive to errors resulting from computers’ approximate arithmetic. For instance, suppose we are interested in the linear system\n",
    "\n",
    "\\begin{align} \n",
    "x+y &= 2 \\\\ \n",
    "x+1.001y &= 2 \\\\ \n",
    "\\end{align}\n"
   ]
  },
  {
   "cell_type": "markdown",
   "metadata": {
    "deletable": false,
    "editable": false
   },
   "source": [
    "\n",
    "Use SymPy to write the system as an augmented matrix, find the RREF and find the solutoin to the system.  "
   ]
  },
  {
   "cell_type": "code",
   "execution_count": null,
   "metadata": {
    "tags": [
     "otter_answer_cell"
    ]
   },
   "outputs": [],
   "source": [
    "\n",
    "q7d_aug = ...\n",
    "\n",
    "q7d_rref = q7d_aug.rref(pivots = False)\n",
    "\n",
    "q7d_rref"
   ]
  },
  {
   "cell_type": "code",
   "execution_count": null,
   "metadata": {
    "tags": [
     "otter_answer_cell"
    ]
   },
   "outputs": [],
   "source": [
    "#Solution to system:\n",
    "\n",
    "q7d_x = ...\n",
    "q7d_y = ..."
   ]
  },
  {
   "cell_type": "code",
   "execution_count": null,
   "metadata": {
    "deletable": false,
    "editable": false
   },
   "outputs": [],
   "source": [
    "grader.check(\"q7d\")"
   ]
  },
  {
   "cell_type": "markdown",
   "metadata": {
    "deletable": false,
    "editable": false
   },
   "source": [
    "## <span style='color:Red'>   Question 7e (1 pt) ###\n",
    "\n",
    "Suppose now that the computer has accumulated some error in one of the entries of this system so that it incorrectly stores the system as\n",
    "\n",
    "\\begin{align} \n",
    "x+y &= 2 \\\\ \n",
    "x+1.001y &= 2.001 \\\\ \n",
    "\\end{align}\n"
   ]
  },
  {
   "cell_type": "markdown",
   "metadata": {
    "deletable": false,
    "editable": false
   },
   "source": [
    "\n",
    "Use SymPy to write the system as an augmented matrix, find the RREF and find the solution to the system.  "
   ]
  },
  {
   "cell_type": "code",
   "execution_count": null,
   "metadata": {
    "tags": [
     "otter_answer_cell"
    ]
   },
   "outputs": [],
   "source": [
    "\n",
    "q7e_aug = ...\n",
    "\n",
    "q7e_rref = q7e_aug.rref(pivots = False)\n",
    "\n",
    "q7e_rref"
   ]
  },
  {
   "cell_type": "code",
   "execution_count": null,
   "metadata": {
    "tags": [
     "otter_answer_cell"
    ]
   },
   "outputs": [],
   "source": [
    "#Solution to system:\n",
    "\n",
    "q7e_x = ...\n",
    "q7e_y = ..."
   ]
  },
  {
   "cell_type": "code",
   "execution_count": null,
   "metadata": {
    "deletable": false,
    "editable": false
   },
   "outputs": [],
   "source": [
    "grader.check(\"q7e\")"
   ]
  },
  {
   "cell_type": "markdown",
   "metadata": {},
   "source": [
    "Notice how a small error in one of the entries in the linear system leads to a solution that has a dramatically large error!  Fortunately, this is an issue that has been well studied, and there are techniques that we will learn later in this class that mitigate this type of behavior."
   ]
  },
  {
   "cell_type": "markdown",
   "metadata": {},
   "source": [
    "<hr style=\"border: 5px solid #003262;\" />\n",
    "<hr style=\"border: 1px solid #fdb515;\" />\n"
   ]
  },
  {
   "cell_type": "markdown",
   "metadata": {},
   "source": [
    "### Submission Instructions\n",
    "\n",
    "Before proceeding any further, **save this notebook.**\n",
    "\n",
    "Then run the cell below to double check that you don't have any spaces between dollar signs and text when writing LaTeX:"
   ]
  },
  {
   "cell_type": "code",
   "execution_count": null,
   "metadata": {},
   "outputs": [],
   "source": [
    "# Run this cell before you run the 'grader.export()' cell below.  \n",
    "# It will search for LaTeX errors that will cause the LaTeX compiler to fail.  \n",
    "\n",
    "import simple_latex_checker as slc\n",
    "\n",
    "nb = slc.Nb_checker()\n",
    "nb.run_check(\"lab01.ipynb\")"
   ]
  },
  {
   "cell_type": "markdown",
   "metadata": {},
   "source": [
    "After running the `grader.export()` cell provided below, **2 files will be created**: a zip file and pdf file.  You can download them using the links provided below OR by finding them in the same folder where this juptyer notebook resides in your JuptyerHub.\n",
    "\n",
    "To receive credit on this assignment, **you must submit BOTH of these files\n",
    "to their respective Gradescope portals:** \n",
    "\n",
    "\n",
    "* **Lab 1 Autograded**: Submit the zip file that is output by the `grader.export()` cell below to the Lab 1 Autograded assignment in Gradescope.\n",
    "\n",
    "* **Lab 1 Manually Graded**: Submit your lab01.PDF to the Lab 1 Manually Graded assignment in Gradescope.  **It is your responsibility to fully review your PDF file before submitting and make sure that all your lines of code are visible and any LaTeX has correctly compiled and is fully viewable.**  **YOU MUST SELECT THE PAGES CORRESPONDING TO EACH QUESTION WHEN YOU UPLOAD TO GRADESCOPE.** If not, you will lose points.    \n",
    "\n",
    "[TROUBLESHOOTING TIPS](https://docs.google.com/document/d/1ndr3Wj1PSF5qzlLMaBJznwh6QGeEXjd5TAJ6nf9EJvo/edit?usp=sharing)  If you are having any issues compiling your assignment, please read through these troubleshooting tips first, then post any questions on Piazza.  \n",
    "\n",
    "**You are responsible for ensuring your submission follows our requirements. We will not be granting regrade requests nor extensions to submissions that don't follow instructions.** If you encounter any difficulties with submission, please don't hesitate to reach out to staff prior to the deadline."
   ]
  },
  {
   "cell_type": "code",
   "execution_count": null,
   "metadata": {},
   "outputs": [],
   "source": []
  },
  {
   "cell_type": "markdown",
   "metadata": {
    "deletable": false,
    "editable": false
   },
   "source": [
    "## Submission\n",
    "\n",
    "Make sure you have run all cells in your notebook in order before running the cell below, so that all images/graphs appear in the output. The cell below will generate a zip file for you to submit. **Please save before exporting!**\n",
    "\n",
    "AFTER running the cell below, click on <a href='lab01.pdf' download>this link to download the PDF </a> to upload to Gradescope.  There will be a separate link that appears after running the cell below with a link to download the zip file to upload to Gradescope."
   ]
  },
  {
   "cell_type": "code",
   "execution_count": null,
   "metadata": {
    "deletable": false,
    "editable": false
   },
   "outputs": [],
   "source": [
    "# Save your notebook first, then run this cell to export your submission.\n",
    "grader.export(run_tests=True)"
   ]
  },
  {
   "cell_type": "markdown",
   "metadata": {},
   "source": [
    " "
   ]
  }
 ],
 "metadata": {
  "kernelspec": {
   "display_name": "Python 3 (ipykernel)",
   "language": "python",
   "name": "python3"
  },
  "language_info": {
   "codemirror_mode": {
    "name": "ipython",
    "version": 3
   },
   "file_extension": ".py",
   "mimetype": "text/x-python",
   "name": "python",
   "nbconvert_exporter": "python",
   "pygments_lexer": "ipython3",
   "version": "3.11.9"
  },
  "otter": {
   "OK_FORMAT": true,
   "tests": {
    "q1a": {
     "name": "q1a",
     "points": 1,
     "suites": [
      {
       "cases": [
        {
         "code": ">>> assert B.equals(sp.Matrix([[1, 2, -1, 1], [3, 2, 2, 7], [-1, 0, 4, -3]]))\n",
         "hidden": false,
         "locked": false
        }
       ],
       "scored": true,
       "setup": "",
       "teardown": "",
       "type": "doctest"
      }
     ]
    },
    "q1b": {
     "name": "q1b",
     "points": 1,
     "suites": [
      {
       "cases": [
        {
         "code": ">>> assert B_rref.equals(sp.Matrix([[1, 0, 0, 3], [0, 1, 0, -1], [0, 0, 1, 0]]))\n",
         "hidden": false,
         "locked": false
        }
       ],
       "scored": true,
       "setup": "",
       "teardown": "",
       "type": "doctest"
      }
     ]
    },
    "q1c": {
     "name": "q1c",
     "points": 1,
     "suites": [
      {
       "cases": [
        {
         "code": ">>> assert get_hash(ans_1c) == '9d5ed678fe57bcca610140957afab571'\n",
         "hidden": false,
         "locked": false
        }
       ],
       "scored": true,
       "setup": "",
       "teardown": "",
       "type": "doctest"
      }
     ]
    },
    "q1d": {
     "name": "q1d",
     "points": 1,
     "suites": [
      {
       "cases": [
        {
         "code": ">>> assert get_hash(x) == 'eccbc87e4b5ce2fe28308fd9f2a7baf3'\n",
         "hidden": false,
         "locked": false
        },
        {
         "code": ">>> assert get_hash(y) == '6bb61e3b7bce0931da574d19d1d82c88'\n",
         "hidden": false,
         "locked": false
        },
        {
         "code": ">>> assert get_hash(z) == 'cfcd208495d565ef66e7dff9f98764da'\n",
         "hidden": false,
         "locked": false
        }
       ],
       "scored": true,
       "setup": "",
       "teardown": "",
       "type": "doctest"
      }
     ]
    },
    "q2b": {
     "name": "q2b",
     "points": 1,
     "suites": [
      {
       "cases": [
        {
         "code": ">>> assert C.equals(sp.Matrix([[25, 30, 20, 550], [600, 500, 550, 11350], [15, 10, 12, 250]]))\n",
         "hidden": false,
         "locked": false
        }
       ],
       "scored": true,
       "setup": "",
       "teardown": "",
       "type": "doctest"
      }
     ]
    },
    "q2c": {
     "name": "q2c",
     "points": 1,
     "suites": [
      {
       "cases": [
        {
         "code": ">>> assert C_rref.equals(sp.Matrix([[1, 0, 0, 6], [0, 1, 0, 10], [0, 0, 1, 5]]))\n",
         "hidden": false,
         "locked": false
        }
       ],
       "scored": true,
       "setup": "",
       "teardown": "",
       "type": "doctest"
      }
     ]
    },
    "q2d": {
     "name": "q2d",
     "points": 1,
     "suites": [
      {
       "cases": [
        {
         "code": ">>> assert get_hash(ans_2d) == '9d5ed678fe57bcca610140957afab571'\n",
         "hidden": false,
         "locked": false
        }
       ],
       "scored": true,
       "setup": "",
       "teardown": "",
       "type": "doctest"
      }
     ]
    },
    "q2e": {
     "name": "q2e",
     "points": 1,
     "suites": [
      {
       "cases": [
        {
         "code": ">>> assert get_hash(m_1) == '1679091c5a880faf6fb5e6087eb1b2dc'\n",
         "hidden": false,
         "locked": false
        },
        {
         "code": ">>> assert get_hash(m_2) == 'd3d9446802a44259755d38e6d163e820'\n",
         "hidden": false,
         "locked": false
        },
        {
         "code": ">>> assert get_hash(m_3) == 'e4da3b7fbbce2345d7772b0674a318d5'\n",
         "hidden": false,
         "locked": false
        }
       ],
       "scored": true,
       "setup": "",
       "teardown": "",
       "type": "doctest"
      }
     ]
    },
    "q3b": {
     "name": "q3b",
     "points": 1,
     "suites": [
      {
       "cases": [
        {
         "code": ">>> assert D.equals(sp.Matrix([[1, 1, 0, 0, 650], [1, 0, -1, 0, -150], [0, 1, 0, 1, 580], [0, 0, 1, -1, 220]]))\n",
         "hidden": false,
         "locked": false
        }
       ],
       "scored": true,
       "setup": "",
       "teardown": "",
       "type": "doctest"
      }
     ]
    },
    "q3c": {
     "name": "q3c",
     "points": 1,
     "suites": [
      {
       "cases": [
        {
         "code": ">>> assert D_rref.equals(sp.Matrix([[1, 0, 0, -1, 70], [0, 1, 0, 1, 580], [0, 0, 1, -1, 220], [0, 0, 0, 0, 0]]))\n",
         "hidden": false,
         "locked": false
        }
       ],
       "scored": true,
       "setup": "",
       "teardown": "",
       "type": "doctest"
      }
     ]
    },
    "q3d": {
     "name": "q3d",
     "points": 1,
     "suites": [
      {
       "cases": [
        {
         "code": ">>> assert get_hash(ans_3d) == '0d61f8370cad1d412f80b84d143e1257'\n",
         "hidden": false,
         "locked": false
        }
       ],
       "scored": true,
       "setup": "",
       "teardown": "",
       "type": "doctest"
      }
     ]
    },
    "q4b": {
     "name": "q4b",
     "points": 1,
     "suites": [
      {
       "cases": [
        {
         "code": ">>> assert q4_rref.equals(sp.Matrix([[1, 0, 0, 0, 2], [0, 1, 0, 0, 17 / 3], [0, 0, 1, 0, -6], [0, 0, 0, 1, 4 / 3]]))\n",
         "hidden": false,
         "locked": false
        }
       ],
       "scored": true,
       "setup": "",
       "teardown": "",
       "type": "doctest"
      }
     ]
    },
    "q4c": {
     "name": "q4c",
     "points": 1,
     "suites": [
      {
       "cases": [
        {
         "code": ">>> assert get_hash(a) == 'c81e728d9d4c2f636f067f89cc14862c'\n",
         "hidden": false,
         "locked": false
        },
        {
         "code": ">>> assert get_hash(b) == '3eb144030541c0e93648f2dbe0a5e9d4'\n",
         "hidden": false,
         "locked": false
        },
        {
         "code": ">>> assert get_hash(c) == '596a3d04481816330f07e4f97510c28f'\n",
         "hidden": false,
         "locked": false
        },
        {
         "code": ">>> assert get_hash(d) == 'e961790f25479f55fb4359e0b7a1f170'\n",
         "hidden": false,
         "locked": false
        }
       ],
       "scored": true,
       "setup": "",
       "teardown": "",
       "type": "doctest"
      }
     ]
    },
    "q5b": {
     "name": "q5b",
     "points": 1,
     "suites": [
      {
       "cases": [
        {
         "code": ">>> assert F.equals(sp.Matrix([[2, 0, -1, 0, 0], [6, 0, 0, -2, 0], [0, 2, -2, -1, 0]]))\n",
         "hidden": false,
         "locked": false
        }
       ],
       "scored": true,
       "setup": "",
       "teardown": "",
       "type": "doctest"
      }
     ]
    },
    "q5c": {
     "name": "q5c",
     "points": 1,
     "suites": [
      {
       "cases": [
        {
         "code": ">>> assert F_rref.equals(sp.Matrix([[1, 0, 0, -1 / 3, 0], [0, 1, 0, -7 / 6, 0], [0, 0, 1, -2 / 3, 0]]))\n",
         "hidden": false,
         "locked": false
        }
       ],
       "scored": true,
       "setup": "",
       "teardown": "",
       "type": "doctest"
      }
     ]
    },
    "q5d": {
     "name": "q5d",
     "points": 1,
     "suites": [
      {
       "cases": [
        {
         "code": ">>> assert get_hash(ans_5d) == '0d61f8370cad1d412f80b84d143e1257'\n",
         "hidden": false,
         "locked": false
        }
       ],
       "scored": true,
       "setup": "",
       "teardown": "",
       "type": "doctest"
      }
     ]
    },
    "q5e": {
     "name": "q5e",
     "points": 2,
     "suites": [
      {
       "cases": [
        {
         "code": ">>> assert get_hash(x_1) == 'c81e728d9d4c2f636f067f89cc14862c'\n",
         "hidden": false,
         "locked": false
        },
        {
         "code": ">>> assert get_hash(x_2) == '8f14e45fceea167a5a36dedd4bea2543'\n",
         "hidden": false,
         "locked": false
        },
        {
         "code": ">>> assert get_hash(x_3) == 'a87ff679a2f3e71d9181a67b7542122c'\n",
         "hidden": false,
         "locked": false
        },
        {
         "code": ">>> assert get_hash(x_4) == '1679091c5a880faf6fb5e6087eb1b2dc'\n",
         "hidden": false,
         "locked": false
        }
       ],
       "scored": true,
       "setup": "",
       "teardown": "",
       "type": "doctest"
      }
     ]
    },
    "q6a": {
     "name": "q6a",
     "points": 1,
     "suites": [
      {
       "cases": [
        {
         "code": ">>> assert get_hash(ans_6a) == '9d5ed678fe57bcca610140957afab571'\n",
         "hidden": false,
         "locked": false
        }
       ],
       "scored": true,
       "setup": "",
       "teardown": "",
       "type": "doctest"
      }
     ]
    },
    "q6b": {
     "name": "q6b",
     "points": 2,
     "suites": [
      {
       "cases": [
        {
         "code": ">>> assert get_hash(int(flops)) == '853f8d9400d4b6bb731274e31bb18cf2'\n",
         "hidden": false,
         "locked": false
        }
       ],
       "scored": true,
       "setup": "",
       "teardown": "",
       "type": "doctest"
      }
     ]
    },
    "q7a": {
     "name": "q7a",
     "points": 1,
     "suites": [
      {
       "cases": [
        {
         "code": ">>> assert q7a_rref.equals(sp.Matrix([[1, 1 / 2, 1 / 3, 1], [1 / 2, 1 / 3, 1 / 4, 0], [1 / 3, 1 / 4, 1 / 5, 0]]).rref()[0])\n",
         "hidden": false,
         "locked": false
        }
       ],
       "scored": true,
       "setup": "",
       "teardown": "",
       "type": "doctest"
      }
     ]
    },
    "q7b": {
     "name": "q7b",
     "points": 1,
     "suites": [
      {
       "cases": [
        {
         "code": ">>> assert get_hash(x) == '45c48cce2e2d7fbdea1afc51c7c6ad26'\n",
         "hidden": false,
         "locked": false
        },
        {
         "code": ">>> assert get_hash(y) == '93a96fc765dbe53f12d0d3f1e62eaa98'\n",
         "hidden": false,
         "locked": false
        },
        {
         "code": ">>> assert get_hash(z) == '34173cb38f07f89ddbebc2ac9128303f'\n",
         "hidden": false,
         "locked": false
        }
       ],
       "scored": true,
       "setup": "",
       "teardown": "",
       "type": "doctest"
      }
     ]
    },
    "q7c": {
     "name": "q7c",
     "points": 1,
     "suites": [
      {
       "cases": [
        {
         "code": ">>> assert q7c_rref.equals(sp.Matrix([[1, 0, 0, 9], [0, 1, 0, -36], [0, 0, 1, 30]]).rref()[0])\n",
         "hidden": false,
         "locked": false
        }
       ],
       "scored": true,
       "setup": "",
       "teardown": "",
       "type": "doctest"
      }
     ]
    },
    "q7d": {
     "name": "q7d",
     "points": 1,
     "suites": [
      {
       "cases": [
        {
         "code": ">>> assert get_hash(q7d_x) == 'c81e728d9d4c2f636f067f89cc14862c'\n",
         "hidden": false,
         "locked": false
        },
        {
         "code": ">>> assert get_hash(q7d_y) == 'cfcd208495d565ef66e7dff9f98764da'\n",
         "hidden": false,
         "locked": false
        }
       ],
       "scored": true,
       "setup": "",
       "teardown": "",
       "type": "doctest"
      }
     ]
    },
    "q7e": {
     "name": "q7e",
     "points": 1,
     "suites": [
      {
       "cases": [
        {
         "code": ">>> assert get_hash(q7e_x) == 'c4ca4238a0b923820dcc509a6f75849b'\n",
         "hidden": false,
         "locked": false
        },
        {
         "code": ">>> assert get_hash(q7e_y) == 'c4ca4238a0b923820dcc509a6f75849b'\n",
         "hidden": false,
         "locked": false
        }
       ],
       "scored": true,
       "setup": "",
       "teardown": "",
       "type": "doctest"
      }
     ]
    }
   }
  }
 },
 "nbformat": 4,
 "nbformat_minor": 4
}
